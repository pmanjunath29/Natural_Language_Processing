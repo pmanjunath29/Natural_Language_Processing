{
  "nbformat": 4,
  "nbformat_minor": 0,
  "metadata": {
    "colab": {
      "provenance": []
    },
    "kernelspec": {
      "name": "python3",
      "display_name": "Python 3"
    },
    "language_info": {
      "name": "python"
    },
    "widgets": {
      "application/vnd.jupyter.widget-state+json": {
        "5e3bc0386248463f970fe06366dc9f6a": {
          "model_module": "@jupyter-widgets/controls",
          "model_name": "HBoxModel",
          "model_module_version": "1.5.0",
          "state": {
            "_dom_classes": [],
            "_model_module": "@jupyter-widgets/controls",
            "_model_module_version": "1.5.0",
            "_model_name": "HBoxModel",
            "_view_count": null,
            "_view_module": "@jupyter-widgets/controls",
            "_view_module_version": "1.5.0",
            "_view_name": "HBoxView",
            "box_style": "",
            "children": [
              "IPY_MODEL_9e81649a7acc4935a8d78985e66145d6",
              "IPY_MODEL_b2b860a37828457ea3838987d5d92d78",
              "IPY_MODEL_9203ba3b94e74d07a9a8062f76c573f5"
            ],
            "layout": "IPY_MODEL_3a1a93ad648145ff843e5ebcc7b1bc78"
          }
        },
        "9e81649a7acc4935a8d78985e66145d6": {
          "model_module": "@jupyter-widgets/controls",
          "model_name": "HTMLModel",
          "model_module_version": "1.5.0",
          "state": {
            "_dom_classes": [],
            "_model_module": "@jupyter-widgets/controls",
            "_model_module_version": "1.5.0",
            "_model_name": "HTMLModel",
            "_view_count": null,
            "_view_module": "@jupyter-widgets/controls",
            "_view_module_version": "1.5.0",
            "_view_name": "HTMLView",
            "description": "",
            "description_tooltip": null,
            "layout": "IPY_MODEL_854866988e7749659426bdef927665cb",
            "placeholder": "​",
            "style": "IPY_MODEL_43c71aba17d348268ed1b913c17ba934",
            "value": "100%"
          }
        },
        "b2b860a37828457ea3838987d5d92d78": {
          "model_module": "@jupyter-widgets/controls",
          "model_name": "FloatProgressModel",
          "model_module_version": "1.5.0",
          "state": {
            "_dom_classes": [],
            "_model_module": "@jupyter-widgets/controls",
            "_model_module_version": "1.5.0",
            "_model_name": "FloatProgressModel",
            "_view_count": null,
            "_view_module": "@jupyter-widgets/controls",
            "_view_module_version": "1.5.0",
            "_view_name": "ProgressView",
            "bar_style": "success",
            "description": "",
            "description_tooltip": null,
            "layout": "IPY_MODEL_6777df9b2fe24f328cf651f1770248c2",
            "max": 5488,
            "min": 0,
            "orientation": "horizontal",
            "style": "IPY_MODEL_cd5b9bd160ec4a59b2a6d890cd99f680",
            "value": 5488
          }
        },
        "9203ba3b94e74d07a9a8062f76c573f5": {
          "model_module": "@jupyter-widgets/controls",
          "model_name": "HTMLModel",
          "model_module_version": "1.5.0",
          "state": {
            "_dom_classes": [],
            "_model_module": "@jupyter-widgets/controls",
            "_model_module_version": "1.5.0",
            "_model_name": "HTMLModel",
            "_view_count": null,
            "_view_module": "@jupyter-widgets/controls",
            "_view_module_version": "1.5.0",
            "_view_name": "HTMLView",
            "description": "",
            "description_tooltip": null,
            "layout": "IPY_MODEL_0a37b0a93afe487f9f59e34dd46366e9",
            "placeholder": "​",
            "style": "IPY_MODEL_be0effac907f4075842effd18b8a7dc2",
            "value": " 5488/5488 [00:05&lt;00:00, 1095.65it/s]"
          }
        },
        "3a1a93ad648145ff843e5ebcc7b1bc78": {
          "model_module": "@jupyter-widgets/base",
          "model_name": "LayoutModel",
          "model_module_version": "1.2.0",
          "state": {
            "_model_module": "@jupyter-widgets/base",
            "_model_module_version": "1.2.0",
            "_model_name": "LayoutModel",
            "_view_count": null,
            "_view_module": "@jupyter-widgets/base",
            "_view_module_version": "1.2.0",
            "_view_name": "LayoutView",
            "align_content": null,
            "align_items": null,
            "align_self": null,
            "border": null,
            "bottom": null,
            "display": null,
            "flex": null,
            "flex_flow": null,
            "grid_area": null,
            "grid_auto_columns": null,
            "grid_auto_flow": null,
            "grid_auto_rows": null,
            "grid_column": null,
            "grid_gap": null,
            "grid_row": null,
            "grid_template_areas": null,
            "grid_template_columns": null,
            "grid_template_rows": null,
            "height": null,
            "justify_content": null,
            "justify_items": null,
            "left": null,
            "margin": null,
            "max_height": null,
            "max_width": null,
            "min_height": null,
            "min_width": null,
            "object_fit": null,
            "object_position": null,
            "order": null,
            "overflow": null,
            "overflow_x": null,
            "overflow_y": null,
            "padding": null,
            "right": null,
            "top": null,
            "visibility": null,
            "width": null
          }
        },
        "854866988e7749659426bdef927665cb": {
          "model_module": "@jupyter-widgets/base",
          "model_name": "LayoutModel",
          "model_module_version": "1.2.0",
          "state": {
            "_model_module": "@jupyter-widgets/base",
            "_model_module_version": "1.2.0",
            "_model_name": "LayoutModel",
            "_view_count": null,
            "_view_module": "@jupyter-widgets/base",
            "_view_module_version": "1.2.0",
            "_view_name": "LayoutView",
            "align_content": null,
            "align_items": null,
            "align_self": null,
            "border": null,
            "bottom": null,
            "display": null,
            "flex": null,
            "flex_flow": null,
            "grid_area": null,
            "grid_auto_columns": null,
            "grid_auto_flow": null,
            "grid_auto_rows": null,
            "grid_column": null,
            "grid_gap": null,
            "grid_row": null,
            "grid_template_areas": null,
            "grid_template_columns": null,
            "grid_template_rows": null,
            "height": null,
            "justify_content": null,
            "justify_items": null,
            "left": null,
            "margin": null,
            "max_height": null,
            "max_width": null,
            "min_height": null,
            "min_width": null,
            "object_fit": null,
            "object_position": null,
            "order": null,
            "overflow": null,
            "overflow_x": null,
            "overflow_y": null,
            "padding": null,
            "right": null,
            "top": null,
            "visibility": null,
            "width": null
          }
        },
        "43c71aba17d348268ed1b913c17ba934": {
          "model_module": "@jupyter-widgets/controls",
          "model_name": "DescriptionStyleModel",
          "model_module_version": "1.5.0",
          "state": {
            "_model_module": "@jupyter-widgets/controls",
            "_model_module_version": "1.5.0",
            "_model_name": "DescriptionStyleModel",
            "_view_count": null,
            "_view_module": "@jupyter-widgets/base",
            "_view_module_version": "1.2.0",
            "_view_name": "StyleView",
            "description_width": ""
          }
        },
        "6777df9b2fe24f328cf651f1770248c2": {
          "model_module": "@jupyter-widgets/base",
          "model_name": "LayoutModel",
          "model_module_version": "1.2.0",
          "state": {
            "_model_module": "@jupyter-widgets/base",
            "_model_module_version": "1.2.0",
            "_model_name": "LayoutModel",
            "_view_count": null,
            "_view_module": "@jupyter-widgets/base",
            "_view_module_version": "1.2.0",
            "_view_name": "LayoutView",
            "align_content": null,
            "align_items": null,
            "align_self": null,
            "border": null,
            "bottom": null,
            "display": null,
            "flex": null,
            "flex_flow": null,
            "grid_area": null,
            "grid_auto_columns": null,
            "grid_auto_flow": null,
            "grid_auto_rows": null,
            "grid_column": null,
            "grid_gap": null,
            "grid_row": null,
            "grid_template_areas": null,
            "grid_template_columns": null,
            "grid_template_rows": null,
            "height": null,
            "justify_content": null,
            "justify_items": null,
            "left": null,
            "margin": null,
            "max_height": null,
            "max_width": null,
            "min_height": null,
            "min_width": null,
            "object_fit": null,
            "object_position": null,
            "order": null,
            "overflow": null,
            "overflow_x": null,
            "overflow_y": null,
            "padding": null,
            "right": null,
            "top": null,
            "visibility": null,
            "width": null
          }
        },
        "cd5b9bd160ec4a59b2a6d890cd99f680": {
          "model_module": "@jupyter-widgets/controls",
          "model_name": "ProgressStyleModel",
          "model_module_version": "1.5.0",
          "state": {
            "_model_module": "@jupyter-widgets/controls",
            "_model_module_version": "1.5.0",
            "_model_name": "ProgressStyleModel",
            "_view_count": null,
            "_view_module": "@jupyter-widgets/base",
            "_view_module_version": "1.2.0",
            "_view_name": "StyleView",
            "bar_color": null,
            "description_width": ""
          }
        },
        "0a37b0a93afe487f9f59e34dd46366e9": {
          "model_module": "@jupyter-widgets/base",
          "model_name": "LayoutModel",
          "model_module_version": "1.2.0",
          "state": {
            "_model_module": "@jupyter-widgets/base",
            "_model_module_version": "1.2.0",
            "_model_name": "LayoutModel",
            "_view_count": null,
            "_view_module": "@jupyter-widgets/base",
            "_view_module_version": "1.2.0",
            "_view_name": "LayoutView",
            "align_content": null,
            "align_items": null,
            "align_self": null,
            "border": null,
            "bottom": null,
            "display": null,
            "flex": null,
            "flex_flow": null,
            "grid_area": null,
            "grid_auto_columns": null,
            "grid_auto_flow": null,
            "grid_auto_rows": null,
            "grid_column": null,
            "grid_gap": null,
            "grid_row": null,
            "grid_template_areas": null,
            "grid_template_columns": null,
            "grid_template_rows": null,
            "height": null,
            "justify_content": null,
            "justify_items": null,
            "left": null,
            "margin": null,
            "max_height": null,
            "max_width": null,
            "min_height": null,
            "min_width": null,
            "object_fit": null,
            "object_position": null,
            "order": null,
            "overflow": null,
            "overflow_x": null,
            "overflow_y": null,
            "padding": null,
            "right": null,
            "top": null,
            "visibility": null,
            "width": null
          }
        },
        "be0effac907f4075842effd18b8a7dc2": {
          "model_module": "@jupyter-widgets/controls",
          "model_name": "DescriptionStyleModel",
          "model_module_version": "1.5.0",
          "state": {
            "_model_module": "@jupyter-widgets/controls",
            "_model_module_version": "1.5.0",
            "_model_name": "DescriptionStyleModel",
            "_view_count": null,
            "_view_module": "@jupyter-widgets/base",
            "_view_module_version": "1.2.0",
            "_view_name": "StyleView",
            "description_width": ""
          }
        }
      }
    },
    "accelerator": "GPU",
    "gpuClass": "standard"
  },
  "cells": [
    {
      "cell_type": "markdown",
      "source": [
        "# Analysis of Financial Documents to Forecast Stock Prices"
      ],
      "metadata": {
        "id": "BrenCh37l1o9"
      }
    },
    {
      "cell_type": "code",
      "source": [
        "import pandas as pd\n",
        "import numpy as np\n",
        "import matplotlib.pyplot as plt\n",
        "from tqdm import tqdm_notebook as tqdm\n",
        "import seaborn as sns\n",
        "import nltk\n",
        "nltk.download('punkt')"
      ],
      "metadata": {
        "colab": {
          "base_uri": "https://localhost:8080/"
        },
        "id": "7448CBa9l60c",
        "outputId": "c523531f-ec56-4e08-f4c9-259f6eb68d60"
      },
      "execution_count": null,
      "outputs": [
        {
          "output_type": "stream",
          "name": "stderr",
          "text": [
            "[nltk_data] Downloading package punkt to /root/nltk_data...\n",
            "[nltk_data]   Unzipping tokenizers/punkt.zip.\n"
          ]
        },
        {
          "output_type": "execute_result",
          "data": {
            "text/plain": [
              "True"
            ]
          },
          "metadata": {},
          "execution_count": 1
        }
      ]
    },
    {
      "cell_type": "code",
      "source": [
        "stock_predictions = pd.read_csv('/content/NEWS_YAHOO_stock_prediction.csv')\n",
        "stock_predictions.head()"
      ],
      "metadata": {
        "colab": {
          "base_uri": "https://localhost:8080/",
          "height": 528
        },
        "id": "RnboPL_NmxbQ",
        "outputId": "4b5880fd-1a62-45bf-8579-31c093aa36a5"
      },
      "execution_count": null,
      "outputs": [
        {
          "output_type": "execute_result",
          "data": {
            "text/plain": [
              "   Unnamed: 0 ticker        Date category  \\\n",
              "0           0   AAPL  2020-01-27  opinion   \n",
              "1           1   AAPL  2020-01-27  opinion   \n",
              "2           2   AAPL  2020-01-27  opinion   \n",
              "3           3   AAPL  2020-01-27  opinion   \n",
              "4           4   AAPL  2020-01-27  opinion   \n",
              "\n",
              "                                               title  \\\n",
              "0  Apple Set To Beat Q1 Earnings Estimates  Tech ...   \n",
              "1  Tech Daily  Intel Results  Netflix Surge  Appl...   \n",
              "2  7 Monster Stock Market Predictions For The Wee...   \n",
              "3  Apple Earnings Preview  5G Launch  Expanding S...   \n",
              "4  Buy Surging Apple   Microsoft Stock Before Qua...   \n",
              "\n",
              "                                             content       Open       High  \\\n",
              "0  Technology giant Apple   NASDAQ AAPL   is set ...  77.514999  77.942497   \n",
              "1  The top stories in this digest are Intel s   N...  77.514999  77.942497   \n",
              "2  S P 500  SPY \\nThis week will be packed with e...  77.514999  77.942497   \n",
              "3    Reports Q1 2020 results on Tuesday  Jan  28 ...  77.514999  77.942497   \n",
              "4  On today s episode of Full Court Finance here ...  77.514999  77.942497   \n",
              "\n",
              "         Low      Close  Adj Close     Volume  label  \n",
              "0  76.220001  77.237503  75.793358  161940000      0  \n",
              "1  76.220001  77.237503  75.793358  161940000      0  \n",
              "2  76.220001  77.237503  75.793358  161940000      0  \n",
              "3  76.220001  77.237503  75.793358  161940000      0  \n",
              "4  76.220001  77.237503  75.793358  161940000      0  "
            ],
            "text/html": [
              "\n",
              "  <div id=\"df-a7fb7191-3ee2-4378-ab6f-ba6176759a14\">\n",
              "    <div class=\"colab-df-container\">\n",
              "      <div>\n",
              "<style scoped>\n",
              "    .dataframe tbody tr th:only-of-type {\n",
              "        vertical-align: middle;\n",
              "    }\n",
              "\n",
              "    .dataframe tbody tr th {\n",
              "        vertical-align: top;\n",
              "    }\n",
              "\n",
              "    .dataframe thead th {\n",
              "        text-align: right;\n",
              "    }\n",
              "</style>\n",
              "<table border=\"1\" class=\"dataframe\">\n",
              "  <thead>\n",
              "    <tr style=\"text-align: right;\">\n",
              "      <th></th>\n",
              "      <th>Unnamed: 0</th>\n",
              "      <th>ticker</th>\n",
              "      <th>Date</th>\n",
              "      <th>category</th>\n",
              "      <th>title</th>\n",
              "      <th>content</th>\n",
              "      <th>Open</th>\n",
              "      <th>High</th>\n",
              "      <th>Low</th>\n",
              "      <th>Close</th>\n",
              "      <th>Adj Close</th>\n",
              "      <th>Volume</th>\n",
              "      <th>label</th>\n",
              "    </tr>\n",
              "  </thead>\n",
              "  <tbody>\n",
              "    <tr>\n",
              "      <th>0</th>\n",
              "      <td>0</td>\n",
              "      <td>AAPL</td>\n",
              "      <td>2020-01-27</td>\n",
              "      <td>opinion</td>\n",
              "      <td>Apple Set To Beat Q1 Earnings Estimates  Tech ...</td>\n",
              "      <td>Technology giant Apple   NASDAQ AAPL   is set ...</td>\n",
              "      <td>77.514999</td>\n",
              "      <td>77.942497</td>\n",
              "      <td>76.220001</td>\n",
              "      <td>77.237503</td>\n",
              "      <td>75.793358</td>\n",
              "      <td>161940000</td>\n",
              "      <td>0</td>\n",
              "    </tr>\n",
              "    <tr>\n",
              "      <th>1</th>\n",
              "      <td>1</td>\n",
              "      <td>AAPL</td>\n",
              "      <td>2020-01-27</td>\n",
              "      <td>opinion</td>\n",
              "      <td>Tech Daily  Intel Results  Netflix Surge  Appl...</td>\n",
              "      <td>The top stories in this digest are Intel s   N...</td>\n",
              "      <td>77.514999</td>\n",
              "      <td>77.942497</td>\n",
              "      <td>76.220001</td>\n",
              "      <td>77.237503</td>\n",
              "      <td>75.793358</td>\n",
              "      <td>161940000</td>\n",
              "      <td>0</td>\n",
              "    </tr>\n",
              "    <tr>\n",
              "      <th>2</th>\n",
              "      <td>2</td>\n",
              "      <td>AAPL</td>\n",
              "      <td>2020-01-27</td>\n",
              "      <td>opinion</td>\n",
              "      <td>7 Monster Stock Market Predictions For The Wee...</td>\n",
              "      <td>S P 500  SPY \\nThis week will be packed with e...</td>\n",
              "      <td>77.514999</td>\n",
              "      <td>77.942497</td>\n",
              "      <td>76.220001</td>\n",
              "      <td>77.237503</td>\n",
              "      <td>75.793358</td>\n",
              "      <td>161940000</td>\n",
              "      <td>0</td>\n",
              "    </tr>\n",
              "    <tr>\n",
              "      <th>3</th>\n",
              "      <td>3</td>\n",
              "      <td>AAPL</td>\n",
              "      <td>2020-01-27</td>\n",
              "      <td>opinion</td>\n",
              "      <td>Apple Earnings Preview  5G Launch  Expanding S...</td>\n",
              "      <td>Reports Q1 2020 results on Tuesday  Jan  28 ...</td>\n",
              "      <td>77.514999</td>\n",
              "      <td>77.942497</td>\n",
              "      <td>76.220001</td>\n",
              "      <td>77.237503</td>\n",
              "      <td>75.793358</td>\n",
              "      <td>161940000</td>\n",
              "      <td>0</td>\n",
              "    </tr>\n",
              "    <tr>\n",
              "      <th>4</th>\n",
              "      <td>4</td>\n",
              "      <td>AAPL</td>\n",
              "      <td>2020-01-27</td>\n",
              "      <td>opinion</td>\n",
              "      <td>Buy Surging Apple   Microsoft Stock Before Qua...</td>\n",
              "      <td>On today s episode of Full Court Finance here ...</td>\n",
              "      <td>77.514999</td>\n",
              "      <td>77.942497</td>\n",
              "      <td>76.220001</td>\n",
              "      <td>77.237503</td>\n",
              "      <td>75.793358</td>\n",
              "      <td>161940000</td>\n",
              "      <td>0</td>\n",
              "    </tr>\n",
              "  </tbody>\n",
              "</table>\n",
              "</div>\n",
              "      <button class=\"colab-df-convert\" onclick=\"convertToInteractive('df-a7fb7191-3ee2-4378-ab6f-ba6176759a14')\"\n",
              "              title=\"Convert this dataframe to an interactive table.\"\n",
              "              style=\"display:none;\">\n",
              "        \n",
              "  <svg xmlns=\"http://www.w3.org/2000/svg\" height=\"24px\"viewBox=\"0 0 24 24\"\n",
              "       width=\"24px\">\n",
              "    <path d=\"M0 0h24v24H0V0z\" fill=\"none\"/>\n",
              "    <path d=\"M18.56 5.44l.94 2.06.94-2.06 2.06-.94-2.06-.94-.94-2.06-.94 2.06-2.06.94zm-11 1L8.5 8.5l.94-2.06 2.06-.94-2.06-.94L8.5 2.5l-.94 2.06-2.06.94zm10 10l.94 2.06.94-2.06 2.06-.94-2.06-.94-.94-2.06-.94 2.06-2.06.94z\"/><path d=\"M17.41 7.96l-1.37-1.37c-.4-.4-.92-.59-1.43-.59-.52 0-1.04.2-1.43.59L10.3 9.45l-7.72 7.72c-.78.78-.78 2.05 0 2.83L4 21.41c.39.39.9.59 1.41.59.51 0 1.02-.2 1.41-.59l7.78-7.78 2.81-2.81c.8-.78.8-2.07 0-2.86zM5.41 20L4 18.59l7.72-7.72 1.47 1.35L5.41 20z\"/>\n",
              "  </svg>\n",
              "      </button>\n",
              "      \n",
              "  <style>\n",
              "    .colab-df-container {\n",
              "      display:flex;\n",
              "      flex-wrap:wrap;\n",
              "      gap: 12px;\n",
              "    }\n",
              "\n",
              "    .colab-df-convert {\n",
              "      background-color: #E8F0FE;\n",
              "      border: none;\n",
              "      border-radius: 50%;\n",
              "      cursor: pointer;\n",
              "      display: none;\n",
              "      fill: #1967D2;\n",
              "      height: 32px;\n",
              "      padding: 0 0 0 0;\n",
              "      width: 32px;\n",
              "    }\n",
              "\n",
              "    .colab-df-convert:hover {\n",
              "      background-color: #E2EBFA;\n",
              "      box-shadow: 0px 1px 2px rgba(60, 64, 67, 0.3), 0px 1px 3px 1px rgba(60, 64, 67, 0.15);\n",
              "      fill: #174EA6;\n",
              "    }\n",
              "\n",
              "    [theme=dark] .colab-df-convert {\n",
              "      background-color: #3B4455;\n",
              "      fill: #D2E3FC;\n",
              "    }\n",
              "\n",
              "    [theme=dark] .colab-df-convert:hover {\n",
              "      background-color: #434B5C;\n",
              "      box-shadow: 0px 1px 3px 1px rgba(0, 0, 0, 0.15);\n",
              "      filter: drop-shadow(0px 1px 2px rgba(0, 0, 0, 0.3));\n",
              "      fill: #FFFFFF;\n",
              "    }\n",
              "  </style>\n",
              "\n",
              "      <script>\n",
              "        const buttonEl =\n",
              "          document.querySelector('#df-a7fb7191-3ee2-4378-ab6f-ba6176759a14 button.colab-df-convert');\n",
              "        buttonEl.style.display =\n",
              "          google.colab.kernel.accessAllowed ? 'block' : 'none';\n",
              "\n",
              "        async function convertToInteractive(key) {\n",
              "          const element = document.querySelector('#df-a7fb7191-3ee2-4378-ab6f-ba6176759a14');\n",
              "          const dataTable =\n",
              "            await google.colab.kernel.invokeFunction('convertToInteractive',\n",
              "                                                     [key], {});\n",
              "          if (!dataTable) return;\n",
              "\n",
              "          const docLinkHtml = 'Like what you see? Visit the ' +\n",
              "            '<a target=\"_blank\" href=https://colab.research.google.com/notebooks/data_table.ipynb>data table notebook</a>'\n",
              "            + ' to learn more about interactive tables.';\n",
              "          element.innerHTML = '';\n",
              "          dataTable['output_type'] = 'display_data';\n",
              "          await google.colab.output.renderOutput(dataTable, element);\n",
              "          const docLink = document.createElement('div');\n",
              "          docLink.innerHTML = docLinkHtml;\n",
              "          element.appendChild(docLink);\n",
              "        }\n",
              "      </script>\n",
              "    </div>\n",
              "  </div>\n",
              "  "
            ]
          },
          "metadata": {},
          "execution_count": 2
        }
      ]
    },
    {
      "cell_type": "markdown",
      "source": [
        "Filter out the opinion articles to see if there is any change in test accuracy."
      ],
      "metadata": {
        "id": "2aODALpFYsly"
      }
    },
    {
      "cell_type": "code",
      "source": [
        "#stock_predictions = stock_predictions[:5000]\n",
        "stock_predictions = stock_predictions[stock_predictions[\"category\"]==\"news\"]\n",
        "stock_predictions.shape"
      ],
      "metadata": {
        "colab": {
          "base_uri": "https://localhost:8080/"
        },
        "id": "4sZ8luJcuK0I",
        "outputId": "cac5a24e-46a4-4c6d-e2a0-4e6b7c346596"
      },
      "execution_count": null,
      "outputs": [
        {
          "output_type": "execute_result",
          "data": {
            "text/plain": [
              "(5488, 13)"
            ]
          },
          "metadata": {},
          "execution_count": 3
        }
      ]
    },
    {
      "cell_type": "code",
      "source": [
        "stock_predictions['length'] = list(map(lambda x: len(str(x).split(' ')),stock_predictions['content']))\n",
        "stock_predictions.head()"
      ],
      "metadata": {
        "colab": {
          "base_uri": "https://localhost:8080/",
          "height": 669
        },
        "id": "_l-3UR-bnALb",
        "outputId": "b08daeec-4df9-4c15-d82e-c52fcad12819"
      },
      "execution_count": null,
      "outputs": [
        {
          "output_type": "execute_result",
          "data": {
            "text/plain": [
              "    Unnamed: 0 ticker        Date category  \\\n",
              "6            6   AAPL  2020-01-27     news   \n",
              "7            7   AAPL  2020-01-27     news   \n",
              "11          11   AAPL  2020-01-24     news   \n",
              "13          13   AAPL  2020-01-24     news   \n",
              "14          14   AAPL  2020-01-24     news   \n",
              "\n",
              "                                                title  \\\n",
              "6   Stocks   Europe Seen Opening Lower as Virus Co...   \n",
              "7   Intelligent Systems wins bullish rating from B...   \n",
              "11  Earnings Outlook  Apple earnings  A year after...   \n",
              "13                 Apple gets  400 target on 5G cycle   \n",
              "14                      Take Five  When China sneezes   \n",
              "\n",
              "                                              content       Open       High  \\\n",
              "6   By Peter Nurse \\nInvesting com   European stoc...  77.514999  77.942497   \n",
              "7   BTIG analyst Mark Palmer initiates coverage of...  77.514999  77.942497   \n",
              "11  What a difference a year makes   After flubbin...  80.062500  80.832497   \n",
              "13  Wedbush analyst Dan Ives raises his Apple  NAS...  80.062500  80.832497   \n",
              "14   Reuters    1 OUTBREAK\\nWuhan in central China...  80.062500  80.832497   \n",
              "\n",
              "          Low      Close  Adj Close     Volume  label  length  \n",
              "6   76.220001  77.237503  75.793358  161940000      0     579  \n",
              "7   76.220001  77.237503  75.793358  161940000      0     135  \n",
              "11  79.379997  79.577499  78.089607  146537600      0    2878  \n",
              "13  79.379997  79.577499  78.089607  146537600      0      96  \n",
              "14  79.379997  79.577499  78.089607  146537600      0    1242  "
            ],
            "text/html": [
              "\n",
              "  <div id=\"df-0a29e057-dbd9-436a-8647-0a588de0659f\">\n",
              "    <div class=\"colab-df-container\">\n",
              "      <div>\n",
              "<style scoped>\n",
              "    .dataframe tbody tr th:only-of-type {\n",
              "        vertical-align: middle;\n",
              "    }\n",
              "\n",
              "    .dataframe tbody tr th {\n",
              "        vertical-align: top;\n",
              "    }\n",
              "\n",
              "    .dataframe thead th {\n",
              "        text-align: right;\n",
              "    }\n",
              "</style>\n",
              "<table border=\"1\" class=\"dataframe\">\n",
              "  <thead>\n",
              "    <tr style=\"text-align: right;\">\n",
              "      <th></th>\n",
              "      <th>Unnamed: 0</th>\n",
              "      <th>ticker</th>\n",
              "      <th>Date</th>\n",
              "      <th>category</th>\n",
              "      <th>title</th>\n",
              "      <th>content</th>\n",
              "      <th>Open</th>\n",
              "      <th>High</th>\n",
              "      <th>Low</th>\n",
              "      <th>Close</th>\n",
              "      <th>Adj Close</th>\n",
              "      <th>Volume</th>\n",
              "      <th>label</th>\n",
              "      <th>length</th>\n",
              "    </tr>\n",
              "  </thead>\n",
              "  <tbody>\n",
              "    <tr>\n",
              "      <th>6</th>\n",
              "      <td>6</td>\n",
              "      <td>AAPL</td>\n",
              "      <td>2020-01-27</td>\n",
              "      <td>news</td>\n",
              "      <td>Stocks   Europe Seen Opening Lower as Virus Co...</td>\n",
              "      <td>By Peter Nurse \\nInvesting com   European stoc...</td>\n",
              "      <td>77.514999</td>\n",
              "      <td>77.942497</td>\n",
              "      <td>76.220001</td>\n",
              "      <td>77.237503</td>\n",
              "      <td>75.793358</td>\n",
              "      <td>161940000</td>\n",
              "      <td>0</td>\n",
              "      <td>579</td>\n",
              "    </tr>\n",
              "    <tr>\n",
              "      <th>7</th>\n",
              "      <td>7</td>\n",
              "      <td>AAPL</td>\n",
              "      <td>2020-01-27</td>\n",
              "      <td>news</td>\n",
              "      <td>Intelligent Systems wins bullish rating from B...</td>\n",
              "      <td>BTIG analyst Mark Palmer initiates coverage of...</td>\n",
              "      <td>77.514999</td>\n",
              "      <td>77.942497</td>\n",
              "      <td>76.220001</td>\n",
              "      <td>77.237503</td>\n",
              "      <td>75.793358</td>\n",
              "      <td>161940000</td>\n",
              "      <td>0</td>\n",
              "      <td>135</td>\n",
              "    </tr>\n",
              "    <tr>\n",
              "      <th>11</th>\n",
              "      <td>11</td>\n",
              "      <td>AAPL</td>\n",
              "      <td>2020-01-24</td>\n",
              "      <td>news</td>\n",
              "      <td>Earnings Outlook  Apple earnings  A year after...</td>\n",
              "      <td>What a difference a year makes   After flubbin...</td>\n",
              "      <td>80.062500</td>\n",
              "      <td>80.832497</td>\n",
              "      <td>79.379997</td>\n",
              "      <td>79.577499</td>\n",
              "      <td>78.089607</td>\n",
              "      <td>146537600</td>\n",
              "      <td>0</td>\n",
              "      <td>2878</td>\n",
              "    </tr>\n",
              "    <tr>\n",
              "      <th>13</th>\n",
              "      <td>13</td>\n",
              "      <td>AAPL</td>\n",
              "      <td>2020-01-24</td>\n",
              "      <td>news</td>\n",
              "      <td>Apple gets  400 target on 5G cycle</td>\n",
              "      <td>Wedbush analyst Dan Ives raises his Apple  NAS...</td>\n",
              "      <td>80.062500</td>\n",
              "      <td>80.832497</td>\n",
              "      <td>79.379997</td>\n",
              "      <td>79.577499</td>\n",
              "      <td>78.089607</td>\n",
              "      <td>146537600</td>\n",
              "      <td>0</td>\n",
              "      <td>96</td>\n",
              "    </tr>\n",
              "    <tr>\n",
              "      <th>14</th>\n",
              "      <td>14</td>\n",
              "      <td>AAPL</td>\n",
              "      <td>2020-01-24</td>\n",
              "      <td>news</td>\n",
              "      <td>Take Five  When China sneezes</td>\n",
              "      <td>Reuters    1 OUTBREAK\\nWuhan in central China...</td>\n",
              "      <td>80.062500</td>\n",
              "      <td>80.832497</td>\n",
              "      <td>79.379997</td>\n",
              "      <td>79.577499</td>\n",
              "      <td>78.089607</td>\n",
              "      <td>146537600</td>\n",
              "      <td>0</td>\n",
              "      <td>1242</td>\n",
              "    </tr>\n",
              "  </tbody>\n",
              "</table>\n",
              "</div>\n",
              "      <button class=\"colab-df-convert\" onclick=\"convertToInteractive('df-0a29e057-dbd9-436a-8647-0a588de0659f')\"\n",
              "              title=\"Convert this dataframe to an interactive table.\"\n",
              "              style=\"display:none;\">\n",
              "        \n",
              "  <svg xmlns=\"http://www.w3.org/2000/svg\" height=\"24px\"viewBox=\"0 0 24 24\"\n",
              "       width=\"24px\">\n",
              "    <path d=\"M0 0h24v24H0V0z\" fill=\"none\"/>\n",
              "    <path d=\"M18.56 5.44l.94 2.06.94-2.06 2.06-.94-2.06-.94-.94-2.06-.94 2.06-2.06.94zm-11 1L8.5 8.5l.94-2.06 2.06-.94-2.06-.94L8.5 2.5l-.94 2.06-2.06.94zm10 10l.94 2.06.94-2.06 2.06-.94-2.06-.94-.94-2.06-.94 2.06-2.06.94z\"/><path d=\"M17.41 7.96l-1.37-1.37c-.4-.4-.92-.59-1.43-.59-.52 0-1.04.2-1.43.59L10.3 9.45l-7.72 7.72c-.78.78-.78 2.05 0 2.83L4 21.41c.39.39.9.59 1.41.59.51 0 1.02-.2 1.41-.59l7.78-7.78 2.81-2.81c.8-.78.8-2.07 0-2.86zM5.41 20L4 18.59l7.72-7.72 1.47 1.35L5.41 20z\"/>\n",
              "  </svg>\n",
              "      </button>\n",
              "      \n",
              "  <style>\n",
              "    .colab-df-container {\n",
              "      display:flex;\n",
              "      flex-wrap:wrap;\n",
              "      gap: 12px;\n",
              "    }\n",
              "\n",
              "    .colab-df-convert {\n",
              "      background-color: #E8F0FE;\n",
              "      border: none;\n",
              "      border-radius: 50%;\n",
              "      cursor: pointer;\n",
              "      display: none;\n",
              "      fill: #1967D2;\n",
              "      height: 32px;\n",
              "      padding: 0 0 0 0;\n",
              "      width: 32px;\n",
              "    }\n",
              "\n",
              "    .colab-df-convert:hover {\n",
              "      background-color: #E2EBFA;\n",
              "      box-shadow: 0px 1px 2px rgba(60, 64, 67, 0.3), 0px 1px 3px 1px rgba(60, 64, 67, 0.15);\n",
              "      fill: #174EA6;\n",
              "    }\n",
              "\n",
              "    [theme=dark] .colab-df-convert {\n",
              "      background-color: #3B4455;\n",
              "      fill: #D2E3FC;\n",
              "    }\n",
              "\n",
              "    [theme=dark] .colab-df-convert:hover {\n",
              "      background-color: #434B5C;\n",
              "      box-shadow: 0px 1px 3px 1px rgba(0, 0, 0, 0.15);\n",
              "      filter: drop-shadow(0px 1px 2px rgba(0, 0, 0, 0.3));\n",
              "      fill: #FFFFFF;\n",
              "    }\n",
              "  </style>\n",
              "\n",
              "      <script>\n",
              "        const buttonEl =\n",
              "          document.querySelector('#df-0a29e057-dbd9-436a-8647-0a588de0659f button.colab-df-convert');\n",
              "        buttonEl.style.display =\n",
              "          google.colab.kernel.accessAllowed ? 'block' : 'none';\n",
              "\n",
              "        async function convertToInteractive(key) {\n",
              "          const element = document.querySelector('#df-0a29e057-dbd9-436a-8647-0a588de0659f');\n",
              "          const dataTable =\n",
              "            await google.colab.kernel.invokeFunction('convertToInteractive',\n",
              "                                                     [key], {});\n",
              "          if (!dataTable) return;\n",
              "\n",
              "          const docLinkHtml = 'Like what you see? Visit the ' +\n",
              "            '<a target=\"_blank\" href=https://colab.research.google.com/notebooks/data_table.ipynb>data table notebook</a>'\n",
              "            + ' to learn more about interactive tables.';\n",
              "          element.innerHTML = '';\n",
              "          dataTable['output_type'] = 'display_data';\n",
              "          await google.colab.output.renderOutput(dataTable, element);\n",
              "          const docLink = document.createElement('div');\n",
              "          docLink.innerHTML = docLinkHtml;\n",
              "          element.appendChild(docLink);\n",
              "        }\n",
              "      </script>\n",
              "    </div>\n",
              "  </div>\n",
              "  "
            ]
          },
          "metadata": {},
          "execution_count": 4
        }
      ]
    },
    {
      "cell_type": "code",
      "source": [
        "print(stock_predictions['label'].corr(stock_predictions['length']))"
      ],
      "metadata": {
        "colab": {
          "base_uri": "https://localhost:8080/"
        },
        "id": "0OJneHoQn9Q5",
        "outputId": "325fbfa3-7a55-4402-ae57-525d2f741903"
      },
      "execution_count": null,
      "outputs": [
        {
          "output_type": "stream",
          "name": "stdout",
          "text": [
            "-0.02822006569745636\n"
          ]
        }
      ]
    },
    {
      "cell_type": "code",
      "source": [
        "sns.countplot(x='category', data=stock_predictions)"
      ],
      "metadata": {
        "colab": {
          "base_uri": "https://localhost:8080/",
          "height": 467
        },
        "id": "2UsUXcs9rzDu",
        "outputId": "e66c08da-8862-42aa-9f72-1e89615288ef"
      },
      "execution_count": null,
      "outputs": [
        {
          "output_type": "execute_result",
          "data": {
            "text/plain": [
              "<Axes: xlabel='category', ylabel='count'>"
            ]
          },
          "metadata": {},
          "execution_count": 6
        },
        {
          "output_type": "display_data",
          "data": {
            "text/plain": [
              "<Figure size 640x480 with 1 Axes>"
            ],
            "image/png": "[encoded data removed]"
          },
          "metadata": {}
        }
      ]
    },
    {
      "cell_type": "code",
      "source": [
        "!pip install text_hammer\n",
        "import text_hammer as th\n",
        "import warnings\n",
        "warnings.filterwarnings('ignore')"
      ],
      "metadata": {
        "colab": {
          "base_uri": "https://localhost:8080/"
        },
        "collapsed": true,
        "id": "RT1aQFi5pS7X",
        "outputId": "e6cdc8b9-4560-4f4f-c484-495d626cf39f"
      },
      "execution_count": null,
      "outputs": [
        {
          "output_type": "stream",
          "name": "stdout",
          "text": [
            "Looking in indexes: https://pypi.org/simple, https://us-python.pkg.dev/colab-wheels/public/simple/\n",
            "Collecting text_hammer\n",
            "  Downloading text_hammer-0.1.5-py3-none-any.whl (7.6 kB)\n",
            "Requirement already satisfied: spacy in /usr/local/lib/python3.10/dist-packages (from text_hammer) (3.5.2)\n",
            "Requirement already satisfied: pandas in /usr/local/lib/python3.10/dist-packages (from text_hammer) (1.5.3)\n",
            "Collecting beautifulsoup4==4.9.1\n",
            "  Downloading beautifulsoup4-4.9.1-py3-none-any.whl (115 kB)\n",
            "\u001b[2K     \u001b[90m━━━━━━━━━━━━━━━━━━━━━━━━━━━━━━━━━━━━━━━\u001b[0m \u001b[32m115.1/115.1 kB\u001b[0m \u001b[31m7.6 MB/s\u001b[0m eta \u001b[36m0:00:00\u001b[0m\n",
            "\u001b[?25hRequirement already satisfied: numpy in /usr/local/lib/python3.10/dist-packages (from text_hammer) (1.22.4)\n",
            "Requirement already satisfied: TextBlob in /usr/local/lib/python3.10/dist-packages (from text_hammer) (0.17.1)\n",
            "Requirement already satisfied: soupsieve>1.2 in /usr/local/lib/python3.10/dist-packages (from beautifulsoup4==4.9.1->text_hammer) (2.4.1)\n",
            "Requirement already satisfied: pytz>=2020.1 in /usr/local/lib/python3.10/dist-packages (from pandas->text_hammer) (2022.7.1)\n",
            "Requirement already satisfied: python-dateutil>=2.8.1 in /usr/local/lib/python3.10/dist-packages (from pandas->text_hammer) (2.8.2)\n",
            "Requirement already satisfied: tqdm<5.0.0,>=4.38.0 in /usr/local/lib/python3.10/dist-packages (from spacy->text_hammer) (4.65.0)\n",
            "Requirement already satisfied: typer<0.8.0,>=0.3.0 in /usr/local/lib/python3.10/dist-packages (from spacy->text_hammer) (0.7.0)\n",
            "Requirement already satisfied: packaging>=20.0 in /usr/local/lib/python3.10/dist-packages (from spacy->text_hammer) (23.1)\n",
            "Requirement already satisfied: spacy-loggers<2.0.0,>=1.0.0 in /usr/local/lib/python3.10/dist-packages (from spacy->text_hammer) (1.0.4)\n",
            "Requirement already satisfied: jinja2 in /usr/local/lib/python3.10/dist-packages (from spacy->text_hammer) (3.1.2)\n",
            "Requirement already satisfied: requests<3.0.0,>=2.13.0 in /usr/local/lib/python3.10/dist-packages (from spacy->text_hammer) (2.27.1)\n",
            "Requirement already satisfied: preshed<3.1.0,>=3.0.2 in /usr/local/lib/python3.10/dist-packages (from spacy->text_hammer) (3.0.8)\n",
            "Requirement already satisfied: pathy>=0.10.0 in /usr/local/lib/python3.10/dist-packages (from spacy->text_hammer) (0.10.1)\n",
            "Requirement already satisfied: murmurhash<1.1.0,>=0.28.0 in /usr/local/lib/python3.10/dist-packages (from spacy->text_hammer) (1.0.9)\n",
            "Requirement already satisfied: srsly<3.0.0,>=2.4.3 in /usr/local/lib/python3.10/dist-packages (from spacy->text_hammer) (2.4.6)\n",
            "Requirement already satisfied: catalogue<2.1.0,>=2.0.6 in /usr/local/lib/python3.10/dist-packages (from spacy->text_hammer) (2.0.8)\n",
            "Requirement already satisfied: langcodes<4.0.0,>=3.2.0 in /usr/local/lib/python3.10/dist-packages (from spacy->text_hammer) (3.3.0)\n",
            "Requirement already satisfied: smart-open<7.0.0,>=5.2.1 in /usr/local/lib/python3.10/dist-packages (from spacy->text_hammer) (6.3.0)\n",
            "Requirement already satisfied: spacy-legacy<3.1.0,>=3.0.11 in /usr/local/lib/python3.10/dist-packages (from spacy->text_hammer) (3.0.12)\n",
            "Requirement already satisfied: setuptools in /usr/local/lib/python3.10/dist-packages (from spacy->text_hammer) (67.7.2)\n",
            "Requirement already satisfied: wasabi<1.2.0,>=0.9.1 in /usr/local/lib/python3.10/dist-packages (from spacy->text_hammer) (1.1.1)\n",
            "Requirement already satisfied: cymem<2.1.0,>=2.0.2 in /usr/local/lib/python3.10/dist-packages (from spacy->text_hammer) (2.0.7)\n",
            "Requirement already satisfied: thinc<8.2.0,>=8.1.8 in /usr/local/lib/python3.10/dist-packages (from spacy->text_hammer) (8.1.9)\n",
            "Requirement already satisfied: pydantic!=1.8,!=1.8.1,<1.11.0,>=1.7.4 in /usr/local/lib/python3.10/dist-packages (from spacy->text_hammer) (1.10.7)\n",
            "Requirement already satisfied: nltk>=3.1 in /usr/local/lib/python3.10/dist-packages (from TextBlob->text_hammer) (3.8.1)\n",
            "Requirement already satisfied: joblib in /usr/local/lib/python3.10/dist-packages (from nltk>=3.1->TextBlob->text_hammer) (1.2.0)\n",
            "Requirement already satisfied: regex>=2021.8.3 in /usr/local/lib/python3.10/dist-packages (from nltk>=3.1->TextBlob->text_hammer) (2022.10.31)\n",
            "Requirement already satisfied: click in /usr/local/lib/python3.10/dist-packages (from nltk>=3.1->TextBlob->text_hammer) (8.1.3)\n",
            "Requirement already satisfied: typing-extensions>=4.2.0 in /usr/local/lib/python3.10/dist-packages (from pydantic!=1.8,!=1.8.1,<1.11.0,>=1.7.4->spacy->text_hammer) (4.5.0)\n",
            "Requirement already satisfied: six>=1.5 in /usr/local/lib/python3.10/dist-packages (from python-dateutil>=2.8.1->pandas->text_hammer) (1.16.0)\n",
            "Requirement already satisfied: certifi>=2017.4.17 in /usr/local/lib/python3.10/dist-packages (from requests<3.0.0,>=2.13.0->spacy->text_hammer) (2022.12.7)\n",
            "Requirement already satisfied: urllib3<1.27,>=1.21.1 in /usr/local/lib/python3.10/dist-packages (from requests<3.0.0,>=2.13.0->spacy->text_hammer) (1.26.15)\n",
            "Requirement already satisfied: idna<4,>=2.5 in /usr/local/lib/python3.10/dist-packages (from requests<3.0.0,>=2.13.0->spacy->text_hammer) (3.4)\n",
            "Requirement already satisfied: charset-normalizer~=2.0.0 in /usr/local/lib/python3.10/dist-packages (from requests<3.0.0,>=2.13.0->spacy->text_hammer) (2.0.12)\n",
            "Requirement already satisfied: confection<1.0.0,>=0.0.1 in /usr/local/lib/python3.10/dist-packages (from thinc<8.2.0,>=8.1.8->spacy->text_hammer) (0.0.4)\n",
            "Requirement already satisfied: blis<0.8.0,>=0.7.8 in /usr/local/lib/python3.10/dist-packages (from thinc<8.2.0,>=8.1.8->spacy->text_hammer) (0.7.9)\n",
            "Requirement already satisfied: MarkupSafe>=2.0 in /usr/local/lib/python3.10/dist-packages (from jinja2->spacy->text_hammer) (2.1.2)\n",
            "Installing collected packages: beautifulsoup4, text_hammer\n",
            "  Attempting uninstall: beautifulsoup4\n",
            "    Found existing installation: beautifulsoup4 4.11.2\n",
            "    Uninstalling beautifulsoup4-4.11.2:\n",
            "      Successfully uninstalled beautifulsoup4-4.11.2\n",
            "\u001b[31mERROR: pip's dependency resolver does not currently take into account all the packages that are installed. This behaviour is the source of the following dependency conflicts.\n",
            "yfinance 0.2.18 requires beautifulsoup4>=4.11.1, but you have beautifulsoup4 4.9.1 which is incompatible.\u001b[0m\u001b[31m\n",
            "\u001b[0mSuccessfully installed beautifulsoup4-4.9.1 text_hammer-0.1.5\n"
          ]
        }
      ]
    },
    {
      "cell_type": "code",
      "source": [
        "content = stock_predictions['content'].copy()[:]\n",
        "content = content.to_list()\n",
        "content = list(map(lambda x: x.lower(), content))\n",
        "#content = list(map(lambda x: th.cont_exp(x), content))\n",
        "content = list(map(lambda x: th.remove_emails(x), content))\n",
        "content = list(map(lambda x: th.remove_emails(x), content))\n",
        "content = list(map(lambda x: th.remove_html_tags(x),content))\n",
        "content = list(map(lambda x: th.remove_stopwords(x), content))\n",
        "content = list(map(lambda x: th.remove_special_chars(x), content))\n",
        "content = list(map(lambda x: th.remove_accented_chars(x), content))\n",
        "#content = list(map(lambda x: th.make_base(x), content))"
      ],
      "metadata": {
        "id": "Y1ITh6R4phSP"
      },
      "execution_count": null,
      "outputs": []
    },
    {
      "cell_type": "code",
      "source": [
        "content[:1]"
      ],
      "metadata": {
        "colab": {
          "base_uri": "https://localhost:8080/"
        },
        "id": "hIGJrdZvqTs9",
        "outputId": "2e40b986-4902-4cfd-f11c-20ed8f5d690f"
      },
      "execution_count": null,
      "outputs": [
        {
          "output_type": "execute_result",
          "data": {
            "text/plain": [
              "['peter nurse investing com european stock markets set open sharply lower monday following weakness asia caused sharp escalation chinese measures curtail spread deadly coronavirus 02 15 et 0715 gmt dax futures contract traded 137 points 1 lower france s cac 40 futures 72 points 1 2 ftse 100 futures contract u k dropped 63 points 0 9 futures pan eurozone index euro stoxx 50 fell 40 points 1 1 markets mainland china hong kong shut japan s nikkei 225 closed 2 lower brent crude futures continues tumble hitting lowest level october traders priced hit chinese demand gold futures government bonds rallied according recent clinical information virus s ability spread getting somewhat stronger china s national health commission minister ma xiaowei said press briefing sunday adding infectious incubation period e symptoms making harder contain nearly 2 000 people china infected 56 killed disease ma said sunday reuters reported later death toll increased 80 number confirmed cases 2 744 week numbers rising close 50 day china extended new year s holiday 2 february efforts curb virus airports world stepped screening passengers china said analyst bjorn tangaa sillemann danske bank research note 5 million residents leaving city wuhan virus originates government shutdown city thursday job containing epidemic considerable added aside worries impact virus asia fresh economic data thin ground europe monday day meeting federal reserve ends wednesday coupled bank england s meeting thursday lid activity turning corporate earnings eyes u s week tech giants facebook nasdaq fb apple nasdaq aapl amazon nasdaq amzn google parent alphabet nasdaq googl report financial results final quarter 2019 worries extent hit demand oil china shutdown activity curtail spread virus continues weigh price oil 2 15 et 0715 gmt u s crude futures traded 2 2 lower 53 02 international benchmark brent contract fell 2 1 58 66 gold futures february delivery new york s comex 0 5 1 578 75']"
            ]
          },
          "metadata": {},
          "execution_count": 9
        }
      ]
    },
    {
      "cell_type": "code",
      "source": [
        "pairs = []\n",
        "for doc in tqdm(content):\n",
        "  pairs.extend(nltk.word_tokenize(doc))\n",
        "freq = nltk.FreqDist(pairs)\n",
        "freq.most_common(10)"
      ],
      "metadata": {
        "colab": {
          "base_uri": "https://localhost:8080/",
          "height": 228,
          "referenced_widgets": [
            "5e3bc0386248463f970fe06366dc9f6a",
            "9e81649a7acc4935a8d78985e66145d6",
            "b2b860a37828457ea3838987d5d92d78",
            "9203ba3b94e74d07a9a8062f76c573f5",
            "3a1a93ad648145ff843e5ebcc7b1bc78",
            "854866988e7749659426bdef927665cb",
            "43c71aba17d348268ed1b913c17ba934",
            "6777df9b2fe24f328cf651f1770248c2",
            "cd5b9bd160ec4a59b2a6d890cd99f680",
            "0a37b0a93afe487f9f59e34dd46366e9",
            "be0effac907f4075842effd18b8a7dc2"
          ]
        },
        "id": "pazku4turU_1",
        "outputId": "8c382728-8a59-47ec-ef29-e6f115a24a0a"
      },
      "execution_count": null,
      "outputs": [
        {
          "output_type": "display_data",
          "data": {
            "text/plain": [
              "  0%|          | 0/5488 [00:00<?, ?it/s]"
            ],
            "application/vnd.jupyter.widget-view+json": {
              "version_major": 2,
              "version_minor": 0,
              "model_id": "5e3bc0386248463f970fe06366dc9f6a"
            }
          },
          "metadata": {}
        },
        {
          "output_type": "execute_result",
          "data": {
            "text/plain": [
              "[('s', 39385),\n",
              " ('said', 18407),\n",
              " ('apple', 17878),\n",
              " ('nasdaq', 9691),\n",
              " ('percent', 9550),\n",
              " ('u', 9484),\n",
              " ('1', 8309),\n",
              " ('year', 8052),\n",
              " ('company', 7914),\n",
              " ('0', 7324)]"
            ]
          },
          "metadata": {},
          "execution_count": 10
        }
      ]
    },
    {
      "cell_type": "code",
      "source": [
        "words_df = pd.DataFrame(freq.most_common(10),  columns=['word', 'count'])\n",
        "sns.barplot(x='word',y='count',data= words_df)\n",
        "plt.title(\"Top 10 words\")\n",
        "plt.show()"
      ],
      "metadata": {
        "colab": {
          "base_uri": "https://localhost:8080/",
          "height": 472
        },
        "id": "M-Gfmdaasdji",
        "outputId": "ab8bc7b8-e2a0-4e43-baeb-92fc1e8676b4"
      },
      "execution_count": null,
      "outputs": [
        {
          "output_type": "display_data",
          "data": {
            "text/plain": [
              "<Figure size 640x480 with 1 Axes>"
            ],
            "image/png": "[encoded data removed]"
          },
          "metadata": {}
        }
      ]
    },
    {
      "cell_type": "code",
      "source": [
        "from sklearn.model_selection import train_test_split\n",
        "#from keras.utils.all_utils import to_categorical\n",
        "from keras.utils import to_categorical\n",
        "Y = to_categorical(stock_predictions['label'])\n",
        "X = content.copy()\n",
        "X_train, X_test, Y_train, Y_test = train_test_split(X, Y, test_size=0.3, stratify=Y, random_state=42)"
      ],
      "metadata": {
        "id": "y69l8rfktWjq"
      },
      "execution_count": null,
      "outputs": []
    },
    {
      "cell_type": "code",
      "source": [
        "from keras.preprocessing.text import Tokenizer\n",
        "num_words = 40000\n",
        "tokenizer = Tokenizer(num_words, lower=True)\n",
        "df_total = pd.concat([pd.Series(X_train), pd.Series(X_test)], axis=0)\n",
        "tokenizer.fit_on_texts(df_total)"
      ],
      "metadata": {
        "id": "Cqkof6p0ttnO"
      },
      "execution_count": null,
      "outputs": []
    },
    {
      "cell_type": "code",
      "source": [
        "from keras.utils import pad_sequences\n",
        "\n",
        "X_train_ =tokenizer.texts_to_sequences(X_train)\n",
        "X_train_pad=pad_sequences(X_train_,maxlen=400,padding='post')\n",
        "X_test_ = tokenizer.texts_to_sequences(X_test)\n",
        "X_test_pad = pad_sequences(X_test_, maxlen = 400, padding = 'post')"
      ],
      "metadata": {
        "id": "0aINm3hnvaRL"
      },
      "execution_count": null,
      "outputs": []
    },
    {
      "cell_type": "code",
      "source": [
        "print(X_train_pad.shape,X_test_pad.shape)"
      ],
      "metadata": {
        "colab": {
          "base_uri": "https://localhost:8080/"
        },
        "id": "Mof3aCDsvmUt",
        "outputId": "6347cb10-0a7d-4f95-e2b9-21a1064cc50b"
      },
      "execution_count": null,
      "outputs": [
        {
          "output_type": "stream",
          "name": "stdout",
          "text": [
            "(3841, 400) (1647, 400)\n"
          ]
        }
      ]
    },
    {
      "cell_type": "code",
      "source": [
        "from keras.models import Sequential\n",
        "from keras.layers import LSTM, Dense, Bidirectional, Embedding, Dropout"
      ],
      "metadata": {
        "id": "iCqkgln1wlQ0"
      },
      "execution_count": null,
      "outputs": []
    },
    {
      "cell_type": "code",
      "source": [
        "lstm_ffnn = Sequential()\n",
        "lstm_ffnn.add(Embedding(input_dim=num_words, output_dim=100, input_length=X_train_pad.shape[1]))\n",
        "lstm_ffnn.add(Dropout(0.2))\n",
        "lstm_ffnn.add(Bidirectional(LSTM(128, return_sequences=False)))\n",
        "lstm_ffnn.add(Dropout(0.2))\n",
        "lstm_ffnn.add(Dense(64, activation='tanh'))\n",
        "lstm_ffnn.add(Dense(32, activation='tanh'))\n",
        "lstm_ffnn.add(Dense(2, activation='sigmoid'))"
      ],
      "metadata": {
        "id": "rdl0_OPawxxl"
      },
      "execution_count": null,
      "outputs": []
    },
    {
      "cell_type": "code",
      "source": [
        "lstm_ffnn.compile(optimizer='adam', loss='binary_crossentropy', metrics=['accuracy'])"
      ],
      "metadata": {
        "id": "COqnRA4Ew0nE"
      },
      "execution_count": null,
      "outputs": []
    },
    {
      "cell_type": "code",
      "source": [
        "lstm_ffnn.summary()"
      ],
      "metadata": {
        "colab": {
          "base_uri": "https://localhost:8080/"
        },
        "id": "7TmI2hd3y2B-",
        "outputId": "37559a1e-8c7c-4c6a-c9c0-8ca3d395f0b0"
      },
      "execution_count": null,
      "outputs": [
        {
          "output_type": "stream",
          "name": "stdout",
          "text": [
            "Model: \"sequential_2\"\n",
            "_________________________________________________________________\n",
            " Layer (type)                Output Shape              Param #   \n",
            "=================================================================\n",
            " embedding_2 (Embedding)     (None, 400, 100)          4000000   \n",
            "                                                                 \n",
            " dropout_4 (Dropout)         (None, 400, 100)          0         \n",
            "                                                                 \n",
            " bidirectional_2 (Bidirectio  (None, 256)              234496    \n",
            " nal)                                                            \n",
            "                                                                 \n",
            " dropout_5 (Dropout)         (None, 256)               0         \n",
            "                                                                 \n",
            " dense_6 (Dense)             (None, 64)                16448     \n",
            "                                                                 \n",
            " dense_7 (Dense)             (None, 32)                2080      \n",
            "                                                                 \n",
            " dense_8 (Dense)             (None, 2)                 66        \n",
            "                                                                 \n",
            "=================================================================\n",
            "Total params: 4,253,090\n",
            "Trainable params: 4,253,090\n",
            "Non-trainable params: 0\n",
            "_________________________________________________________________\n"
          ]
        }
      ]
    },
    {
      "cell_type": "code",
      "source": [
        "from keras.callbacks import EarlyStopping, ModelCheckpoint\n",
        "es = EarlyStopping(monitor = 'val_loss', mode = 'min', verbose = 1, patience = 5)\n",
        "mc = ModelCheckpoint('./model.h5', monitor = 'val_accuracy', mode = 'max', verbose = 1, save_best_only = True)"
      ],
      "metadata": {
        "id": "D2S8oSDSy4Jr"
      },
      "execution_count": null,
      "outputs": []
    },
    {
      "cell_type": "code",
      "source": [
        "lstm_history = lstm_ffnn.fit(X_train_pad, Y_train, epochs = 5, batch_size = 64, validation_data=(X_test_pad, Y_test),verbose = 1, callbacks= [es, mc])"
      ],
      "metadata": {
        "colab": {
          "base_uri": "https://localhost:8080/"
        },
        "id": "8SdS66OFzHTM",
        "outputId": "89b762f2-18e6-473d-ff82-3ba3b11f27e6"
      },
      "execution_count": null,
      "outputs": [
        {
          "output_type": "stream",
          "name": "stdout",
          "text": [
            "Epoch 1/5\n",
            "61/61 [==============================] - ETA: 0s - loss: 0.6935 - accuracy: 0.5108\n",
            "Epoch 1: val_accuracy improved from -inf to 0.52641, saving model to ./model.h5\n",
            "61/61 [==============================] - 30s 404ms/step - loss: 0.6935 - accuracy: 0.5108 - val_loss: 0.6919 - val_accuracy: 0.5264\n",
            "Epoch 2/5\n",
            "61/61 [==============================] - ETA: 0s - loss: 0.6592 - accuracy: 0.6287\n",
            "Epoch 2: val_accuracy did not improve from 0.52641\n",
            "61/61 [==============================] - 14s 230ms/step - loss: 0.6592 - accuracy: 0.6287 - val_loss: 0.7498 - val_accuracy: 0.5246\n",
            "Epoch 3/5\n",
            "61/61 [==============================] - ETA: 0s - loss: 0.4410 - accuracy: 0.8037\n",
            "Epoch 3: val_accuracy did not improve from 0.52641\n",
            "61/61 [==============================] - 14s 221ms/step - loss: 0.4410 - accuracy: 0.8037 - val_loss: 0.9335 - val_accuracy: 0.5003\n",
            "Epoch 4/5\n",
            "61/61 [==============================] - ETA: 0s - loss: 0.1936 - accuracy: 0.9263\n",
            "Epoch 4: val_accuracy did not improve from 0.52641\n",
            "61/61 [==============================] - 13s 219ms/step - loss: 0.1936 - accuracy: 0.9263 - val_loss: 1.3237 - val_accuracy: 0.5131\n",
            "Epoch 5/5\n",
            "61/61 [==============================] - ETA: 0s - loss: 0.0706 - accuracy: 0.9784\n",
            "Epoch 5: val_accuracy did not improve from 0.52641\n",
            "61/61 [==============================] - 12s 203ms/step - loss: 0.0706 - accuracy: 0.9784 - val_loss: 1.7161 - val_accuracy: 0.5076\n"
          ]
        }
      ]
    },
    {
      "cell_type": "code",
      "source": [
        "plt.plot(lstm_history.history['accuracy'], label='Train Data')\n",
        "plt.plot(lstm_history.history['val_accuracy'], label='Test Data')\n",
        "plt.xlabel('Epoch')\n",
        "plt.ylabel('Accuracy')\n",
        "plt.legend(loc='best')\n",
        "plt.show()"
      ],
      "metadata": {
        "colab": {
          "base_uri": "https://localhost:8080/",
          "height": 452
        },
        "id": "ayhElXVqzVx7",
        "outputId": "f626b33f-2a7f-4732-ca05-2ea4d86cac1d"
      },
      "execution_count": null,
      "outputs": [
        {
          "output_type": "display_data",
          "data": {
            "text/plain": [
              "<Figure size 640x480 with 1 Axes>"
            ],
            "image/png": "[encoded data removed]"
          },
          "metadata": {}
        }
      ]
    },
    {
      "cell_type": "code",
      "source": [
        "lstm_ffnn.predict(X_train_pad)"
      ],
      "metadata": {
        "colab": {
          "base_uri": "https://localhost:8080/"
        },
        "id": "hPtfrd1ywYZ1",
        "outputId": "58e0752e-959a-493a-c9d2-3c363ac9e378"
      },
      "execution_count": null,
      "outputs": [
        {
          "output_type": "stream",
          "name": "stdout",
          "text": [
            "121/121 [==============================] - 3s 12ms/step\n"
          ]
        },
        {
          "output_type": "execute_result",
          "data": {
            "text/plain": [
              "array([[0.9968919 , 0.00225616],\n",
              "       [0.01123586, 0.98888236],\n",
              "       [0.99154705, 0.00833157],\n",
              "       ...,\n",
              "       [0.9956037 , 0.00372138],\n",
              "       [0.00322428, 0.9976707 ],\n",
              "       [0.00521121, 0.99549943]], dtype=float32)"
            ]
          },
          "metadata": {},
          "execution_count": 36
        }
      ]
    },
    {
      "cell_type": "code",
      "source": [
        "Y_train"
      ],
      "metadata": {
        "colab": {
          "base_uri": "https://localhost:8080/"
        },
        "id": "ncLzeEaOwYdo",
        "outputId": "0360614b-753e-462f-ec65-8b5bb9c6191a"
      },
      "execution_count": null,
      "outputs": [
        {
          "output_type": "execute_result",
          "data": {
            "text/plain": [
              "array([[1., 0.],\n",
              "       [0., 1.],\n",
              "       [1., 0.],\n",
              "       ...,\n",
              "       [1., 0.],\n",
              "       [0., 1.],\n",
              "       [0., 1.]], dtype=float32)"
            ]
          },
          "metadata": {},
          "execution_count": 37
        }
      ]
    },
    {
      "cell_type": "code",
      "source": [],
      "metadata": {
        "id": "FvzvVw-BwYiS"
      },
      "execution_count": null,
      "outputs": []
    },
    {
      "cell_type": "code",
      "source": [
        "import pandas as pd\n",
        "import numpy as np\n",
        "from sklearn.model_selection import train_test_split\n",
        "from sklearn.metrics import accuracy_score, precision_score, recall_score, f1_score\n",
        "import tensorflow as tf\n",
        "import matplotlib.pyplot as plt\n",
        "\n",
        "model = lstm_ffnn\n",
        "history = lstm_history\n",
        "\n",
        "train_preds = model.predict(X_train_pad)\n",
        "test_preds = model.predict(X_test_pad)\n",
        "\n",
        "train_preds = np.argmax(train_preds, axis=1)\n",
        "test_preds = np.argmax(test_preds, axis=1)\n",
        "\n",
        "train_metrics = {\n",
        "    'accuracy': accuracy_score(np.argmax(Y_train, axis=1), train_preds),\n",
        "    'precision': precision_score(np.argmax(Y_train, axis=1), train_preds),\n",
        "    'recall': recall_score(np.argmax(Y_train, axis=1), train_preds),\n",
        "    'f1': f1_score(np.argmax(Y_train, axis=1), train_preds)\n",
        "}\n",
        "\n",
        "test_metrics = {\n",
        "    'accuracy': accuracy_score(np.argmax(Y_test, axis=1), test_preds),\n",
        "    'precision': precision_score(np.argmax(Y_test, axis=1), test_preds),\n",
        "    'recall': recall_score(np.argmax(Y_test, axis=1), test_preds),\n",
        "    'f1': f1_score(np.argmax(Y_test, axis=1), test_preds)\n",
        "}\n",
        "\n",
        "\n",
        "tf.keras.utils.plot_model(model, to_file='model.png', show_shapes=True, show_dtype=True, show_layer_names=True, rankdir='TB', expand_nested=True, dpi=96)\n",
        "\n",
        "fig, ax = plt.subplots()\n",
        "ax.plot(history.history['accuracy'], label='Train', marker='o')\n",
        "ax.plot(history.history['val_accuracy'], label='Test', marker='o')\n",
        "ax.set_ylim(0, 1)\n",
        "ax.set_xlabel('Epoch')\n",
        "ax.set_ylabel('Accuracy')\n",
        "ax.set_title('Model Accuracy - LSTM-FFN')\n",
        "ax.legend()\n",
        "\n",
        "plt.savefig('accuracy.png', dpi=300)\n",
        "plt.show()\n",
        "\n",
        "print(\"Train metrics:\")\n",
        "print(f\"Accuracy: {train_metrics['accuracy']:.4f}\")\n",
        "print(f\"Precision: {train_metrics['precision']:.4f}\")\n",
        "print(f\"Recall: {train_metrics['recall']:.4f}\")\n",
        "print(f\"F1-Score: {train_metrics['f1']:.4f}\")\n",
        "\n",
        "print(\"\\nTest metrics:\")\n",
        "print(f\"Accuracy: {test_metrics['accuracy']:.4f}\")\n",
        "print(f\"Precision: {test_metrics['precision']:.4f}\")\n",
        "print(f\"Recall: {test_metrics['recall']:.4f}\")\n",
        "print(f\"F1-Score: {test_metrics['f1']:.4f}\")"
      ],
      "metadata": {
        "id": "mu3_eZlJ6OK1",
        "colab": {
          "base_uri": "https://localhost:8080/",
          "height": 704
        },
        "outputId": "87775223-7caf-4992-8832-95c99fd10354"
      },
      "execution_count": null,
      "outputs": [
        {
          "output_type": "stream",
          "name": "stdout",
          "text": [
            "121/121 [==============================] - 1s 11ms/step\n",
            "52/52 [==============================] - 1s 10ms/step\n"
          ]
        },
        {
          "output_type": "display_data",
          "data": {
            "text/plain": [
              "<Figure size 640x480 with 1 Axes>"
            ],
            "image/png": "[encoded data removed]"
          },
          "metadata": {}
        },
        {
          "output_type": "stream",
          "name": "stdout",
          "text": [
            "Train metrics:\n",
            "Accuracy: 0.9891\n",
            "Precision: 0.9901\n",
            "Recall: 0.9891\n",
            "F1-Score: 0.9896\n",
            "\n",
            "Test metrics:\n",
            "Accuracy: 0.5076\n",
            "Precision: 0.5320\n",
            "Recall: 0.5363\n",
            "F1-Score: 0.5342\n"
          ]
        }
      ]
    },
    {
      "cell_type": "code",
      "source": [
        "import locale\n",
        "locale.getpreferredencoding = lambda: \"UTF-8\""
      ],
      "metadata": {
        "id": "U3Io8pHuxpTa"
      },
      "execution_count": null,
      "outputs": []
    },
    {
      "cell_type": "code",
      "source": [
        "!pip install keras-visualizer"
      ],
      "metadata": {
        "colab": {
          "base_uri": "https://localhost:8080/"
        },
        "id": "YsRwQVFixUDY",
        "outputId": "5de0d8a3-f858-461d-865e-9c7c537d3b0e"
      },
      "execution_count": null,
      "outputs": [
        {
          "output_type": "stream",
          "name": "stdout",
          "text": [
            "Looking in indexes: https://pypi.org/simple, https://us-python.pkg.dev/colab-wheels/public/simple/\n",
            "Collecting keras-visualizer\n",
            "  Downloading keras_visualizer-3.1.2-py3-none-any.whl (6.9 kB)\n",
            "Requirement already satisfied: graphviz in /usr/local/lib/python3.10/dist-packages (from keras-visualizer) (0.20.1)\n",
            "Installing collected packages: keras-visualizer\n",
            "Successfully installed keras-visualizer-3.1.2\n"
          ]
        }
      ]
    },
    {
      "cell_type": "code",
      "source": [
        "from keras_visualizer import visualizer\n",
        "visualizer(model, file_name='graph', file_format=\"png\", view=True, settings=None)"
      ],
      "metadata": {
        "id": "oHq-BBtkxfNQ"
      },
      "execution_count": null,
      "outputs": []
    },
    {
      "cell_type": "code",
      "source": [],
      "metadata": {
        "id": "rG1qZkykyUco"
      },
      "execution_count": null,
      "outputs": []
    }
  ]
}