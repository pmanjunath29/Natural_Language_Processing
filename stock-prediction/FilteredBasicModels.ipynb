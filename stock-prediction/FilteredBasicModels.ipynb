{
  "nbformat": 4,
  "nbformat_minor": 0,
  "metadata": {
    "colab": {
      "provenance": []
    },
    "kernelspec": {
      "name": "python3",
      "display_name": "Python 3"
    },
    "language_info": {
      "name": "python"
    },
    "accelerator": "GPU",
    "gpuClass": "standard"
  },
  "cells": [
    {
      "cell_type": "markdown",
      "source": [
        "# Analysis of Financial Documents to Forecast Stock Prices"
      ],
      "metadata": {
        "id": "_BDW83HGmpgg"
      }
    },
    {
      "cell_type": "code",
      "execution_count": null,
      "metadata": {
        "id": "lWP8xW3POJDQ"
      },
      "outputs": [],
      "source": [
        "import numpy as np\n",
        "import pandas as pd\n",
        "import csv\n",
        "import re\n",
        "import sklearn\n",
        "import matplotlib.pyplot as plt\n",
        "import seaborn\n",
        "from sklearn.model_selection import train_test_split\n",
        "from nltk.corpus import stopwords\n",
        "from keras.preprocessing.text import Tokenizer\n",
        "from keras.utils.np_utils import to_categorical\n",
        "from sklearn.preprocessing import LabelEncoder"
      ]
    },
    {
      "cell_type": "code",
      "source": [
        "NB_WORDS = 10000\n",
        "VAL_SIZE = 1000\n",
        "NB_START_EPOCHS = 20\n",
        "BATCH_SIZE = 512"
      ],
      "metadata": {
        "id": "gVQsaKuEOngW"
      },
      "execution_count": null,
      "outputs": []
    },
    {
      "cell_type": "code",
      "source": [
        "stock_prediction_data = pd.read_csv('/content/NEWS_YAHOO_stock_prediction.csv')\n",
        "stock_prediction_data.head()"
      ],
      "metadata": {
        "colab": {
          "base_uri": "https://localhost:8080/",
          "height": 722
        },
        "id": "wIgf8xsmSPKV",
        "outputId": "ca7a02a8-72aa-4374-8fbe-79079a8c9040"
      },
      "execution_count": null,
      "outputs": [
        {
          "output_type": "execute_result",
          "data": {
            "text/plain": [
              "   Unnamed: 0 ticker        Date category  \\\n",
              "0           0   AAPL  2020-01-27  opinion   \n",
              "1           1   AAPL  2020-01-27  opinion   \n",
              "2           2   AAPL  2020-01-27  opinion   \n",
              "3           3   AAPL  2020-01-27  opinion   \n",
              "4           4   AAPL  2020-01-27  opinion   \n",
              "\n",
              "                                               title  \\\n",
              "0  Apple Set To Beat Q1 Earnings Estimates  Tech ...   \n",
              "1  Tech Daily  Intel Results  Netflix Surge  Appl...   \n",
              "2  7 Monster Stock Market Predictions For The Wee...   \n",
              "3  Apple Earnings Preview  5G Launch  Expanding S...   \n",
              "4  Buy Surging Apple   Microsoft Stock Before Qua...   \n",
              "\n",
              "                                             content       Open       High  \\\n",
              "0  Technology giant Apple   NASDAQ AAPL   is set ...  77.514999  77.942497   \n",
              "1  The top stories in this digest are Intel s   N...  77.514999  77.942497   \n",
              "2  S P 500  SPY \\nThis week will be packed with e...  77.514999  77.942497   \n",
              "3    Reports Q1 2020 results on Tuesday  Jan  28 ...  77.514999  77.942497   \n",
              "4  On today s episode of Full Court Finance here ...  77.514999  77.942497   \n",
              "\n",
              "         Low      Close  Adj Close     Volume  label  \n",
              "0  76.220001  77.237503  75.793358  161940000      0  \n",
              "1  76.220001  77.237503  75.793358  161940000      0  \n",
              "2  76.220001  77.237503  75.793358  161940000      0  \n",
              "3  76.220001  77.237503  75.793358  161940000      0  \n",
              "4  76.220001  77.237503  75.793358  161940000      0  "
            ],
            "text/html": [
              "\n",
              "  <div id=\"df-07fabe0f-f557-486c-87fd-9e8103aa0a9d\">\n",
              "    <div class=\"colab-df-container\">\n",
              "      <div>\n",
              "<style scoped>\n",
              "    .dataframe tbody tr th:only-of-type {\n",
              "        vertical-align: middle;\n",
              "    }\n",
              "\n",
              "    .dataframe tbody tr th {\n",
              "        vertical-align: top;\n",
              "    }\n",
              "\n",
              "    .dataframe thead th {\n",
              "        text-align: right;\n",
              "    }\n",
              "</style>\n",
              "<table border=\"1\" class=\"dataframe\">\n",
              "  <thead>\n",
              "    <tr style=\"text-align: right;\">\n",
              "      <th></th>\n",
              "      <th>Unnamed: 0</th>\n",
              "      <th>ticker</th>\n",
              "      <th>Date</th>\n",
              "      <th>category</th>\n",
              "      <th>title</th>\n",
              "      <th>content</th>\n",
              "      <th>Open</th>\n",
              "      <th>High</th>\n",
              "      <th>Low</th>\n",
              "      <th>Close</th>\n",
              "      <th>Adj Close</th>\n",
              "      <th>Volume</th>\n",
              "      <th>label</th>\n",
              "    </tr>\n",
              "  </thead>\n",
              "  <tbody>\n",
              "    <tr>\n",
              "      <th>0</th>\n",
              "      <td>0</td>\n",
              "      <td>AAPL</td>\n",
              "      <td>2020-01-27</td>\n",
              "      <td>opinion</td>\n",
              "      <td>Apple Set To Beat Q1 Earnings Estimates  Tech ...</td>\n",
              "      <td>Technology giant Apple   NASDAQ AAPL   is set ...</td>\n",
              "      <td>77.514999</td>\n",
              "      <td>77.942497</td>\n",
              "      <td>76.220001</td>\n",
              "      <td>77.237503</td>\n",
              "      <td>75.793358</td>\n",
              "      <td>161940000</td>\n",
              "      <td>0</td>\n",
              "    </tr>\n",
              "    <tr>\n",
              "      <th>1</th>\n",
              "      <td>1</td>\n",
              "      <td>AAPL</td>\n",
              "      <td>2020-01-27</td>\n",
              "      <td>opinion</td>\n",
              "      <td>Tech Daily  Intel Results  Netflix Surge  Appl...</td>\n",
              "      <td>The top stories in this digest are Intel s   N...</td>\n",
              "      <td>77.514999</td>\n",
              "      <td>77.942497</td>\n",
              "      <td>76.220001</td>\n",
              "      <td>77.237503</td>\n",
              "      <td>75.793358</td>\n",
              "      <td>161940000</td>\n",
              "      <td>0</td>\n",
              "    </tr>\n",
              "    <tr>\n",
              "      <th>2</th>\n",
              "      <td>2</td>\n",
              "      <td>AAPL</td>\n",
              "      <td>2020-01-27</td>\n",
              "      <td>opinion</td>\n",
              "      <td>7 Monster Stock Market Predictions For The Wee...</td>\n",
              "      <td>S P 500  SPY \\nThis week will be packed with e...</td>\n",
              "      <td>77.514999</td>\n",
              "      <td>77.942497</td>\n",
              "      <td>76.220001</td>\n",
              "      <td>77.237503</td>\n",
              "      <td>75.793358</td>\n",
              "      <td>161940000</td>\n",
              "      <td>0</td>\n",
              "    </tr>\n",
              "    <tr>\n",
              "      <th>3</th>\n",
              "      <td>3</td>\n",
              "      <td>AAPL</td>\n",
              "      <td>2020-01-27</td>\n",
              "      <td>opinion</td>\n",
              "      <td>Apple Earnings Preview  5G Launch  Expanding S...</td>\n",
              "      <td>Reports Q1 2020 results on Tuesday  Jan  28 ...</td>\n",
              "      <td>77.514999</td>\n",
              "      <td>77.942497</td>\n",
              "      <td>76.220001</td>\n",
              "      <td>77.237503</td>\n",
              "      <td>75.793358</td>\n",
              "      <td>161940000</td>\n",
              "      <td>0</td>\n",
              "    </tr>\n",
              "    <tr>\n",
              "      <th>4</th>\n",
              "      <td>4</td>\n",
              "      <td>AAPL</td>\n",
              "      <td>2020-01-27</td>\n",
              "      <td>opinion</td>\n",
              "      <td>Buy Surging Apple   Microsoft Stock Before Qua...</td>\n",
              "      <td>On today s episode of Full Court Finance here ...</td>\n",
              "      <td>77.514999</td>\n",
              "      <td>77.942497</td>\n",
              "      <td>76.220001</td>\n",
              "      <td>77.237503</td>\n",
              "      <td>75.793358</td>\n",
              "      <td>161940000</td>\n",
              "      <td>0</td>\n",
              "    </tr>\n",
              "  </tbody>\n",
              "</table>\n",
              "</div>\n",
              "      <button class=\"colab-df-convert\" onclick=\"convertToInteractive('df-07fabe0f-f557-486c-87fd-9e8103aa0a9d')\"\n",
              "              title=\"Convert this dataframe to an interactive table.\"\n",
              "              style=\"display:none;\">\n",
              "        \n",
              "  <svg xmlns=\"http://www.w3.org/2000/svg\" height=\"24px\"viewBox=\"0 0 24 24\"\n",
              "       width=\"24px\">\n",
              "    <path d=\"M0 0h24v24H0V0z\" fill=\"none\"/>\n",
              "    <path d=\"M18.56 5.44l.94 2.06.94-2.06 2.06-.94-2.06-.94-.94-2.06-.94 2.06-2.06.94zm-11 1L8.5 8.5l.94-2.06 2.06-.94-2.06-.94L8.5 2.5l-.94 2.06-2.06.94zm10 10l.94 2.06.94-2.06 2.06-.94-2.06-.94-.94-2.06-.94 2.06-2.06.94z\"/><path d=\"M17.41 7.96l-1.37-1.37c-.4-.4-.92-.59-1.43-.59-.52 0-1.04.2-1.43.59L10.3 9.45l-7.72 7.72c-.78.78-.78 2.05 0 2.83L4 21.41c.39.39.9.59 1.41.59.51 0 1.02-.2 1.41-.59l7.78-7.78 2.81-2.81c.8-.78.8-2.07 0-2.86zM5.41 20L4 18.59l7.72-7.72 1.47 1.35L5.41 20z\"/>\n",
              "  </svg>\n",
              "      </button>\n",
              "      \n",
              "  <style>\n",
              "    .colab-df-container {\n",
              "      display:flex;\n",
              "      flex-wrap:wrap;\n",
              "      gap: 12px;\n",
              "    }\n",
              "\n",
              "    .colab-df-convert {\n",
              "      background-color: #E8F0FE;\n",
              "      border: none;\n",
              "      border-radius: 50%;\n",
              "      cursor: pointer;\n",
              "      display: none;\n",
              "      fill: #1967D2;\n",
              "      height: 32px;\n",
              "      padding: 0 0 0 0;\n",
              "      width: 32px;\n",
              "    }\n",
              "\n",
              "    .colab-df-convert:hover {\n",
              "      background-color: #E2EBFA;\n",
              "      box-shadow: 0px 1px 2px rgba(60, 64, 67, 0.3), 0px 1px 3px 1px rgba(60, 64, 67, 0.15);\n",
              "      fill: #174EA6;\n",
              "    }\n",
              "\n",
              "    [theme=dark] .colab-df-convert {\n",
              "      background-color: #3B4455;\n",
              "      fill: #D2E3FC;\n",
              "    }\n",
              "\n",
              "    [theme=dark] .colab-df-convert:hover {\n",
              "      background-color: #434B5C;\n",
              "      box-shadow: 0px 1px 3px 1px rgba(0, 0, 0, 0.15);\n",
              "      filter: drop-shadow(0px 1px 2px rgba(0, 0, 0, 0.3));\n",
              "      fill: #FFFFFF;\n",
              "    }\n",
              "  </style>\n",
              "\n",
              "      <script>\n",
              "        const buttonEl =\n",
              "          document.querySelector('#df-07fabe0f-f557-486c-87fd-9e8103aa0a9d button.colab-df-convert');\n",
              "        buttonEl.style.display =\n",
              "          google.colab.kernel.accessAllowed ? 'block' : 'none';\n",
              "\n",
              "        async function convertToInteractive(key) {\n",
              "          const element = document.querySelector('#df-07fabe0f-f557-486c-87fd-9e8103aa0a9d');\n",
              "          const dataTable =\n",
              "            await google.colab.kernel.invokeFunction('convertToInteractive',\n",
              "                                                     [key], {});\n",
              "          if (!dataTable) return;\n",
              "\n",
              "          const docLinkHtml = 'Like what you see? Visit the ' +\n",
              "            '<a target=\"_blank\" href=https://colab.research.google.com/notebooks/data_table.ipynb>data table notebook</a>'\n",
              "            + ' to learn more about interactive tables.';\n",
              "          element.innerHTML = '';\n",
              "          dataTable['output_type'] = 'display_data';\n",
              "          await google.colab.output.renderOutput(dataTable, element);\n",
              "          const docLink = document.createElement('div');\n",
              "          docLink.innerHTML = docLinkHtml;\n",
              "          element.appendChild(docLink);\n",
              "        }\n",
              "      </script>\n",
              "    </div>\n",
              "  </div>\n",
              "  "
            ]
          },
          "metadata": {},
          "execution_count": 9
        }
      ]
    },
    {
      "cell_type": "code",
      "source": [
        "stock_prediction_data.shape"
      ],
      "metadata": {
        "colab": {
          "base_uri": "https://localhost:8080/"
        },
        "id": "wLqt7LB_SW0i",
        "outputId": "a7340864-7979-4d15-ea94-119505096d8f"
      },
      "execution_count": null,
      "outputs": [
        {
          "output_type": "execute_result",
          "data": {
            "text/plain": [
              "(15975, 13)"
            ]
          },
          "metadata": {},
          "execution_count": 10
        }
      ]
    },
    {
      "cell_type": "markdown",
      "source": [
        "### Data sample from first row"
      ],
      "metadata": {
        "id": "n6AFQEzhTBYG"
      }
    },
    {
      "cell_type": "code",
      "source": [
        "stock_prediction_data.iloc[0]"
      ],
      "metadata": {
        "colab": {
          "base_uri": "https://localhost:8080/"
        },
        "id": "OIHT9ufFTdQo",
        "outputId": "f9f72e1a-de16-4031-e1ed-4a0a92398270"
      },
      "execution_count": null,
      "outputs": [
        {
          "output_type": "execute_result",
          "data": {
            "text/plain": [
              "Unnamed: 0                                                    0\n",
              "ticker                                                     AAPL\n",
              "Date                                                 2020-01-27\n",
              "category                                                opinion\n",
              "title         Apple Set To Beat Q1 Earnings Estimates  Tech ...\n",
              "content       Technology giant Apple   NASDAQ AAPL   is set ...\n",
              "Open                                                  77.514999\n",
              "High                                                  77.942497\n",
              "Low                                                   76.220001\n",
              "Close                                                 77.237503\n",
              "Adj Close                                             75.793358\n",
              "Volume                                                161940000\n",
              "label                                                         0\n",
              "Name: 0, dtype: object"
            ]
          },
          "metadata": {},
          "execution_count": 11
        }
      ]
    },
    {
      "cell_type": "code",
      "source": [
        "stock_prediction_data.iloc[0]['content']"
      ],
      "metadata": {
        "colab": {
          "base_uri": "https://localhost:8080/",
          "height": 192
        },
        "id": "xEPGkI2DShwA",
        "outputId": "3c0770a4-4097-4d80-e731-f5bd89d05335"
      },
      "execution_count": null,
      "outputs": [
        {
          "output_type": "execute_result",
          "data": {
            "text/plain": [
              "'Technology giant Apple   NASDAQ AAPL   is set to release first quarter fiscal 2020 results on Jan 28 after market close  Since Apple accounts for more than 19  of total market capitalization of the entire technology sector in the S P 500 Index  it is worth taking a look at its fundamentals ahead of its quarterly results Apple has been hitting record highs lately  It has returned about 28  over the past three months  on par with the industry s gain  The momentum is expected to continue if the company beats estimates in the soon to be reported quarter  read    Inside Our MethodologyApple has a Zacks Rank  2  Buy  and an  of  4 08   According to our methodology  the combination of a positive Earnings ESP and a Zacks Rank  1  Strong Buy   2  Buy  or 3  Hold  increases the chances of an earnings beat  You can uncover the best stocks to buy or sell before they re reported with our  Apple saw positive earnings estimate revision of a couple of cents over the past 30 days for the fiscal first quarter  Analysts raising estimates right before earnings   with the most up to date information possible   is a pretty good indicator for the stock  Additionally  the company has a strong track record of positive earnings surprise  It delivered an average positive earnings surprise of 3 64  in the trailing four quarters Further  the Zacks Consensus Estimate indicates a modest year over year increase of 8 37  for earnings and 4 07  for revenues  see    Apple Inc  Price  Consensus and EPS Surprise   Though AAPL has a solid Momentum Score of B  it has Value and Growth Score of D and C  respectively  The stock belongs to a top ranked Zacks Industry     According to the analysts polled by Zacks  more than 65  of the analysts provided a Strong Buy or a Buy rating for Apple ahead of its earnings with a price target of  302 19   What s Hot Analysts are betting on a solid holiday quarter based on strong sales of iPhone 11  Apple Watch and AirPods wireless earbuds  As such  many of them have raised their price targets on the stock ahead of its Q1 earnings ETFs in FocusETFs having the highest allocation to this tech titan will be in focus going into its earnings announcement  While there are several ETFs in the space with Apple in their top 10 holdings  we have highlighted the ones that have Apple as the top or the second firm with a double digit allocation Select Sector SPDR Technology ETF    The fund has AUM of  28 5 billion and has a Zacks ETF Rank  1  Strong Buy   Apple makes up for 20 1  of the assets  read    MSCI Information Technology Index ETF   TSXV FTEC     This fund has a Zacks ETF Rank  1 and has AUM of  3 5 billion  Apple has 18 9  allocation Vanguard Information Technology ETF   HN VGT     It has AUM of  27 6 billion and sports a Zacks ETF Rank  1  Here  AAPL takes 18 5  share  read    iShares Dow Jones US Technology ETF    The fund has amassed  5 1 billion in its asset base and carries a Zacks ETF Rank  1  Apple accounts for 18  of the assets iShares Global Tech ETF    The product has accumulated  3 4 billion in its asset base  Apple accounts for 16  allocation Want key ETF info delivered straight to your inbox Zacks  free Fund Newsletter will brief you on top news and analysis  as well as top performing ETFs  each week '"
            ],
            "application/vnd.google.colaboratory.intrinsic+json": {
              "type": "string"
            }
          },
          "metadata": {},
          "execution_count": 12
        }
      ]
    },
    {
      "cell_type": "markdown",
      "source": [
        "Instead of just truncating the data size, we will filter out the opinion articles to see if there is a significant change in accuracy."
      ],
      "metadata": {
        "id": "TAjGPz3WW4ob"
      }
    },
    {
      "cell_type": "code",
      "source": [
        "seaborn.countplot(x='category', data=stock_prediction_data)"
      ],
      "metadata": {
        "colab": {
          "base_uri": "https://localhost:8080/",
          "height": 466
        },
        "id": "HIvAI5oMXfbx",
        "outputId": "4d8979ed-b1d0-4e2f-8db7-8732b2e7e5a6"
      },
      "execution_count": null,
      "outputs": [
        {
          "output_type": "execute_result",
          "data": {
            "text/plain": [
              "<Axes: xlabel='category', ylabel='count'>"
            ]
          },
          "metadata": {},
          "execution_count": 13
        },
        {
          "output_type": "display_data",
          "data": {
            "text/plain": [
              "<Figure size 640x480 with 1 Axes>"
            ],
            "image/png": "[encoded data removed]"
          },
          "metadata": {}
        }
      ]
    },
    {
      "cell_type": "code",
      "source": [
        "#the dataset has approximately 15000 training examples; truncate the dataset to speed up training\n",
        "#stock_prediction_data = stock_prediction_data[:5000]\n",
        "stock_prediction_data = stock_prediction_data[stock_prediction_data[\"category\"] == \"news\"]\n",
        "stock_prediction_data.shape\n",
        "#we now have just news articles, let's see the effect on test accuracy"
      ],
      "metadata": {
        "colab": {
          "base_uri": "https://localhost:8080/"
        },
        "id": "0F7_fKS0Skux",
        "outputId": "af8d75d5-2cab-4c67-ca17-11fb72c8bb3c"
      },
      "execution_count": null,
      "outputs": [
        {
          "output_type": "execute_result",
          "data": {
            "text/plain": [
              "(5488, 13)"
            ]
          },
          "metadata": {},
          "execution_count": 14
        }
      ]
    },
    {
      "cell_type": "code",
      "source": [
        "seaborn.countplot(x='label', data=stock_prediction_data)"
      ],
      "metadata": {
        "colab": {
          "base_uri": "https://localhost:8080/",
          "height": 468
        },
        "id": "uEBtvXleVt3y",
        "outputId": "1c02f413-8115-49c3-870a-12b19e02c2d3"
      },
      "execution_count": null,
      "outputs": [
        {
          "output_type": "execute_result",
          "data": {
            "text/plain": [
              "<Axes: xlabel='label', ylabel='count'>"
            ]
          },
          "metadata": {},
          "execution_count": 15
        },
        {
          "output_type": "display_data",
          "data": {
            "text/plain": [
              "<Figure size 640x480 with 1 Axes>"
            ],
            "image/png": "[encoded data removed]"
          },
          "metadata": {}
        }
      ]
    },
    {
      "cell_type": "markdown",
      "source": [
        "# Data Manipulation for Initial sklearn Models"
      ],
      "metadata": {
        "id": "8xlfzGZWWkBm"
      }
    },
    {
      "cell_type": "code",
      "source": [
        "X = stock_prediction_data['content']\n",
        "Y = stock_prediction_data['label']"
      ],
      "metadata": {
        "id": "nkCG6gGLWjin"
      },
      "execution_count": null,
      "outputs": []
    },
    {
      "cell_type": "code",
      "source": [
        "X_train, X_test, Y_train, Y_test = train_test_split(X, Y, test_size = 0.2, random_state = 10)"
      ],
      "metadata": {
        "id": "DvkjTgbAW8WZ"
      },
      "execution_count": null,
      "outputs": []
    },
    {
      "cell_type": "code",
      "source": [
        "from sklearn.feature_extraction.text import CountVectorizer\n",
        "vectorizer = CountVectorizer(stop_words='english')\n",
        "X_train = vectorizer.fit_transform(X_train)\n",
        "X_test = vectorizer.transform(X_test)\n",
        "#X_test = vectorizer.fit_transform(X_test)\n",
        "print(X_train.shape)\n",
        "print(X_test.shape)"
      ],
      "metadata": {
        "colab": {
          "base_uri": "https://localhost:8080/"
        },
        "id": "dNG_ZEToXNCz",
        "outputId": "88c6b6a9-65ed-46cc-aff8-efdf9d86e9a8"
      },
      "execution_count": null,
      "outputs": [
        {
          "output_type": "stream",
          "name": "stdout",
          "text": [
            "(4390, 36032)\n",
            "(1098, 36032)\n"
          ]
        }
      ]
    },
    {
      "cell_type": "markdown",
      "source": [
        "# Simple Model Evaluation on Dataset\n",
        "\n"
      ],
      "metadata": {
        "id": "U1llwtV5U25h"
      }
    },
    {
      "cell_type": "code",
      "source": [
        "from sklearn.naive_bayes import MultinomialNB\n",
        "from sklearn.ensemble import RandomForestClassifier\n",
        "from sklearn.linear_model import LogisticRegression\n",
        "from sklearn.svm import SVC\n",
        "from sklearn.metrics import accuracy_score"
      ],
      "metadata": {
        "id": "VL5xecOkU2Qb"
      },
      "execution_count": null,
      "outputs": []
    },
    {
      "cell_type": "code",
      "source": [
        "nb = MultinomialNB()\n",
        "rf = RandomForestClassifier(random_state=42)\n",
        "lr = LogisticRegression(max_iter=5000)\n",
        "svm = SVC()\n",
        "models = {\n",
        "    \"Naive Bayes\": nb,\n",
        "    \"Random Forest\": rf,\n",
        "    \"Logistic Regression\": lr,\n",
        "    \"Support Vector Machine\": svm,\n",
        "}"
      ],
      "metadata": {
        "id": "erlSFr7eY9uG"
      },
      "execution_count": null,
      "outputs": []
    },
    {
      "cell_type": "code",
      "source": [
        "def test_model(model, x_train, y_train, x_test, y_test):\n",
        "    model.fit(x_train, y_train)\n",
        "    y_pred = model.predict(x_test)\n",
        "    accuracy = accuracy_score(y_pred, y_test)\n",
        "    return accuracy"
      ],
      "metadata": {
        "id": "NG4aZRelXg69"
      },
      "execution_count": null,
      "outputs": []
    },
    {
      "cell_type": "code",
      "source": [
        "accuracies = []\n",
        "for key, model in models.items():\n",
        "  model_acc = test_model(model, X_train, Y_train, X_test, Y_test)\n",
        "  accuracies.append(model_acc)\n",
        "model_performances = pd.DataFrame({'Model':models.keys(), \"Accuracy\":accuracies})"
      ],
      "metadata": {
        "id": "ZF3WFbu9ZhWv"
      },
      "execution_count": null,
      "outputs": []
    },
    {
      "cell_type": "code",
      "source": [
        "model_performances"
      ],
      "metadata": {
        "colab": {
          "base_uri": "https://localhost:8080/",
          "height": 175
        },
        "id": "hIm-VWBZl11-",
        "outputId": "f27c10f3-542a-4f6c-f89e-440610269738"
      },
      "execution_count": null,
      "outputs": [
        {
          "output_type": "execute_result",
          "data": {
            "text/plain": [
              "                    Model  Accuracy\n",
              "0             Naive Bayes  0.569217\n",
              "1           Random Forest  0.571038\n",
              "2     Logistic Regression  0.556466\n",
              "3  Support Vector Machine  0.573770"
            ],
            "text/html": [
              "\n",
              "  <div id=\"df-6d7afb32-e39c-41fc-abe8-f00ee4668cd9\">\n",
              "    <div class=\"colab-df-container\">\n",
              "      <div>\n",
              "<style scoped>\n",
              "    .dataframe tbody tr th:only-of-type {\n",
              "        vertical-align: middle;\n",
              "    }\n",
              "\n",
              "    .dataframe tbody tr th {\n",
              "        vertical-align: top;\n",
              "    }\n",
              "\n",
              "    .dataframe thead th {\n",
              "        text-align: right;\n",
              "    }\n",
              "</style>\n",
              "<table border=\"1\" class=\"dataframe\">\n",
              "  <thead>\n",
              "    <tr style=\"text-align: right;\">\n",
              "      <th></th>\n",
              "      <th>Model</th>\n",
              "      <th>Accuracy</th>\n",
              "    </tr>\n",
              "  </thead>\n",
              "  <tbody>\n",
              "    <tr>\n",
              "      <th>0</th>\n",
              "      <td>Naive Bayes</td>\n",
              "      <td>0.569217</td>\n",
              "    </tr>\n",
              "    <tr>\n",
              "      <th>1</th>\n",
              "      <td>Random Forest</td>\n",
              "      <td>0.571038</td>\n",
              "    </tr>\n",
              "    <tr>\n",
              "      <th>2</th>\n",
              "      <td>Logistic Regression</td>\n",
              "      <td>0.556466</td>\n",
              "    </tr>\n",
              "    <tr>\n",
              "      <th>3</th>\n",
              "      <td>Support Vector Machine</td>\n",
              "      <td>0.573770</td>\n",
              "    </tr>\n",
              "  </tbody>\n",
              "</table>\n",
              "</div>\n",
              "      <button class=\"colab-df-convert\" onclick=\"convertToInteractive('df-6d7afb32-e39c-41fc-abe8-f00ee4668cd9')\"\n",
              "              title=\"Convert this dataframe to an interactive table.\"\n",
              "              style=\"display:none;\">\n",
              "        \n",
              "  <svg xmlns=\"http://www.w3.org/2000/svg\" height=\"24px\"viewBox=\"0 0 24 24\"\n",
              "       width=\"24px\">\n",
              "    <path d=\"M0 0h24v24H0V0z\" fill=\"none\"/>\n",
              "    <path d=\"M18.56 5.44l.94 2.06.94-2.06 2.06-.94-2.06-.94-.94-2.06-.94 2.06-2.06.94zm-11 1L8.5 8.5l.94-2.06 2.06-.94-2.06-.94L8.5 2.5l-.94 2.06-2.06.94zm10 10l.94 2.06.94-2.06 2.06-.94-2.06-.94-.94-2.06-.94 2.06-2.06.94z\"/><path d=\"M17.41 7.96l-1.37-1.37c-.4-.4-.92-.59-1.43-.59-.52 0-1.04.2-1.43.59L10.3 9.45l-7.72 7.72c-.78.78-.78 2.05 0 2.83L4 21.41c.39.39.9.59 1.41.59.51 0 1.02-.2 1.41-.59l7.78-7.78 2.81-2.81c.8-.78.8-2.07 0-2.86zM5.41 20L4 18.59l7.72-7.72 1.47 1.35L5.41 20z\"/>\n",
              "  </svg>\n",
              "      </button>\n",
              "      \n",
              "  <style>\n",
              "    .colab-df-container {\n",
              "      display:flex;\n",
              "      flex-wrap:wrap;\n",
              "      gap: 12px;\n",
              "    }\n",
              "\n",
              "    .colab-df-convert {\n",
              "      background-color: #E8F0FE;\n",
              "      border: none;\n",
              "      border-radius: 50%;\n",
              "      cursor: pointer;\n",
              "      display: none;\n",
              "      fill: #1967D2;\n",
              "      height: 32px;\n",
              "      padding: 0 0 0 0;\n",
              "      width: 32px;\n",
              "    }\n",
              "\n",
              "    .colab-df-convert:hover {\n",
              "      background-color: #E2EBFA;\n",
              "      box-shadow: 0px 1px 2px rgba(60, 64, 67, 0.3), 0px 1px 3px 1px rgba(60, 64, 67, 0.15);\n",
              "      fill: #174EA6;\n",
              "    }\n",
              "\n",
              "    [theme=dark] .colab-df-convert {\n",
              "      background-color: #3B4455;\n",
              "      fill: #D2E3FC;\n",
              "    }\n",
              "\n",
              "    [theme=dark] .colab-df-convert:hover {\n",
              "      background-color: #434B5C;\n",
              "      box-shadow: 0px 1px 3px 1px rgba(0, 0, 0, 0.15);\n",
              "      filter: drop-shadow(0px 1px 2px rgba(0, 0, 0, 0.3));\n",
              "      fill: #FFFFFF;\n",
              "    }\n",
              "  </style>\n",
              "\n",
              "      <script>\n",
              "        const buttonEl =\n",
              "          document.querySelector('#df-6d7afb32-e39c-41fc-abe8-f00ee4668cd9 button.colab-df-convert');\n",
              "        buttonEl.style.display =\n",
              "          google.colab.kernel.accessAllowed ? 'block' : 'none';\n",
              "\n",
              "        async function convertToInteractive(key) {\n",
              "          const element = document.querySelector('#df-6d7afb32-e39c-41fc-abe8-f00ee4668cd9');\n",
              "          const dataTable =\n",
              "            await google.colab.kernel.invokeFunction('convertToInteractive',\n",
              "                                                     [key], {});\n",
              "          if (!dataTable) return;\n",
              "\n",
              "          const docLinkHtml = 'Like what you see? Visit the ' +\n",
              "            '<a target=\"_blank\" href=https://colab.research.google.com/notebooks/data_table.ipynb>data table notebook</a>'\n",
              "            + ' to learn more about interactive tables.';\n",
              "          element.innerHTML = '';\n",
              "          dataTable['output_type'] = 'display_data';\n",
              "          await google.colab.output.renderOutput(dataTable, element);\n",
              "          const docLink = document.createElement('div');\n",
              "          docLink.innerHTML = docLinkHtml;\n",
              "          element.appendChild(docLink);\n",
              "        }\n",
              "      </script>\n",
              "    </div>\n",
              "  </div>\n",
              "  "
            ]
          },
          "metadata": {},
          "execution_count": 23
        }
      ]
    },
    {
      "cell_type": "code",
      "source": [],
      "metadata": {
        "id": "EHIZJJG7YIc0"
      },
      "execution_count": null,
      "outputs": []
    }
  ]
}