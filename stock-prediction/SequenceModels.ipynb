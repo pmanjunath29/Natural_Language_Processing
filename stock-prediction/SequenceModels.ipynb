{
  "nbformat": 4,
  "nbformat_minor": 0,
  "metadata": {
    "colab": {
      "provenance": []
    },
    "kernelspec": {
      "name": "python3",
      "display_name": "Python 3"
    },
    "language_info": {
      "name": "python"
    },
    "widgets": {
      "application/vnd.jupyter.widget-state+json": {
        "5671bd87bc7e4a44b38d909fcca07176": {
          "model_module": "@jupyter-widgets/controls",
          "model_name": "HBoxModel",
          "model_module_version": "1.5.0",
          "state": {
            "_dom_classes": [],
            "_model_module": "@jupyter-widgets/controls",
            "_model_module_version": "1.5.0",
            "_model_name": "HBoxModel",
            "_view_count": null,
            "_view_module": "@jupyter-widgets/controls",
            "_view_module_version": "1.5.0",
            "_view_name": "HBoxView",
            "box_style": "",
            "children": [
              "IPY_MODEL_65543c4c331a4a1d91c1e1e17b7dda28",
              "IPY_MODEL_4111db31d8434114aa180eb4deb6141e",
              "IPY_MODEL_253b4dfff40840b0ad9bc1d0ffd0516d"
            ],
            "layout": "IPY_MODEL_e87a5ec2d0584765a44f2e96cd2eb5ab"
          }
        },
        "65543c4c331a4a1d91c1e1e17b7dda28": {
          "model_module": "@jupyter-widgets/controls",
          "model_name": "HTMLModel",
          "model_module_version": "1.5.0",
          "state": {
            "_dom_classes": [],
            "_model_module": "@jupyter-widgets/controls",
            "_model_module_version": "1.5.0",
            "_model_name": "HTMLModel",
            "_view_count": null,
            "_view_module": "@jupyter-widgets/controls",
            "_view_module_version": "1.5.0",
            "_view_name": "HTMLView",
            "description": "",
            "description_tooltip": null,
            "layout": "IPY_MODEL_85701e22ac554084a3739c0033a3dff9",
            "placeholder": "​",
            "style": "IPY_MODEL_8dddc4bb0dd645c4a986e2d54b4163db",
            "value": "100%"
          }
        },
        "4111db31d8434114aa180eb4deb6141e": {
          "model_module": "@jupyter-widgets/controls",
          "model_name": "FloatProgressModel",
          "model_module_version": "1.5.0",
          "state": {
            "_dom_classes": [],
            "_model_module": "@jupyter-widgets/controls",
            "_model_module_version": "1.5.0",
            "_model_name": "FloatProgressModel",
            "_view_count": null,
            "_view_module": "@jupyter-widgets/controls",
            "_view_module_version": "1.5.0",
            "_view_name": "ProgressView",
            "bar_style": "success",
            "description": "",
            "description_tooltip": null,
            "layout": "IPY_MODEL_9cc8bd001be843648281f91746f8e441",
            "max": 5000,
            "min": 0,
            "orientation": "horizontal",
            "style": "IPY_MODEL_42ae377c9b0649d6a2049f1166981341",
            "value": 5000
          }
        },
        "253b4dfff40840b0ad9bc1d0ffd0516d": {
          "model_module": "@jupyter-widgets/controls",
          "model_name": "HTMLModel",
          "model_module_version": "1.5.0",
          "state": {
            "_dom_classes": [],
            "_model_module": "@jupyter-widgets/controls",
            "_model_module_version": "1.5.0",
            "_model_name": "HTMLModel",
            "_view_count": null,
            "_view_module": "@jupyter-widgets/controls",
            "_view_module_version": "1.5.0",
            "_view_name": "HTMLView",
            "description": "",
            "description_tooltip": null,
            "layout": "IPY_MODEL_34c19985dc6b4a25b34f4ffa76037196",
            "placeholder": "​",
            "style": "IPY_MODEL_08ddecfb60a44a42b925d15cb6ea4c5f",
            "value": " 5000/5000 [00:06&lt;00:00, 827.39it/s]"
          }
        },
        "e87a5ec2d0584765a44f2e96cd2eb5ab": {
          "model_module": "@jupyter-widgets/base",
          "model_name": "LayoutModel",
          "model_module_version": "1.2.0",
          "state": {
            "_model_module": "@jupyter-widgets/base",
            "_model_module_version": "1.2.0",
            "_model_name": "LayoutModel",
            "_view_count": null,
            "_view_module": "@jupyter-widgets/base",
            "_view_module_version": "1.2.0",
            "_view_name": "LayoutView",
            "align_content": null,
            "align_items": null,
            "align_self": null,
            "border": null,
            "bottom": null,
            "display": null,
            "flex": null,
            "flex_flow": null,
            "grid_area": null,
            "grid_auto_columns": null,
            "grid_auto_flow": null,
            "grid_auto_rows": null,
            "grid_column": null,
            "grid_gap": null,
            "grid_row": null,
            "grid_template_areas": null,
            "grid_template_columns": null,
            "grid_template_rows": null,
            "height": null,
            "justify_content": null,
            "justify_items": null,
            "left": null,
            "margin": null,
            "max_height": null,
            "max_width": null,
            "min_height": null,
            "min_width": null,
            "object_fit": null,
            "object_position": null,
            "order": null,
            "overflow": null,
            "overflow_x": null,
            "overflow_y": null,
            "padding": null,
            "right": null,
            "top": null,
            "visibility": null,
            "width": null
          }
        },
        "85701e22ac554084a3739c0033a3dff9": {
          "model_module": "@jupyter-widgets/base",
          "model_name": "LayoutModel",
          "model_module_version": "1.2.0",
          "state": {
            "_model_module": "@jupyter-widgets/base",
            "_model_module_version": "1.2.0",
            "_model_name": "LayoutModel",
            "_view_count": null,
            "_view_module": "@jupyter-widgets/base",
            "_view_module_version": "1.2.0",
            "_view_name": "LayoutView",
            "align_content": null,
            "align_items": null,
            "align_self": null,
            "border": null,
            "bottom": null,
            "display": null,
            "flex": null,
            "flex_flow": null,
            "grid_area": null,
            "grid_auto_columns": null,
            "grid_auto_flow": null,
            "grid_auto_rows": null,
            "grid_column": null,
            "grid_gap": null,
            "grid_row": null,
            "grid_template_areas": null,
            "grid_template_columns": null,
            "grid_template_rows": null,
            "height": null,
            "justify_content": null,
            "justify_items": null,
            "left": null,
            "margin": null,
            "max_height": null,
            "max_width": null,
            "min_height": null,
            "min_width": null,
            "object_fit": null,
            "object_position": null,
            "order": null,
            "overflow": null,
            "overflow_x": null,
            "overflow_y": null,
            "padding": null,
            "right": null,
            "top": null,
            "visibility": null,
            "width": null
          }
        },
        "8dddc4bb0dd645c4a986e2d54b4163db": {
          "model_module": "@jupyter-widgets/controls",
          "model_name": "DescriptionStyleModel",
          "model_module_version": "1.5.0",
          "state": {
            "_model_module": "@jupyter-widgets/controls",
            "_model_module_version": "1.5.0",
            "_model_name": "DescriptionStyleModel",
            "_view_count": null,
            "_view_module": "@jupyter-widgets/base",
            "_view_module_version": "1.2.0",
            "_view_name": "StyleView",
            "description_width": ""
          }
        },
        "9cc8bd001be843648281f91746f8e441": {
          "model_module": "@jupyter-widgets/base",
          "model_name": "LayoutModel",
          "model_module_version": "1.2.0",
          "state": {
            "_model_module": "@jupyter-widgets/base",
            "_model_module_version": "1.2.0",
            "_model_name": "LayoutModel",
            "_view_count": null,
            "_view_module": "@jupyter-widgets/base",
            "_view_module_version": "1.2.0",
            "_view_name": "LayoutView",
            "align_content": null,
            "align_items": null,
            "align_self": null,
            "border": null,
            "bottom": null,
            "display": null,
            "flex": null,
            "flex_flow": null,
            "grid_area": null,
            "grid_auto_columns": null,
            "grid_auto_flow": null,
            "grid_auto_rows": null,
            "grid_column": null,
            "grid_gap": null,
            "grid_row": null,
            "grid_template_areas": null,
            "grid_template_columns": null,
            "grid_template_rows": null,
            "height": null,
            "justify_content": null,
            "justify_items": null,
            "left": null,
            "margin": null,
            "max_height": null,
            "max_width": null,
            "min_height": null,
            "min_width": null,
            "object_fit": null,
            "object_position": null,
            "order": null,
            "overflow": null,
            "overflow_x": null,
            "overflow_y": null,
            "padding": null,
            "right": null,
            "top": null,
            "visibility": null,
            "width": null
          }
        },
        "42ae377c9b0649d6a2049f1166981341": {
          "model_module": "@jupyter-widgets/controls",
          "model_name": "ProgressStyleModel",
          "model_module_version": "1.5.0",
          "state": {
            "_model_module": "@jupyter-widgets/controls",
            "_model_module_version": "1.5.0",
            "_model_name": "ProgressStyleModel",
            "_view_count": null,
            "_view_module": "@jupyter-widgets/base",
            "_view_module_version": "1.2.0",
            "_view_name": "StyleView",
            "bar_color": null,
            "description_width": ""
          }
        },
        "34c19985dc6b4a25b34f4ffa76037196": {
          "model_module": "@jupyter-widgets/base",
          "model_name": "LayoutModel",
          "model_module_version": "1.2.0",
          "state": {
            "_model_module": "@jupyter-widgets/base",
            "_model_module_version": "1.2.0",
            "_model_name": "LayoutModel",
            "_view_count": null,
            "_view_module": "@jupyter-widgets/base",
            "_view_module_version": "1.2.0",
            "_view_name": "LayoutView",
            "align_content": null,
            "align_items": null,
            "align_self": null,
            "border": null,
            "bottom": null,
            "display": null,
            "flex": null,
            "flex_flow": null,
            "grid_area": null,
            "grid_auto_columns": null,
            "grid_auto_flow": null,
            "grid_auto_rows": null,
            "grid_column": null,
            "grid_gap": null,
            "grid_row": null,
            "grid_template_areas": null,
            "grid_template_columns": null,
            "grid_template_rows": null,
            "height": null,
            "justify_content": null,
            "justify_items": null,
            "left": null,
            "margin": null,
            "max_height": null,
            "max_width": null,
            "min_height": null,
            "min_width": null,
            "object_fit": null,
            "object_position": null,
            "order": null,
            "overflow": null,
            "overflow_x": null,
            "overflow_y": null,
            "padding": null,
            "right": null,
            "top": null,
            "visibility": null,
            "width": null
          }
        },
        "08ddecfb60a44a42b925d15cb6ea4c5f": {
          "model_module": "@jupyter-widgets/controls",
          "model_name": "DescriptionStyleModel",
          "model_module_version": "1.5.0",
          "state": {
            "_model_module": "@jupyter-widgets/controls",
            "_model_module_version": "1.5.0",
            "_model_name": "DescriptionStyleModel",
            "_view_count": null,
            "_view_module": "@jupyter-widgets/base",
            "_view_module_version": "1.2.0",
            "_view_name": "StyleView",
            "description_width": ""
          }
        }
      }
    }
  },
  "cells": [
    {
      "cell_type": "markdown",
      "source": [
        "# Analysis of Financial Documents to Forecast Stock Prices"
      ],
      "metadata": {
        "id": "BrenCh37l1o9"
      }
    },
    {
      "cell_type": "code",
      "source": [
        "import pandas as pd\n",
        "import numpy as np\n",
        "import matplotlib.pyplot as plt\n",
        "from tqdm import tqdm_notebook as tqdm\n",
        "import seaborn as sns\n",
        "import nltk\n",
        "nltk.download('punkt')"
      ],
      "metadata": {
        "colab": {
          "base_uri": "https://localhost:8080/"
        },
        "id": "7448CBa9l60c",
        "outputId": "9e3ad224-0bc1-4a38-d356-f618408e6869"
      },
      "execution_count": null,
      "outputs": [
        {
          "output_type": "stream",
          "name": "stderr",
          "text": [
            "[nltk_data] Downloading package punkt to /root/nltk_data...\n",
            "[nltk_data]   Unzipping tokenizers/punkt.zip.\n"
          ]
        },
        {
          "output_type": "execute_result",
          "data": {
            "text/plain": [
              "True"
            ]
          },
          "metadata": {},
          "execution_count": 24
        }
      ]
    },
    {
      "cell_type": "code",
      "source": [
        "stock_predictions = pd.read_csv('/content/NEWS_YAHOO_stock_prediction.csv')\n",
        "stock_predictions.head()"
      ],
      "metadata": {
        "colab": {
          "base_uri": "https://localhost:8080/",
          "height": 354
        },
        "id": "RnboPL_NmxbQ",
        "outputId": "0665faf9-4944-43c0-de8d-8fa9ea344521"
      },
      "execution_count": null,
      "outputs": [
        {
          "output_type": "execute_result",
          "data": {
            "text/plain": [
              "   Unnamed: 0 ticker        Date category  \\\n",
              "0           0   AAPL  2020-01-27  opinion   \n",
              "1           1   AAPL  2020-01-27  opinion   \n",
              "2           2   AAPL  2020-01-27  opinion   \n",
              "3           3   AAPL  2020-01-27  opinion   \n",
              "4           4   AAPL  2020-01-27  opinion   \n",
              "\n",
              "                                               title  \\\n",
              "0  Apple Set To Beat Q1 Earnings Estimates  Tech ...   \n",
              "1  Tech Daily  Intel Results  Netflix Surge  Appl...   \n",
              "2  7 Monster Stock Market Predictions For The Wee...   \n",
              "3  Apple Earnings Preview  5G Launch  Expanding S...   \n",
              "4  Buy Surging Apple   Microsoft Stock Before Qua...   \n",
              "\n",
              "                                             content       Open       High  \\\n",
              "0  Technology giant Apple   NASDAQ AAPL   is set ...  77.514999  77.942497   \n",
              "1  The top stories in this digest are Intel s   N...  77.514999  77.942497   \n",
              "2  S P 500  SPY \\nThis week will be packed with e...  77.514999  77.942497   \n",
              "3    Reports Q1 2020 results on Tuesday  Jan  28 ...  77.514999  77.942497   \n",
              "4  On today s episode of Full Court Finance here ...  77.514999  77.942497   \n",
              "\n",
              "         Low      Close  Adj Close     Volume  label  \n",
              "0  76.220001  77.237503  75.793358  161940000      0  \n",
              "1  76.220001  77.237503  75.793358  161940000      0  \n",
              "2  76.220001  77.237503  75.793358  161940000      0  \n",
              "3  76.220001  77.237503  75.793358  161940000      0  \n",
              "4  76.220001  77.237503  75.793358  161940000      0  "
            ],
            "text/html": [
              "\n",
              "  <div id=\"df-3437f55f-71c7-4091-b6c6-e13e42cc0c1b\">\n",
              "    <div class=\"colab-df-container\">\n",
              "      <div>\n",
              "<style scoped>\n",
              "    .dataframe tbody tr th:only-of-type {\n",
              "        vertical-align: middle;\n",
              "    }\n",
              "\n",
              "    .dataframe tbody tr th {\n",
              "        vertical-align: top;\n",
              "    }\n",
              "\n",
              "    .dataframe thead th {\n",
              "        text-align: right;\n",
              "    }\n",
              "</style>\n",
              "<table border=\"1\" class=\"dataframe\">\n",
              "  <thead>\n",
              "    <tr style=\"text-align: right;\">\n",
              "      <th></th>\n",
              "      <th>Unnamed: 0</th>\n",
              "      <th>ticker</th>\n",
              "      <th>Date</th>\n",
              "      <th>category</th>\n",
              "      <th>title</th>\n",
              "      <th>content</th>\n",
              "      <th>Open</th>\n",
              "      <th>High</th>\n",
              "      <th>Low</th>\n",
              "      <th>Close</th>\n",
              "      <th>Adj Close</th>\n",
              "      <th>Volume</th>\n",
              "      <th>label</th>\n",
              "    </tr>\n",
              "  </thead>\n",
              "  <tbody>\n",
              "    <tr>\n",
              "      <th>0</th>\n",
              "      <td>0</td>\n",
              "      <td>AAPL</td>\n",
              "      <td>2020-01-27</td>\n",
              "      <td>opinion</td>\n",
              "      <td>Apple Set To Beat Q1 Earnings Estimates  Tech ...</td>\n",
              "      <td>Technology giant Apple   NASDAQ AAPL   is set ...</td>\n",
              "      <td>77.514999</td>\n",
              "      <td>77.942497</td>\n",
              "      <td>76.220001</td>\n",
              "      <td>77.237503</td>\n",
              "      <td>75.793358</td>\n",
              "      <td>161940000</td>\n",
              "      <td>0</td>\n",
              "    </tr>\n",
              "    <tr>\n",
              "      <th>1</th>\n",
              "      <td>1</td>\n",
              "      <td>AAPL</td>\n",
              "      <td>2020-01-27</td>\n",
              "      <td>opinion</td>\n",
              "      <td>Tech Daily  Intel Results  Netflix Surge  Appl...</td>\n",
              "      <td>The top stories in this digest are Intel s   N...</td>\n",
              "      <td>77.514999</td>\n",
              "      <td>77.942497</td>\n",
              "      <td>76.220001</td>\n",
              "      <td>77.237503</td>\n",
              "      <td>75.793358</td>\n",
              "      <td>161940000</td>\n",
              "      <td>0</td>\n",
              "    </tr>\n",
              "    <tr>\n",
              "      <th>2</th>\n",
              "      <td>2</td>\n",
              "      <td>AAPL</td>\n",
              "      <td>2020-01-27</td>\n",
              "      <td>opinion</td>\n",
              "      <td>7 Monster Stock Market Predictions For The Wee...</td>\n",
              "      <td>S P 500  SPY \\nThis week will be packed with e...</td>\n",
              "      <td>77.514999</td>\n",
              "      <td>77.942497</td>\n",
              "      <td>76.220001</td>\n",
              "      <td>77.237503</td>\n",
              "      <td>75.793358</td>\n",
              "      <td>161940000</td>\n",
              "      <td>0</td>\n",
              "    </tr>\n",
              "    <tr>\n",
              "      <th>3</th>\n",
              "      <td>3</td>\n",
              "      <td>AAPL</td>\n",
              "      <td>2020-01-27</td>\n",
              "      <td>opinion</td>\n",
              "      <td>Apple Earnings Preview  5G Launch  Expanding S...</td>\n",
              "      <td>Reports Q1 2020 results on Tuesday  Jan  28 ...</td>\n",
              "      <td>77.514999</td>\n",
              "      <td>77.942497</td>\n",
              "      <td>76.220001</td>\n",
              "      <td>77.237503</td>\n",
              "      <td>75.793358</td>\n",
              "      <td>161940000</td>\n",
              "      <td>0</td>\n",
              "    </tr>\n",
              "    <tr>\n",
              "      <th>4</th>\n",
              "      <td>4</td>\n",
              "      <td>AAPL</td>\n",
              "      <td>2020-01-27</td>\n",
              "      <td>opinion</td>\n",
              "      <td>Buy Surging Apple   Microsoft Stock Before Qua...</td>\n",
              "      <td>On today s episode of Full Court Finance here ...</td>\n",
              "      <td>77.514999</td>\n",
              "      <td>77.942497</td>\n",
              "      <td>76.220001</td>\n",
              "      <td>77.237503</td>\n",
              "      <td>75.793358</td>\n",
              "      <td>161940000</td>\n",
              "      <td>0</td>\n",
              "    </tr>\n",
              "  </tbody>\n",
              "</table>\n",
              "</div>\n",
              "      <button class=\"colab-df-convert\" onclick=\"convertToInteractive('df-3437f55f-71c7-4091-b6c6-e13e42cc0c1b')\"\n",
              "              title=\"Convert this dataframe to an interactive table.\"\n",
              "              style=\"display:none;\">\n",
              "        \n",
              "  <svg xmlns=\"http://www.w3.org/2000/svg\" height=\"24px\"viewBox=\"0 0 24 24\"\n",
              "       width=\"24px\">\n",
              "    <path d=\"M0 0h24v24H0V0z\" fill=\"none\"/>\n",
              "    <path d=\"M18.56 5.44l.94 2.06.94-2.06 2.06-.94-2.06-.94-.94-2.06-.94 2.06-2.06.94zm-11 1L8.5 8.5l.94-2.06 2.06-.94-2.06-.94L8.5 2.5l-.94 2.06-2.06.94zm10 10l.94 2.06.94-2.06 2.06-.94-2.06-.94-.94-2.06-.94 2.06-2.06.94z\"/><path d=\"M17.41 7.96l-1.37-1.37c-.4-.4-.92-.59-1.43-.59-.52 0-1.04.2-1.43.59L10.3 9.45l-7.72 7.72c-.78.78-.78 2.05 0 2.83L4 21.41c.39.39.9.59 1.41.59.51 0 1.02-.2 1.41-.59l7.78-7.78 2.81-2.81c.8-.78.8-2.07 0-2.86zM5.41 20L4 18.59l7.72-7.72 1.47 1.35L5.41 20z\"/>\n",
              "  </svg>\n",
              "      </button>\n",
              "      \n",
              "  <style>\n",
              "    .colab-df-container {\n",
              "      display:flex;\n",
              "      flex-wrap:wrap;\n",
              "      gap: 12px;\n",
              "    }\n",
              "\n",
              "    .colab-df-convert {\n",
              "      background-color: #E8F0FE;\n",
              "      border: none;\n",
              "      border-radius: 50%;\n",
              "      cursor: pointer;\n",
              "      display: none;\n",
              "      fill: #1967D2;\n",
              "      height: 32px;\n",
              "      padding: 0 0 0 0;\n",
              "      width: 32px;\n",
              "    }\n",
              "\n",
              "    .colab-df-convert:hover {\n",
              "      background-color: #E2EBFA;\n",
              "      box-shadow: 0px 1px 2px rgba(60, 64, 67, 0.3), 0px 1px 3px 1px rgba(60, 64, 67, 0.15);\n",
              "      fill: #174EA6;\n",
              "    }\n",
              "\n",
              "    [theme=dark] .colab-df-convert {\n",
              "      background-color: #3B4455;\n",
              "      fill: #D2E3FC;\n",
              "    }\n",
              "\n",
              "    [theme=dark] .colab-df-convert:hover {\n",
              "      background-color: #434B5C;\n",
              "      box-shadow: 0px 1px 3px 1px rgba(0, 0, 0, 0.15);\n",
              "      filter: drop-shadow(0px 1px 2px rgba(0, 0, 0, 0.3));\n",
              "      fill: #FFFFFF;\n",
              "    }\n",
              "  </style>\n",
              "\n",
              "      <script>\n",
              "        const buttonEl =\n",
              "          document.querySelector('#df-3437f55f-71c7-4091-b6c6-e13e42cc0c1b button.colab-df-convert');\n",
              "        buttonEl.style.display =\n",
              "          google.colab.kernel.accessAllowed ? 'block' : 'none';\n",
              "\n",
              "        async function convertToInteractive(key) {\n",
              "          const element = document.querySelector('#df-3437f55f-71c7-4091-b6c6-e13e42cc0c1b');\n",
              "          const dataTable =\n",
              "            await google.colab.kernel.invokeFunction('convertToInteractive',\n",
              "                                                     [key], {});\n",
              "          if (!dataTable) return;\n",
              "\n",
              "          const docLinkHtml = 'Like what you see? Visit the ' +\n",
              "            '<a target=\"_blank\" href=https://colab.research.google.com/notebooks/data_table.ipynb>data table notebook</a>'\n",
              "            + ' to learn more about interactive tables.';\n",
              "          element.innerHTML = '';\n",
              "          dataTable['output_type'] = 'display_data';\n",
              "          await google.colab.output.renderOutput(dataTable, element);\n",
              "          const docLink = document.createElement('div');\n",
              "          docLink.innerHTML = docLinkHtml;\n",
              "          element.appendChild(docLink);\n",
              "        }\n",
              "      </script>\n",
              "    </div>\n",
              "  </div>\n",
              "  "
            ]
          },
          "metadata": {},
          "execution_count": 3
        }
      ]
    },
    {
      "cell_type": "code",
      "source": [
        "stock_predictions = stock_predictions[:5000]\n",
        "stock_predictions.shape"
      ],
      "metadata": {
        "colab": {
          "base_uri": "https://localhost:8080/"
        },
        "id": "4sZ8luJcuK0I",
        "outputId": "89c75a0d-f5c2-47fb-be5f-c412c8b0a2ee"
      },
      "execution_count": null,
      "outputs": [
        {
          "output_type": "execute_result",
          "data": {
            "text/plain": [
              "(5000, 15)"
            ]
          },
          "metadata": {},
          "execution_count": 30
        }
      ]
    },
    {
      "cell_type": "code",
      "source": [
        "stock_predictions['length'] = list(map(lambda x: len(str(x).split(' ')),stock_predictions['content']))\n",
        "stock_predictions.head()"
      ],
      "metadata": {
        "colab": {
          "base_uri": "https://localhost:8080/",
          "height": 354
        },
        "id": "_l-3UR-bnALb",
        "outputId": "c07b9db1-41bf-4d27-960d-df9c9541f8f5"
      },
      "execution_count": null,
      "outputs": [
        {
          "output_type": "execute_result",
          "data": {
            "text/plain": [
              "   Unnamed: 0 ticker        Date category  \\\n",
              "0           0   AAPL  2020-01-27  opinion   \n",
              "1           1   AAPL  2020-01-27  opinion   \n",
              "2           2   AAPL  2020-01-27  opinion   \n",
              "3           3   AAPL  2020-01-27  opinion   \n",
              "4           4   AAPL  2020-01-27  opinion   \n",
              "\n",
              "                                               title  \\\n",
              "0  Apple Set To Beat Q1 Earnings Estimates  Tech ...   \n",
              "1  Tech Daily  Intel Results  Netflix Surge  Appl...   \n",
              "2  7 Monster Stock Market Predictions For The Wee...   \n",
              "3  Apple Earnings Preview  5G Launch  Expanding S...   \n",
              "4  Buy Surging Apple   Microsoft Stock Before Qua...   \n",
              "\n",
              "                                             content       Open       High  \\\n",
              "0  Technology giant Apple   NASDAQ AAPL   is set ...  77.514999  77.942497   \n",
              "1  The top stories in this digest are Intel s   N...  77.514999  77.942497   \n",
              "2  S P 500  SPY \\nThis week will be packed with e...  77.514999  77.942497   \n",
              "3    Reports Q1 2020 results on Tuesday  Jan  28 ...  77.514999  77.942497   \n",
              "4  On today s episode of Full Court Finance here ...  77.514999  77.942497   \n",
              "\n",
              "         Low      Close  Adj Close     Volume  label   len  length  \n",
              "0  76.220001  77.237503  75.793358  161940000      0   710     710  \n",
              "1  76.220001  77.237503  75.793358  161940000      0  2099    2099  \n",
              "2  76.220001  77.237503  75.793358  161940000      0   509     509  \n",
              "3  76.220001  77.237503  75.793358  161940000      0   650     650  \n",
              "4  76.220001  77.237503  75.793358  161940000      0   362     362  "
            ],
            "text/html": [
              "\n",
              "  <div id=\"df-9df5bebc-d195-4576-aeac-e9d5700933f4\">\n",
              "    <div class=\"colab-df-container\">\n",
              "      <div>\n",
              "<style scoped>\n",
              "    .dataframe tbody tr th:only-of-type {\n",
              "        vertical-align: middle;\n",
              "    }\n",
              "\n",
              "    .dataframe tbody tr th {\n",
              "        vertical-align: top;\n",
              "    }\n",
              "\n",
              "    .dataframe thead th {\n",
              "        text-align: right;\n",
              "    }\n",
              "</style>\n",
              "<table border=\"1\" class=\"dataframe\">\n",
              "  <thead>\n",
              "    <tr style=\"text-align: right;\">\n",
              "      <th></th>\n",
              "      <th>Unnamed: 0</th>\n",
              "      <th>ticker</th>\n",
              "      <th>Date</th>\n",
              "      <th>category</th>\n",
              "      <th>title</th>\n",
              "      <th>content</th>\n",
              "      <th>Open</th>\n",
              "      <th>High</th>\n",
              "      <th>Low</th>\n",
              "      <th>Close</th>\n",
              "      <th>Adj Close</th>\n",
              "      <th>Volume</th>\n",
              "      <th>label</th>\n",
              "      <th>len</th>\n",
              "      <th>length</th>\n",
              "    </tr>\n",
              "  </thead>\n",
              "  <tbody>\n",
              "    <tr>\n",
              "      <th>0</th>\n",
              "      <td>0</td>\n",
              "      <td>AAPL</td>\n",
              "      <td>2020-01-27</td>\n",
              "      <td>opinion</td>\n",
              "      <td>Apple Set To Beat Q1 Earnings Estimates  Tech ...</td>\n",
              "      <td>Technology giant Apple   NASDAQ AAPL   is set ...</td>\n",
              "      <td>77.514999</td>\n",
              "      <td>77.942497</td>\n",
              "      <td>76.220001</td>\n",
              "      <td>77.237503</td>\n",
              "      <td>75.793358</td>\n",
              "      <td>161940000</td>\n",
              "      <td>0</td>\n",
              "      <td>710</td>\n",
              "      <td>710</td>\n",
              "    </tr>\n",
              "    <tr>\n",
              "      <th>1</th>\n",
              "      <td>1</td>\n",
              "      <td>AAPL</td>\n",
              "      <td>2020-01-27</td>\n",
              "      <td>opinion</td>\n",
              "      <td>Tech Daily  Intel Results  Netflix Surge  Appl...</td>\n",
              "      <td>The top stories in this digest are Intel s   N...</td>\n",
              "      <td>77.514999</td>\n",
              "      <td>77.942497</td>\n",
              "      <td>76.220001</td>\n",
              "      <td>77.237503</td>\n",
              "      <td>75.793358</td>\n",
              "      <td>161940000</td>\n",
              "      <td>0</td>\n",
              "      <td>2099</td>\n",
              "      <td>2099</td>\n",
              "    </tr>\n",
              "    <tr>\n",
              "      <th>2</th>\n",
              "      <td>2</td>\n",
              "      <td>AAPL</td>\n",
              "      <td>2020-01-27</td>\n",
              "      <td>opinion</td>\n",
              "      <td>7 Monster Stock Market Predictions For The Wee...</td>\n",
              "      <td>S P 500  SPY \\nThis week will be packed with e...</td>\n",
              "      <td>77.514999</td>\n",
              "      <td>77.942497</td>\n",
              "      <td>76.220001</td>\n",
              "      <td>77.237503</td>\n",
              "      <td>75.793358</td>\n",
              "      <td>161940000</td>\n",
              "      <td>0</td>\n",
              "      <td>509</td>\n",
              "      <td>509</td>\n",
              "    </tr>\n",
              "    <tr>\n",
              "      <th>3</th>\n",
              "      <td>3</td>\n",
              "      <td>AAPL</td>\n",
              "      <td>2020-01-27</td>\n",
              "      <td>opinion</td>\n",
              "      <td>Apple Earnings Preview  5G Launch  Expanding S...</td>\n",
              "      <td>Reports Q1 2020 results on Tuesday  Jan  28 ...</td>\n",
              "      <td>77.514999</td>\n",
              "      <td>77.942497</td>\n",
              "      <td>76.220001</td>\n",
              "      <td>77.237503</td>\n",
              "      <td>75.793358</td>\n",
              "      <td>161940000</td>\n",
              "      <td>0</td>\n",
              "      <td>650</td>\n",
              "      <td>650</td>\n",
              "    </tr>\n",
              "    <tr>\n",
              "      <th>4</th>\n",
              "      <td>4</td>\n",
              "      <td>AAPL</td>\n",
              "      <td>2020-01-27</td>\n",
              "      <td>opinion</td>\n",
              "      <td>Buy Surging Apple   Microsoft Stock Before Qua...</td>\n",
              "      <td>On today s episode of Full Court Finance here ...</td>\n",
              "      <td>77.514999</td>\n",
              "      <td>77.942497</td>\n",
              "      <td>76.220001</td>\n",
              "      <td>77.237503</td>\n",
              "      <td>75.793358</td>\n",
              "      <td>161940000</td>\n",
              "      <td>0</td>\n",
              "      <td>362</td>\n",
              "      <td>362</td>\n",
              "    </tr>\n",
              "  </tbody>\n",
              "</table>\n",
              "</div>\n",
              "      <button class=\"colab-df-convert\" onclick=\"convertToInteractive('df-9df5bebc-d195-4576-aeac-e9d5700933f4')\"\n",
              "              title=\"Convert this dataframe to an interactive table.\"\n",
              "              style=\"display:none;\">\n",
              "        \n",
              "  <svg xmlns=\"http://www.w3.org/2000/svg\" height=\"24px\"viewBox=\"0 0 24 24\"\n",
              "       width=\"24px\">\n",
              "    <path d=\"M0 0h24v24H0V0z\" fill=\"none\"/>\n",
              "    <path d=\"M18.56 5.44l.94 2.06.94-2.06 2.06-.94-2.06-.94-.94-2.06-.94 2.06-2.06.94zm-11 1L8.5 8.5l.94-2.06 2.06-.94-2.06-.94L8.5 2.5l-.94 2.06-2.06.94zm10 10l.94 2.06.94-2.06 2.06-.94-2.06-.94-.94-2.06-.94 2.06-2.06.94z\"/><path d=\"M17.41 7.96l-1.37-1.37c-.4-.4-.92-.59-1.43-.59-.52 0-1.04.2-1.43.59L10.3 9.45l-7.72 7.72c-.78.78-.78 2.05 0 2.83L4 21.41c.39.39.9.59 1.41.59.51 0 1.02-.2 1.41-.59l7.78-7.78 2.81-2.81c.8-.78.8-2.07 0-2.86zM5.41 20L4 18.59l7.72-7.72 1.47 1.35L5.41 20z\"/>\n",
              "  </svg>\n",
              "      </button>\n",
              "      \n",
              "  <style>\n",
              "    .colab-df-container {\n",
              "      display:flex;\n",
              "      flex-wrap:wrap;\n",
              "      gap: 12px;\n",
              "    }\n",
              "\n",
              "    .colab-df-convert {\n",
              "      background-color: #E8F0FE;\n",
              "      border: none;\n",
              "      border-radius: 50%;\n",
              "      cursor: pointer;\n",
              "      display: none;\n",
              "      fill: #1967D2;\n",
              "      height: 32px;\n",
              "      padding: 0 0 0 0;\n",
              "      width: 32px;\n",
              "    }\n",
              "\n",
              "    .colab-df-convert:hover {\n",
              "      background-color: #E2EBFA;\n",
              "      box-shadow: 0px 1px 2px rgba(60, 64, 67, 0.3), 0px 1px 3px 1px rgba(60, 64, 67, 0.15);\n",
              "      fill: #174EA6;\n",
              "    }\n",
              "\n",
              "    [theme=dark] .colab-df-convert {\n",
              "      background-color: #3B4455;\n",
              "      fill: #D2E3FC;\n",
              "    }\n",
              "\n",
              "    [theme=dark] .colab-df-convert:hover {\n",
              "      background-color: #434B5C;\n",
              "      box-shadow: 0px 1px 3px 1px rgba(0, 0, 0, 0.15);\n",
              "      filter: drop-shadow(0px 1px 2px rgba(0, 0, 0, 0.3));\n",
              "      fill: #FFFFFF;\n",
              "    }\n",
              "  </style>\n",
              "\n",
              "      <script>\n",
              "        const buttonEl =\n",
              "          document.querySelector('#df-9df5bebc-d195-4576-aeac-e9d5700933f4 button.colab-df-convert');\n",
              "        buttonEl.style.display =\n",
              "          google.colab.kernel.accessAllowed ? 'block' : 'none';\n",
              "\n",
              "        async function convertToInteractive(key) {\n",
              "          const element = document.querySelector('#df-9df5bebc-d195-4576-aeac-e9d5700933f4');\n",
              "          const dataTable =\n",
              "            await google.colab.kernel.invokeFunction('convertToInteractive',\n",
              "                                                     [key], {});\n",
              "          if (!dataTable) return;\n",
              "\n",
              "          const docLinkHtml = 'Like what you see? Visit the ' +\n",
              "            '<a target=\"_blank\" href=https://colab.research.google.com/notebooks/data_table.ipynb>data table notebook</a>'\n",
              "            + ' to learn more about interactive tables.';\n",
              "          element.innerHTML = '';\n",
              "          dataTable['output_type'] = 'display_data';\n",
              "          await google.colab.output.renderOutput(dataTable, element);\n",
              "          const docLink = document.createElement('div');\n",
              "          docLink.innerHTML = docLinkHtml;\n",
              "          element.appendChild(docLink);\n",
              "        }\n",
              "      </script>\n",
              "    </div>\n",
              "  </div>\n",
              "  "
            ]
          },
          "metadata": {},
          "execution_count": 32
        }
      ]
    },
    {
      "cell_type": "code",
      "source": [
        "print(stock_predictions['label'].corr(stock_predictions['length']))"
      ],
      "metadata": {
        "colab": {
          "base_uri": "https://localhost:8080/"
        },
        "id": "0OJneHoQn9Q5",
        "outputId": "ac4d61ac-b4c2-4fb9-9dc7-b8ab0698b814"
      },
      "execution_count": null,
      "outputs": [
        {
          "output_type": "stream",
          "name": "stdout",
          "text": [
            "-0.012936539304544269\n"
          ]
        }
      ]
    },
    {
      "cell_type": "code",
      "source": [
        "sns.countplot(x='category', data=stock_predictions)"
      ],
      "metadata": {
        "colab": {
          "base_uri": "https://localhost:8080/",
          "height": 466
        },
        "id": "2UsUXcs9rzDu",
        "outputId": "6d615375-9d30-427f-cea9-02f3b7bf58f0"
      },
      "execution_count": null,
      "outputs": [
        {
          "output_type": "execute_result",
          "data": {
            "text/plain": [
              "<Axes: xlabel='category', ylabel='count'>"
            ]
          },
          "metadata": {},
          "execution_count": 34
        },
        {
          "output_type": "display_data",
          "data": {
            "text/plain": [
              "<Figure size 640x480 with 1 Axes>"
            ],
            "image/png": "[encoded data removed]"
          },
          "metadata": {}
        }
      ]
    },
    {
      "cell_type": "code",
      "source": [
        "!pip install text_hammer\n",
        "import text_hammer as th\n",
        "import warnings\n",
        "warnings.filterwarnings('ignore')"
      ],
      "metadata": {
        "colab": {
          "base_uri": "https://localhost:8080/"
        },
        "collapsed": true,
        "id": "RT1aQFi5pS7X",
        "outputId": "dc4000d8-f2f1-4cbf-bb97-82bf6aeaab3d"
      },
      "execution_count": null,
      "outputs": [
        {
          "output_type": "stream",
          "name": "stdout",
          "text": [
            "Looking in indexes: https://pypi.org/simple, https://us-python.pkg.dev/colab-wheels/public/simple/\n",
            "Requirement already satisfied: text_hammer in /usr/local/lib/python3.9/dist-packages (0.1.5)\n",
            "Requirement already satisfied: TextBlob in /usr/local/lib/python3.9/dist-packages (from text_hammer) (0.17.1)\n",
            "Requirement already satisfied: beautifulsoup4==4.9.1 in /usr/local/lib/python3.9/dist-packages (from text_hammer) (4.9.1)\n",
            "Requirement already satisfied: pandas in /usr/local/lib/python3.9/dist-packages (from text_hammer) (1.4.4)\n",
            "Requirement already satisfied: spacy in /usr/local/lib/python3.9/dist-packages (from text_hammer) (3.5.1)\n",
            "Requirement already satisfied: numpy in /usr/local/lib/python3.9/dist-packages (from text_hammer) (1.22.4)\n",
            "Requirement already satisfied: soupsieve>1.2 in /usr/local/lib/python3.9/dist-packages (from beautifulsoup4==4.9.1->text_hammer) (2.4)\n",
            "Requirement already satisfied: python-dateutil>=2.8.1 in /usr/local/lib/python3.9/dist-packages (from pandas->text_hammer) (2.8.2)\n",
            "Requirement already satisfied: pytz>=2020.1 in /usr/local/lib/python3.9/dist-packages (from pandas->text_hammer) (2022.7.1)\n",
            "Requirement already satisfied: langcodes<4.0.0,>=3.2.0 in /usr/local/lib/python3.9/dist-packages (from spacy->text_hammer) (3.3.0)\n",
            "Requirement already satisfied: tqdm<5.0.0,>=4.38.0 in /usr/local/lib/python3.9/dist-packages (from spacy->text_hammer) (4.65.0)\n",
            "Requirement already satisfied: pathy>=0.10.0 in /usr/local/lib/python3.9/dist-packages (from spacy->text_hammer) (0.10.1)\n",
            "Requirement already satisfied: packaging>=20.0 in /usr/local/lib/python3.9/dist-packages (from spacy->text_hammer) (23.0)\n",
            "Requirement already satisfied: thinc<8.2.0,>=8.1.8 in /usr/local/lib/python3.9/dist-packages (from spacy->text_hammer) (8.1.9)\n",
            "Requirement already satisfied: preshed<3.1.0,>=3.0.2 in /usr/local/lib/python3.9/dist-packages (from spacy->text_hammer) (3.0.8)\n",
            "Requirement already satisfied: spacy-legacy<3.1.0,>=3.0.11 in /usr/local/lib/python3.9/dist-packages (from spacy->text_hammer) (3.0.12)\n",
            "Requirement already satisfied: wasabi<1.2.0,>=0.9.1 in /usr/local/lib/python3.9/dist-packages (from spacy->text_hammer) (1.1.1)\n",
            "Requirement already satisfied: murmurhash<1.1.0,>=0.28.0 in /usr/local/lib/python3.9/dist-packages (from spacy->text_hammer) (1.0.9)\n",
            "Requirement already satisfied: requests<3.0.0,>=2.13.0 in /usr/local/lib/python3.9/dist-packages (from spacy->text_hammer) (2.27.1)\n",
            "Requirement already satisfied: srsly<3.0.0,>=2.4.3 in /usr/local/lib/python3.9/dist-packages (from spacy->text_hammer) (2.4.6)\n",
            "Requirement already satisfied: smart-open<7.0.0,>=5.2.1 in /usr/local/lib/python3.9/dist-packages (from spacy->text_hammer) (6.3.0)\n",
            "Requirement already satisfied: catalogue<2.1.0,>=2.0.6 in /usr/local/lib/python3.9/dist-packages (from spacy->text_hammer) (2.0.8)\n",
            "Requirement already satisfied: spacy-loggers<2.0.0,>=1.0.0 in /usr/local/lib/python3.9/dist-packages (from spacy->text_hammer) (1.0.4)\n",
            "Requirement already satisfied: cymem<2.1.0,>=2.0.2 in /usr/local/lib/python3.9/dist-packages (from spacy->text_hammer) (2.0.7)\n",
            "Requirement already satisfied: typer<0.8.0,>=0.3.0 in /usr/local/lib/python3.9/dist-packages (from spacy->text_hammer) (0.7.0)\n",
            "Requirement already satisfied: jinja2 in /usr/local/lib/python3.9/dist-packages (from spacy->text_hammer) (3.1.2)\n",
            "Requirement already satisfied: setuptools in /usr/local/lib/python3.9/dist-packages (from spacy->text_hammer) (67.6.1)\n",
            "Requirement already satisfied: pydantic!=1.8,!=1.8.1,<1.11.0,>=1.7.4 in /usr/local/lib/python3.9/dist-packages (from spacy->text_hammer) (1.10.7)\n",
            "Requirement already satisfied: nltk>=3.1 in /usr/local/lib/python3.9/dist-packages (from TextBlob->text_hammer) (3.8.1)\n",
            "Requirement already satisfied: regex>=2021.8.3 in /usr/local/lib/python3.9/dist-packages (from nltk>=3.1->TextBlob->text_hammer) (2022.10.31)\n",
            "Requirement already satisfied: joblib in /usr/local/lib/python3.9/dist-packages (from nltk>=3.1->TextBlob->text_hammer) (1.1.1)\n",
            "Requirement already satisfied: click in /usr/local/lib/python3.9/dist-packages (from nltk>=3.1->TextBlob->text_hammer) (8.1.3)\n",
            "Requirement already satisfied: typing-extensions>=4.2.0 in /usr/local/lib/python3.9/dist-packages (from pydantic!=1.8,!=1.8.1,<1.11.0,>=1.7.4->spacy->text_hammer) (4.5.0)\n",
            "Requirement already satisfied: six>=1.5 in /usr/local/lib/python3.9/dist-packages (from python-dateutil>=2.8.1->pandas->text_hammer) (1.16.0)\n",
            "Requirement already satisfied: certifi>=2017.4.17 in /usr/local/lib/python3.9/dist-packages (from requests<3.0.0,>=2.13.0->spacy->text_hammer) (2022.12.7)\n",
            "Requirement already satisfied: urllib3<1.27,>=1.21.1 in /usr/local/lib/python3.9/dist-packages (from requests<3.0.0,>=2.13.0->spacy->text_hammer) (1.26.15)\n",
            "Requirement already satisfied: charset-normalizer~=2.0.0 in /usr/local/lib/python3.9/dist-packages (from requests<3.0.0,>=2.13.0->spacy->text_hammer) (2.0.12)\n",
            "Requirement already satisfied: idna<4,>=2.5 in /usr/local/lib/python3.9/dist-packages (from requests<3.0.0,>=2.13.0->spacy->text_hammer) (3.4)\n",
            "Requirement already satisfied: blis<0.8.0,>=0.7.8 in /usr/local/lib/python3.9/dist-packages (from thinc<8.2.0,>=8.1.8->spacy->text_hammer) (0.7.9)\n",
            "Requirement already satisfied: confection<1.0.0,>=0.0.1 in /usr/local/lib/python3.9/dist-packages (from thinc<8.2.0,>=8.1.8->spacy->text_hammer) (0.0.4)\n",
            "Requirement already satisfied: MarkupSafe>=2.0 in /usr/local/lib/python3.9/dist-packages (from jinja2->spacy->text_hammer) (2.1.2)\n"
          ]
        }
      ]
    },
    {
      "cell_type": "code",
      "source": [
        "content = stock_predictions['content'].copy()[:]\n",
        "content = content.to_list()\n",
        "content = list(map(lambda x: x.lower(), content))\n",
        "#content = list(map(lambda x: th.cont_exp(x), content))\n",
        "content = list(map(lambda x: th.remove_emails(x), content))\n",
        "content = list(map(lambda x: th.remove_emails(x), content))\n",
        "content = list(map(lambda x: th.remove_html_tags(x),content))\n",
        "content = list(map(lambda x: th.remove_stopwords(x), content))\n",
        "content = list(map(lambda x: th.remove_special_chars(x), content))\n",
        "content = list(map(lambda x: th.remove_accented_chars(x), content))\n",
        "#content = list(map(lambda x: th.make_base(x), content))"
      ],
      "metadata": {
        "id": "Y1ITh6R4phSP"
      },
      "execution_count": null,
      "outputs": []
    },
    {
      "cell_type": "code",
      "source": [
        "content[:1]"
      ],
      "metadata": {
        "colab": {
          "base_uri": "https://localhost:8080/"
        },
        "id": "hIGJrdZvqTs9",
        "outputId": "788458a5-1daa-4409-8488-9ebf9601f371"
      },
      "execution_count": null,
      "outputs": [
        {
          "output_type": "execute_result",
          "data": {
            "text/plain": [
              "['technology giant apple nasdaq aapl set release quarter fiscal 2020 results jan 28 market close apple accounts 19 total market capitalization entire technology sector s p 500 index worth taking look fundamentals ahead quarterly results apple hitting record highs lately returned 28 past months par industry s gain momentum expected continue company beats estimates soon reported quarter read inside methodologyapple zacks rank 2 buy 4 08 according methodology combination positive earnings esp zacks rank 1 strong buy 2 buy 3 hold increases chances earnings beat uncover best stocks buy sell reported apple saw positive earnings estimate revision couple cents past 30 days fiscal quarter analysts raising estimates right earnings date information possible pretty good indicator stock additionally company strong track record positive earnings surprise delivered average positive earnings surprise 3 64 trailing quarters zacks consensus estimate indicates modest year year increase 8 37 earnings 4 07 revenues apple inc price consensus eps surprise aapl solid momentum score b value growth score d c respectively stock belongs ranked zacks industry according analysts polled zacks 65 analysts provided strong buy buy rating apple ahead earnings price target 302 19 s hot analysts betting solid holiday quarter based strong sales iphone 11 apple watch airpods wireless earbuds raised price targets stock ahead q1 earnings etfs focusetfs having highest allocation tech titan focus going earnings announcement etfs space apple 10 holdings highlighted ones apple second firm double digit allocation select sector spdr technology etf fund aum 28 5 billion zacks etf rank 1 strong buy apple makes 20 1 assets read msci information technology index etf tsxv ftec fund zacks etf rank 1 aum 3 5 billion apple 18 9 allocation vanguard information technology etf hn vgt aum 27 6 billion sports zacks etf rank 1 aapl takes 18 5 share read ishares dow jones technology etf fund amassed 5 1 billion asset base carries zacks etf rank 1 apple accounts 18 assets ishares global tech etf product accumulated 3 4 billion asset base apple accounts 16 allocation want key etf info delivered straight inbox zacks free fund newsletter brief news analysis performing etfs week']"
            ]
          },
          "metadata": {},
          "execution_count": 37
        }
      ]
    },
    {
      "cell_type": "code",
      "source": [
        "pairs = []\n",
        "for doc in tqdm(content):\n",
        "  pairs.extend(nltk.word_tokenize(doc))\n",
        "freq = nltk.FreqDist(pairs)\n",
        "freq.most_common(10)"
      ],
      "metadata": {
        "colab": {
          "base_uri": "https://localhost:8080/",
          "height": 223,
          "referenced_widgets": [
            "5671bd87bc7e4a44b38d909fcca07176",
            "65543c4c331a4a1d91c1e1e17b7dda28",
            "4111db31d8434114aa180eb4deb6141e",
            "253b4dfff40840b0ad9bc1d0ffd0516d",
            "e87a5ec2d0584765a44f2e96cd2eb5ab",
            "85701e22ac554084a3739c0033a3dff9",
            "8dddc4bb0dd645c4a986e2d54b4163db",
            "9cc8bd001be843648281f91746f8e441",
            "42ae377c9b0649d6a2049f1166981341",
            "34c19985dc6b4a25b34f4ffa76037196",
            "08ddecfb60a44a42b925d15cb6ea4c5f"
          ]
        },
        "id": "pazku4turU_1",
        "outputId": "41ad9ef3-8e92-415f-e3d6-32db1207b0e0"
      },
      "execution_count": null,
      "outputs": [
        {
          "output_type": "display_data",
          "data": {
            "text/plain": [
              "  0%|          | 0/5000 [00:00<?, ?it/s]"
            ],
            "application/vnd.jupyter.widget-view+json": {
              "version_major": 2,
              "version_minor": 0,
              "model_id": "5671bd87bc7e4a44b38d909fcca07176"
            }
          },
          "metadata": {}
        },
        {
          "output_type": "execute_result",
          "data": {
            "text/plain": [
              "[('s', 45038),\n",
              " ('year', 20504),\n",
              " ('1', 17975),\n",
              " ('zacks', 16417),\n",
              " ('company', 15933),\n",
              " ('nasdaq', 13406),\n",
              " ('apple', 13389),\n",
              " ('earnings', 12955),\n",
              " ('2', 12104),\n",
              " ('3', 11472)]"
            ]
          },
          "metadata": {},
          "execution_count": 38
        }
      ]
    },
    {
      "cell_type": "code",
      "source": [
        "words_df = pd.DataFrame(freq.most_common(10),  columns=['word', 'count'])\n",
        "sns.barplot(x='word',y='count',data= words_df)\n",
        "plt.title(\"Top 10 words\")\n",
        "plt.show()"
      ],
      "metadata": {
        "colab": {
          "base_uri": "https://localhost:8080/",
          "height": 472
        },
        "id": "M-Gfmdaasdji",
        "outputId": "31500ce4-ad6c-4d69-d7bc-acaddd04b44f"
      },
      "execution_count": null,
      "outputs": [
        {
          "output_type": "display_data",
          "data": {
            "text/plain": [
              "<Figure size 640x480 with 1 Axes>"
            ],
            "image/png": "[encoded data removed]"
          },
          "metadata": {}
        }
      ]
    },
    {
      "cell_type": "code",
      "source": [
        "from sklearn.model_selection import train_test_split\n",
        "#from keras.utils.all_utils import to_categorical\n",
        "from keras.utils import to_categorical\n",
        "Y = to_categorical(stock_predictions['label'])\n",
        "X = content.copy()\n",
        "X_train, X_test, Y_train, Y_test = train_test_split(X, Y, test_size=0.3, stratify=Y, random_state=42)"
      ],
      "metadata": {
        "id": "y69l8rfktWjq"
      },
      "execution_count": null,
      "outputs": []
    },
    {
      "cell_type": "code",
      "source": [
        "from keras.preprocessing.text import Tokenizer\n",
        "num_words = 40000\n",
        "tokenizer = Tokenizer(num_words, lower=True)\n",
        "df_total = pd.concat([pd.Series(X_train), pd.Series(X_test)], axis=0)\n",
        "tokenizer.fit_on_texts(df_total)"
      ],
      "metadata": {
        "id": "Cqkof6p0ttnO"
      },
      "execution_count": null,
      "outputs": []
    },
    {
      "cell_type": "code",
      "source": [
        "from keras.utils import pad_sequences\n",
        "\n",
        "X_train_ =tokenizer.texts_to_sequences(X_train)\n",
        "X_train_pad=pad_sequences(X_train_,maxlen=400,padding='post')\n",
        "X_test_ = tokenizer.texts_to_sequences(X_test)\n",
        "X_test_pad = pad_sequences(X_test_, maxlen = 400, padding = 'post')"
      ],
      "metadata": {
        "id": "0aINm3hnvaRL"
      },
      "execution_count": null,
      "outputs": []
    },
    {
      "cell_type": "code",
      "source": [
        "print(X_train_pad.shape,X_test_pad.shape)"
      ],
      "metadata": {
        "colab": {
          "base_uri": "https://localhost:8080/"
        },
        "id": "Mof3aCDsvmUt",
        "outputId": "ec6847d2-0402-490d-f753-9039dfd71e58"
      },
      "execution_count": null,
      "outputs": [
        {
          "output_type": "stream",
          "name": "stdout",
          "text": [
            "(3500, 400) (1500, 400)\n"
          ]
        }
      ]
    },
    {
      "cell_type": "code",
      "source": [
        "from keras.models import Sequential\n",
        "from keras.layers import LSTM, Dense, Bidirectional, Embedding, Dropout"
      ],
      "metadata": {
        "id": "iCqkgln1wlQ0"
      },
      "execution_count": null,
      "outputs": []
    },
    {
      "cell_type": "code",
      "source": [
        "lstm_ffnn = Sequential()\n",
        "lstm_ffnn.add(Embedding(input_dim=num_words, output_dim=100, input_length=X_train_pad.shape[1]))\n",
        "lstm_ffnn.add(Dropout(0.2))\n",
        "lstm_ffnn.add(Bidirectional(LSTM(128, return_sequences=False)))\n",
        "lstm_ffnn.add(Dropout(0.2))\n",
        "lstm_ffnn.add(Dense(64, activation='tanh'))\n",
        "lstm_ffnn.add(Dense(32, activation='tanh'))\n",
        "lstm_ffnn.add(Dense(2, activation='sigmoid'))"
      ],
      "metadata": {
        "id": "rdl0_OPawxxl"
      },
      "execution_count": null,
      "outputs": []
    },
    {
      "cell_type": "code",
      "source": [
        "lstm_ffnn.compile(optimizer='adam', loss='binary_crossentropy', metrics=['accuracy'])"
      ],
      "metadata": {
        "id": "COqnRA4Ew0nE"
      },
      "execution_count": null,
      "outputs": []
    },
    {
      "cell_type": "code",
      "source": [
        "lstm_ffnn.summary()"
      ],
      "metadata": {
        "colab": {
          "base_uri": "https://localhost:8080/"
        },
        "id": "7TmI2hd3y2B-",
        "outputId": "85af7268-4e07-4e3a-860d-2fbb2d24eab3"
      },
      "execution_count": null,
      "outputs": [
        {
          "output_type": "stream",
          "name": "stdout",
          "text": [
            "Model: \"sequential_8\"\n",
            "_________________________________________________________________\n",
            " Layer (type)                Output Shape              Param #   \n",
            "=================================================================\n",
            " embedding_7 (Embedding)     (None, 400, 100)          4000000   \n",
            "                                                                 \n",
            " dropout_12 (Dropout)        (None, 400, 100)          0         \n",
            "                                                                 \n",
            " bidirectional_6 (Bidirectio  (None, 256)              234496    \n",
            " nal)                                                            \n",
            "                                                                 \n",
            " dropout_13 (Dropout)        (None, 256)               0         \n",
            "                                                                 \n",
            " dense_16 (Dense)            (None, 64)                16448     \n",
            "                                                                 \n",
            " dense_17 (Dense)            (None, 32)                2080      \n",
            "                                                                 \n",
            " dense_18 (Dense)            (None, 2)                 66        \n",
            "                                                                 \n",
            "=================================================================\n",
            "Total params: 4,253,090\n",
            "Trainable params: 4,253,090\n",
            "Non-trainable params: 0\n",
            "_________________________________________________________________\n"
          ]
        }
      ]
    },
    {
      "cell_type": "code",
      "source": [
        "from keras.callbacks import EarlyStopping, ModelCheckpoint\n",
        "es = EarlyStopping(monitor = 'val_loss', mode = 'min', verbose = 1, patience = 5)\n",
        "mc = ModelCheckpoint('./model.h5', monitor = 'val_accuracy', mode = 'max', verbose = 1, save_best_only = True)"
      ],
      "metadata": {
        "id": "D2S8oSDSy4Jr"
      },
      "execution_count": null,
      "outputs": []
    },
    {
      "cell_type": "code",
      "source": [
        "lstm_history = lstm_ffnn.fit(X_train_pad, Y_train, epochs = 5, batch_size = 64, validation_data=(X_test_pad, Y_test),verbose = 1, callbacks= [es, mc])"
      ],
      "metadata": {
        "colab": {
          "base_uri": "https://localhost:8080/"
        },
        "id": "8SdS66OFzHTM",
        "outputId": "a60b0226-ddc5-447d-b512-7e58fe9004b4"
      },
      "execution_count": null,
      "outputs": [
        {
          "output_type": "stream",
          "name": "stdout",
          "text": [
            "Epoch 1/5\n",
            "55/55 [==============================] - ETA: 0s - loss: 0.6922 - accuracy: 0.5297\n",
            "Epoch 1: val_accuracy improved from -inf to 0.50467, saving model to ./model.h5\n",
            "55/55 [==============================] - 132s 2s/step - loss: 0.6922 - accuracy: 0.5297 - val_loss: 0.6927 - val_accuracy: 0.5047\n",
            "Epoch 2/5\n",
            "55/55 [==============================] - ETA: 0s - loss: 0.7274 - accuracy: 0.5471\n",
            "Epoch 2: val_accuracy improved from 0.50467 to 0.52400, saving model to ./model.h5\n",
            "55/55 [==============================] - 80s 1s/step - loss: 0.7274 - accuracy: 0.5471 - val_loss: 0.6925 - val_accuracy: 0.5240\n",
            "Epoch 3/5\n",
            "55/55 [==============================] - ETA: 0s - loss: 0.6769 - accuracy: 0.5823\n",
            "Epoch 3: val_accuracy improved from 0.52400 to 0.52933, saving model to ./model.h5\n",
            "55/55 [==============================] - 81s 1s/step - loss: 0.6769 - accuracy: 0.5823 - val_loss: 0.6960 - val_accuracy: 0.5293\n",
            "Epoch 4/5\n",
            "55/55 [==============================] - ETA: 0s - loss: 0.5255 - accuracy: 0.7514\n",
            "Epoch 4: val_accuracy improved from 0.52933 to 0.53400, saving model to ./model.h5\n",
            "55/55 [==============================] - 81s 1s/step - loss: 0.5255 - accuracy: 0.7514 - val_loss: 0.8240 - val_accuracy: 0.5340\n",
            "Epoch 5/5\n",
            "55/55 [==============================] - ETA: 0s - loss: 0.2705 - accuracy: 0.8954\n",
            "Epoch 5: val_accuracy improved from 0.53400 to 0.53800, saving model to ./model.h5\n",
            "55/55 [==============================] - 81s 1s/step - loss: 0.2705 - accuracy: 0.8954 - val_loss: 1.1334 - val_accuracy: 0.5380\n"
          ]
        }
      ]
    },
    {
      "cell_type": "code",
      "source": [
        "plt.plot(lstm_history.history['accuracy'], label='Train Data')\n",
        "plt.plot(lstm_history.history['val_accuracy'], label='Test Data')\n",
        "plt.xlabel('Epoch')\n",
        "plt.ylabel('Accuracy')\n",
        "plt.legend(loc='best')\n",
        "plt.show()"
      ],
      "metadata": {
        "colab": {
          "base_uri": "https://localhost:8080/",
          "height": 449
        },
        "id": "ayhElXVqzVx7",
        "outputId": "e57770c7-b011-4ca7-f42a-78dd930e9e9e"
      },
      "execution_count": null,
      "outputs": [
        {
          "output_type": "display_data",
          "data": {
            "text/plain": [
              "<Figure size 640x480 with 1 Axes>"
            ],
            "image/png": "[encoded data removed]"
          },
          "metadata": {}
        }
      ]
    },
    {
      "cell_type": "code",
      "source": [],
      "metadata": {
        "id": "mu3_eZlJ6OK1"
      },
      "execution_count": null,
      "outputs": []
    }
  ]
}