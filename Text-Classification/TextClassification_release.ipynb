{
  "nbformat": 4,
  "nbformat_minor": 0,
  "metadata": {
    "colab": {
      "provenance": []
    },
    "kernelspec": {
      "name": "python3",
      "display_name": "Python 3"
    },
    "widgets": {
      "application/vnd.jupyter.widget-state+json": {
        "32ba3c3d65124576a6db3d615744f300": {
          "model_module": "@jupyter-widgets/controls",
          "model_name": "HBoxModel",
          "model_module_version": "1.5.0",
          "state": {
            "_dom_classes": [],
            "_model_module": "@jupyter-widgets/controls",
            "_model_module_version": "1.5.0",
            "_model_name": "HBoxModel",
            "_view_count": null,
            "_view_module": "@jupyter-widgets/controls",
            "_view_module_version": "1.5.0",
            "_view_name": "HBoxView",
            "box_style": "",
            "children": [
              "IPY_MODEL_4723333147124768a457910303589879",
              "IPY_MODEL_e493098d0e1040628b25e173f0eb5afb",
              "IPY_MODEL_9dbd1e755041479aa447dc42d1b61476"
            ],
            "layout": "IPY_MODEL_47448594735748a59c55d5fc32e32b58"
          }
        },
        "4723333147124768a457910303589879": {
          "model_module": "@jupyter-widgets/controls",
          "model_name": "HTMLModel",
          "model_module_version": "1.5.0",
          "state": {
            "_dom_classes": [],
            "_model_module": "@jupyter-widgets/controls",
            "_model_module_version": "1.5.0",
            "_model_name": "HTMLModel",
            "_view_count": null,
            "_view_module": "@jupyter-widgets/controls",
            "_view_module_version": "1.5.0",
            "_view_name": "HTMLView",
            "description": "",
            "description_tooltip": null,
            "layout": "IPY_MODEL_901b0be3fac34ef29280ac1fbf42e4d0",
            "placeholder": "​",
            "style": "IPY_MODEL_779c28c0ebac479296468f413f2f0f72",
            "value": "100%"
          }
        },
        "e493098d0e1040628b25e173f0eb5afb": {
          "model_module": "@jupyter-widgets/controls",
          "model_name": "FloatProgressModel",
          "model_module_version": "1.5.0",
          "state": {
            "_dom_classes": [],
            "_model_module": "@jupyter-widgets/controls",
            "_model_module_version": "1.5.0",
            "_model_name": "FloatProgressModel",
            "_view_count": null,
            "_view_module": "@jupyter-widgets/controls",
            "_view_module_version": "1.5.0",
            "_view_name": "ProgressView",
            "bar_style": "success",
            "description": "",
            "description_tooltip": null,
            "layout": "IPY_MODEL_7e4b9435461c40bd8fdd6747719e7540",
            "max": 7222,
            "min": 0,
            "orientation": "horizontal",
            "style": "IPY_MODEL_b019ac3745934aedb14ae2e8051d2e68",
            "value": 7222
          }
        },
        "9dbd1e755041479aa447dc42d1b61476": {
          "model_module": "@jupyter-widgets/controls",
          "model_name": "HTMLModel",
          "model_module_version": "1.5.0",
          "state": {
            "_dom_classes": [],
            "_model_module": "@jupyter-widgets/controls",
            "_model_module_version": "1.5.0",
            "_model_name": "HTMLModel",
            "_view_count": null,
            "_view_module": "@jupyter-widgets/controls",
            "_view_module_version": "1.5.0",
            "_view_name": "HTMLView",
            "description": "",
            "description_tooltip": null,
            "layout": "IPY_MODEL_659e39862d9a4e60977a500a99997e37",
            "placeholder": "​",
            "style": "IPY_MODEL_f3ec5e68d2a6496ca599e8f4b424cec8",
            "value": " 7222/7222 [00:56&lt;00:00, 129.28it/s]"
          }
        },
        "47448594735748a59c55d5fc32e32b58": {
          "model_module": "@jupyter-widgets/base",
          "model_name": "LayoutModel",
          "model_module_version": "1.2.0",
          "state": {
            "_model_module": "@jupyter-widgets/base",
            "_model_module_version": "1.2.0",
            "_model_name": "LayoutModel",
            "_view_count": null,
            "_view_module": "@jupyter-widgets/base",
            "_view_module_version": "1.2.0",
            "_view_name": "LayoutView",
            "align_content": null,
            "align_items": null,
            "align_self": null,
            "border": null,
            "bottom": null,
            "display": null,
            "flex": null,
            "flex_flow": null,
            "grid_area": null,
            "grid_auto_columns": null,
            "grid_auto_flow": null,
            "grid_auto_rows": null,
            "grid_column": null,
            "grid_gap": null,
            "grid_row": null,
            "grid_template_areas": null,
            "grid_template_columns": null,
            "grid_template_rows": null,
            "height": null,
            "justify_content": null,
            "justify_items": null,
            "left": null,
            "margin": null,
            "max_height": null,
            "max_width": null,
            "min_height": null,
            "min_width": null,
            "object_fit": null,
            "object_position": null,
            "order": null,
            "overflow": null,
            "overflow_x": null,
            "overflow_y": null,
            "padding": null,
            "right": null,
            "top": null,
            "visibility": null,
            "width": null
          }
        },
        "901b0be3fac34ef29280ac1fbf42e4d0": {
          "model_module": "@jupyter-widgets/base",
          "model_name": "LayoutModel",
          "model_module_version": "1.2.0",
          "state": {
            "_model_module": "@jupyter-widgets/base",
            "_model_module_version": "1.2.0",
            "_model_name": "LayoutModel",
            "_view_count": null,
            "_view_module": "@jupyter-widgets/base",
            "_view_module_version": "1.2.0",
            "_view_name": "LayoutView",
            "align_content": null,
            "align_items": null,
            "align_self": null,
            "border": null,
            "bottom": null,
            "display": null,
            "flex": null,
            "flex_flow": null,
            "grid_area": null,
            "grid_auto_columns": null,
            "grid_auto_flow": null,
            "grid_auto_rows": null,
            "grid_column": null,
            "grid_gap": null,
            "grid_row": null,
            "grid_template_areas": null,
            "grid_template_columns": null,
            "grid_template_rows": null,
            "height": null,
            "justify_content": null,
            "justify_items": null,
            "left": null,
            "margin": null,
            "max_height": null,
            "max_width": null,
            "min_height": null,
            "min_width": null,
            "object_fit": null,
            "object_position": null,
            "order": null,
            "overflow": null,
            "overflow_x": null,
            "overflow_y": null,
            "padding": null,
            "right": null,
            "top": null,
            "visibility": null,
            "width": null
          }
        },
        "779c28c0ebac479296468f413f2f0f72": {
          "model_module": "@jupyter-widgets/controls",
          "model_name": "DescriptionStyleModel",
          "model_module_version": "1.5.0",
          "state": {
            "_model_module": "@jupyter-widgets/controls",
            "_model_module_version": "1.5.0",
            "_model_name": "DescriptionStyleModel",
            "_view_count": null,
            "_view_module": "@jupyter-widgets/base",
            "_view_module_version": "1.2.0",
            "_view_name": "StyleView",
            "description_width": ""
          }
        },
        "7e4b9435461c40bd8fdd6747719e7540": {
          "model_module": "@jupyter-widgets/base",
          "model_name": "LayoutModel",
          "model_module_version": "1.2.0",
          "state": {
            "_model_module": "@jupyter-widgets/base",
            "_model_module_version": "1.2.0",
            "_model_name": "LayoutModel",
            "_view_count": null,
            "_view_module": "@jupyter-widgets/base",
            "_view_module_version": "1.2.0",
            "_view_name": "LayoutView",
            "align_content": null,
            "align_items": null,
            "align_self": null,
            "border": null,
            "bottom": null,
            "display": null,
            "flex": null,
            "flex_flow": null,
            "grid_area": null,
            "grid_auto_columns": null,
            "grid_auto_flow": null,
            "grid_auto_rows": null,
            "grid_column": null,
            "grid_gap": null,
            "grid_row": null,
            "grid_template_areas": null,
            "grid_template_columns": null,
            "grid_template_rows": null,
            "height": null,
            "justify_content": null,
            "justify_items": null,
            "left": null,
            "margin": null,
            "max_height": null,
            "max_width": null,
            "min_height": null,
            "min_width": null,
            "object_fit": null,
            "object_position": null,
            "order": null,
            "overflow": null,
            "overflow_x": null,
            "overflow_y": null,
            "padding": null,
            "right": null,
            "top": null,
            "visibility": null,
            "width": null
          }
        },
        "b019ac3745934aedb14ae2e8051d2e68": {
          "model_module": "@jupyter-widgets/controls",
          "model_name": "ProgressStyleModel",
          "model_module_version": "1.5.0",
          "state": {
            "_model_module": "@jupyter-widgets/controls",
            "_model_module_version": "1.5.0",
            "_model_name": "ProgressStyleModel",
            "_view_count": null,
            "_view_module": "@jupyter-widgets/base",
            "_view_module_version": "1.2.0",
            "_view_name": "StyleView",
            "bar_color": null,
            "description_width": ""
          }
        },
        "659e39862d9a4e60977a500a99997e37": {
          "model_module": "@jupyter-widgets/base",
          "model_name": "LayoutModel",
          "model_module_version": "1.2.0",
          "state": {
            "_model_module": "@jupyter-widgets/base",
            "_model_module_version": "1.2.0",
            "_model_name": "LayoutModel",
            "_view_count": null,
            "_view_module": "@jupyter-widgets/base",
            "_view_module_version": "1.2.0",
            "_view_name": "LayoutView",
            "align_content": null,
            "align_items": null,
            "align_self": null,
            "border": null,
            "bottom": null,
            "display": null,
            "flex": null,
            "flex_flow": null,
            "grid_area": null,
            "grid_auto_columns": null,
            "grid_auto_flow": null,
            "grid_auto_rows": null,
            "grid_column": null,
            "grid_gap": null,
            "grid_row": null,
            "grid_template_areas": null,
            "grid_template_columns": null,
            "grid_template_rows": null,
            "height": null,
            "justify_content": null,
            "justify_items": null,
            "left": null,
            "margin": null,
            "max_height": null,
            "max_width": null,
            "min_height": null,
            "min_width": null,
            "object_fit": null,
            "object_position": null,
            "order": null,
            "overflow": null,
            "overflow_x": null,
            "overflow_y": null,
            "padding": null,
            "right": null,
            "top": null,
            "visibility": null,
            "width": null
          }
        },
        "f3ec5e68d2a6496ca599e8f4b424cec8": {
          "model_module": "@jupyter-widgets/controls",
          "model_name": "DescriptionStyleModel",
          "model_module_version": "1.5.0",
          "state": {
            "_model_module": "@jupyter-widgets/controls",
            "_model_module_version": "1.5.0",
            "_model_name": "DescriptionStyleModel",
            "_view_count": null,
            "_view_module": "@jupyter-widgets/base",
            "_view_module_version": "1.2.0",
            "_view_name": "StyleView",
            "description_width": ""
          }
        },
        "c5d5348c388b46d6accaca3e4a45d567": {
          "model_module": "@jupyter-widgets/controls",
          "model_name": "HBoxModel",
          "model_module_version": "1.5.0",
          "state": {
            "_dom_classes": [],
            "_model_module": "@jupyter-widgets/controls",
            "_model_module_version": "1.5.0",
            "_model_name": "HBoxModel",
            "_view_count": null,
            "_view_module": "@jupyter-widgets/controls",
            "_view_module_version": "1.5.0",
            "_view_name": "HBoxView",
            "box_style": "",
            "children": [
              "IPY_MODEL_196e2f501e1a4891981eaf9126586278",
              "IPY_MODEL_32dd36e36e614cbaad8cee83456d7729",
              "IPY_MODEL_0d716075872e42f0a67b8b9f8c254c92"
            ],
            "layout": "IPY_MODEL_33d67629ada14f0b90ea4da975b80fd5"
          }
        },
        "196e2f501e1a4891981eaf9126586278": {
          "model_module": "@jupyter-widgets/controls",
          "model_name": "HTMLModel",
          "model_module_version": "1.5.0",
          "state": {
            "_dom_classes": [],
            "_model_module": "@jupyter-widgets/controls",
            "_model_module_version": "1.5.0",
            "_model_name": "HTMLModel",
            "_view_count": null,
            "_view_module": "@jupyter-widgets/controls",
            "_view_module_version": "1.5.0",
            "_view_name": "HTMLView",
            "description": "",
            "description_tooltip": null,
            "layout": "IPY_MODEL_a778e29733014498b6981f1361ceffe6",
            "placeholder": "​",
            "style": "IPY_MODEL_a2d1291449544b36a3b3c1e2ad5079b2",
            "value": "100%"
          }
        },
        "32dd36e36e614cbaad8cee83456d7729": {
          "model_module": "@jupyter-widgets/controls",
          "model_name": "FloatProgressModel",
          "model_module_version": "1.5.0",
          "state": {
            "_dom_classes": [],
            "_model_module": "@jupyter-widgets/controls",
            "_model_module_version": "1.5.0",
            "_model_name": "FloatProgressModel",
            "_view_count": null,
            "_view_module": "@jupyter-widgets/controls",
            "_view_module_version": "1.5.0",
            "_view_name": "ProgressView",
            "bar_style": "success",
            "description": "",
            "description_tooltip": null,
            "layout": "IPY_MODEL_824dd4d016284ac991a820c8acbba910",
            "max": 7222,
            "min": 0,
            "orientation": "horizontal",
            "style": "IPY_MODEL_e434adb4ae0b473aa17b03de4d6b3e0b",
            "value": 7222
          }
        },
        "0d716075872e42f0a67b8b9f8c254c92": {
          "model_module": "@jupyter-widgets/controls",
          "model_name": "HTMLModel",
          "model_module_version": "1.5.0",
          "state": {
            "_dom_classes": [],
            "_model_module": "@jupyter-widgets/controls",
            "_model_module_version": "1.5.0",
            "_model_name": "HTMLModel",
            "_view_count": null,
            "_view_module": "@jupyter-widgets/controls",
            "_view_module_version": "1.5.0",
            "_view_name": "HTMLView",
            "description": "",
            "description_tooltip": null,
            "layout": "IPY_MODEL_93485abd81234fa093e4d300dbb95ab8",
            "placeholder": "​",
            "style": "IPY_MODEL_632e53872448406098a8e7074fc48652",
            "value": " 7222/7222 [00:55&lt;00:00, 128.10it/s]"
          }
        },
        "33d67629ada14f0b90ea4da975b80fd5": {
          "model_module": "@jupyter-widgets/base",
          "model_name": "LayoutModel",
          "model_module_version": "1.2.0",
          "state": {
            "_model_module": "@jupyter-widgets/base",
            "_model_module_version": "1.2.0",
            "_model_name": "LayoutModel",
            "_view_count": null,
            "_view_module": "@jupyter-widgets/base",
            "_view_module_version": "1.2.0",
            "_view_name": "LayoutView",
            "align_content": null,
            "align_items": null,
            "align_self": null,
            "border": null,
            "bottom": null,
            "display": null,
            "flex": null,
            "flex_flow": null,
            "grid_area": null,
            "grid_auto_columns": null,
            "grid_auto_flow": null,
            "grid_auto_rows": null,
            "grid_column": null,
            "grid_gap": null,
            "grid_row": null,
            "grid_template_areas": null,
            "grid_template_columns": null,
            "grid_template_rows": null,
            "height": null,
            "justify_content": null,
            "justify_items": null,
            "left": null,
            "margin": null,
            "max_height": null,
            "max_width": null,
            "min_height": null,
            "min_width": null,
            "object_fit": null,
            "object_position": null,
            "order": null,
            "overflow": null,
            "overflow_x": null,
            "overflow_y": null,
            "padding": null,
            "right": null,
            "top": null,
            "visibility": null,
            "width": null
          }
        },
        "a778e29733014498b6981f1361ceffe6": {
          "model_module": "@jupyter-widgets/base",
          "model_name": "LayoutModel",
          "model_module_version": "1.2.0",
          "state": {
            "_model_module": "@jupyter-widgets/base",
            "_model_module_version": "1.2.0",
            "_model_name": "LayoutModel",
            "_view_count": null,
            "_view_module": "@jupyter-widgets/base",
            "_view_module_version": "1.2.0",
            "_view_name": "LayoutView",
            "align_content": null,
            "align_items": null,
            "align_self": null,
            "border": null,
            "bottom": null,
            "display": null,
            "flex": null,
            "flex_flow": null,
            "grid_area": null,
            "grid_auto_columns": null,
            "grid_auto_flow": null,
            "grid_auto_rows": null,
            "grid_column": null,
            "grid_gap": null,
            "grid_row": null,
            "grid_template_areas": null,
            "grid_template_columns": null,
            "grid_template_rows": null,
            "height": null,
            "justify_content": null,
            "justify_items": null,
            "left": null,
            "margin": null,
            "max_height": null,
            "max_width": null,
            "min_height": null,
            "min_width": null,
            "object_fit": null,
            "object_position": null,
            "order": null,
            "overflow": null,
            "overflow_x": null,
            "overflow_y": null,
            "padding": null,
            "right": null,
            "top": null,
            "visibility": null,
            "width": null
          }
        },
        "a2d1291449544b36a3b3c1e2ad5079b2": {
          "model_module": "@jupyter-widgets/controls",
          "model_name": "DescriptionStyleModel",
          "model_module_version": "1.5.0",
          "state": {
            "_model_module": "@jupyter-widgets/controls",
            "_model_module_version": "1.5.0",
            "_model_name": "DescriptionStyleModel",
            "_view_count": null,
            "_view_module": "@jupyter-widgets/base",
            "_view_module_version": "1.2.0",
            "_view_name": "StyleView",
            "description_width": ""
          }
        },
        "824dd4d016284ac991a820c8acbba910": {
          "model_module": "@jupyter-widgets/base",
          "model_name": "LayoutModel",
          "model_module_version": "1.2.0",
          "state": {
            "_model_module": "@jupyter-widgets/base",
            "_model_module_version": "1.2.0",
            "_model_name": "LayoutModel",
            "_view_count": null,
            "_view_module": "@jupyter-widgets/base",
            "_view_module_version": "1.2.0",
            "_view_name": "LayoutView",
            "align_content": null,
            "align_items": null,
            "align_self": null,
            "border": null,
            "bottom": null,
            "display": null,
            "flex": null,
            "flex_flow": null,
            "grid_area": null,
            "grid_auto_columns": null,
            "grid_auto_flow": null,
            "grid_auto_rows": null,
            "grid_column": null,
            "grid_gap": null,
            "grid_row": null,
            "grid_template_areas": null,
            "grid_template_columns": null,
            "grid_template_rows": null,
            "height": null,
            "justify_content": null,
            "justify_items": null,
            "left": null,
            "margin": null,
            "max_height": null,
            "max_width": null,
            "min_height": null,
            "min_width": null,
            "object_fit": null,
            "object_position": null,
            "order": null,
            "overflow": null,
            "overflow_x": null,
            "overflow_y": null,
            "padding": null,
            "right": null,
            "top": null,
            "visibility": null,
            "width": null
          }
        },
        "e434adb4ae0b473aa17b03de4d6b3e0b": {
          "model_module": "@jupyter-widgets/controls",
          "model_name": "ProgressStyleModel",
          "model_module_version": "1.5.0",
          "state": {
            "_model_module": "@jupyter-widgets/controls",
            "_model_module_version": "1.5.0",
            "_model_name": "ProgressStyleModel",
            "_view_count": null,
            "_view_module": "@jupyter-widgets/base",
            "_view_module_version": "1.2.0",
            "_view_name": "StyleView",
            "bar_color": null,
            "description_width": ""
          }
        },
        "93485abd81234fa093e4d300dbb95ab8": {
          "model_module": "@jupyter-widgets/base",
          "model_name": "LayoutModel",
          "model_module_version": "1.2.0",
          "state": {
            "_model_module": "@jupyter-widgets/base",
            "_model_module_version": "1.2.0",
            "_model_name": "LayoutModel",
            "_view_count": null,
            "_view_module": "@jupyter-widgets/base",
            "_view_module_version": "1.2.0",
            "_view_name": "LayoutView",
            "align_content": null,
            "align_items": null,
            "align_self": null,
            "border": null,
            "bottom": null,
            "display": null,
            "flex": null,
            "flex_flow": null,
            "grid_area": null,
            "grid_auto_columns": null,
            "grid_auto_flow": null,
            "grid_auto_rows": null,
            "grid_column": null,
            "grid_gap": null,
            "grid_row": null,
            "grid_template_areas": null,
            "grid_template_columns": null,
            "grid_template_rows": null,
            "height": null,
            "justify_content": null,
            "justify_items": null,
            "left": null,
            "margin": null,
            "max_height": null,
            "max_width": null,
            "min_height": null,
            "min_width": null,
            "object_fit": null,
            "object_position": null,
            "order": null,
            "overflow": null,
            "overflow_x": null,
            "overflow_y": null,
            "padding": null,
            "right": null,
            "top": null,
            "visibility": null,
            "width": null
          }
        },
        "632e53872448406098a8e7074fc48652": {
          "model_module": "@jupyter-widgets/controls",
          "model_name": "DescriptionStyleModel",
          "model_module_version": "1.5.0",
          "state": {
            "_model_module": "@jupyter-widgets/controls",
            "_model_module_version": "1.5.0",
            "_model_name": "DescriptionStyleModel",
            "_view_count": null,
            "_view_module": "@jupyter-widgets/base",
            "_view_module_version": "1.2.0",
            "_view_name": "StyleView",
            "description_width": ""
          }
        },
        "774ac1ed7a924b0397c63c2fdb2396f4": {
          "model_module": "@jupyter-widgets/controls",
          "model_name": "HBoxModel",
          "model_module_version": "1.5.0",
          "state": {
            "_dom_classes": [],
            "_model_module": "@jupyter-widgets/controls",
            "_model_module_version": "1.5.0",
            "_model_name": "HBoxModel",
            "_view_count": null,
            "_view_module": "@jupyter-widgets/controls",
            "_view_module_version": "1.5.0",
            "_view_name": "HBoxView",
            "box_style": "",
            "children": [
              "IPY_MODEL_5a66fae7627a4a7bb1ef782f77ee3fbd",
              "IPY_MODEL_f519b4d29e32424aa225f00a7936d182",
              "IPY_MODEL_89826a7ddd604068990df32d75f972d9"
            ],
            "layout": "IPY_MODEL_cc8c2a31ba004375aa1debc980850d97"
          }
        },
        "5a66fae7627a4a7bb1ef782f77ee3fbd": {
          "model_module": "@jupyter-widgets/controls",
          "model_name": "HTMLModel",
          "model_module_version": "1.5.0",
          "state": {
            "_dom_classes": [],
            "_model_module": "@jupyter-widgets/controls",
            "_model_module_version": "1.5.0",
            "_model_name": "HTMLModel",
            "_view_count": null,
            "_view_module": "@jupyter-widgets/controls",
            "_view_module_version": "1.5.0",
            "_view_name": "HTMLView",
            "description": "",
            "description_tooltip": null,
            "layout": "IPY_MODEL_7be73370c50f4ba49e769f8de0dfbbf4",
            "placeholder": "​",
            "style": "IPY_MODEL_7e0df1fc1d464737849ed7d6bdfe7a02",
            "value": "100%"
          }
        },
        "f519b4d29e32424aa225f00a7936d182": {
          "model_module": "@jupyter-widgets/controls",
          "model_name": "FloatProgressModel",
          "model_module_version": "1.5.0",
          "state": {
            "_dom_classes": [],
            "_model_module": "@jupyter-widgets/controls",
            "_model_module_version": "1.5.0",
            "_model_name": "FloatProgressModel",
            "_view_count": null,
            "_view_module": "@jupyter-widgets/controls",
            "_view_module_version": "1.5.0",
            "_view_name": "ProgressView",
            "bar_style": "success",
            "description": "",
            "description_tooltip": null,
            "layout": "IPY_MODEL_c5a4e878a7144f57a8ea7e23859a357c",
            "max": 7222,
            "min": 0,
            "orientation": "horizontal",
            "style": "IPY_MODEL_f2ced9fb8b41416da602c3c05461b0c8",
            "value": 7222
          }
        },
        "89826a7ddd604068990df32d75f972d9": {
          "model_module": "@jupyter-widgets/controls",
          "model_name": "HTMLModel",
          "model_module_version": "1.5.0",
          "state": {
            "_dom_classes": [],
            "_model_module": "@jupyter-widgets/controls",
            "_model_module_version": "1.5.0",
            "_model_name": "HTMLModel",
            "_view_count": null,
            "_view_module": "@jupyter-widgets/controls",
            "_view_module_version": "1.5.0",
            "_view_name": "HTMLView",
            "description": "",
            "description_tooltip": null,
            "layout": "IPY_MODEL_c245a3deb4364630bfbe5095aef26a48",
            "placeholder": "​",
            "style": "IPY_MODEL_0012d24c6610462190c1706d729a391a",
            "value": " 7222/7222 [00:56&lt;00:00, 128.62it/s]"
          }
        },
        "cc8c2a31ba004375aa1debc980850d97": {
          "model_module": "@jupyter-widgets/base",
          "model_name": "LayoutModel",
          "model_module_version": "1.2.0",
          "state": {
            "_model_module": "@jupyter-widgets/base",
            "_model_module_version": "1.2.0",
            "_model_name": "LayoutModel",
            "_view_count": null,
            "_view_module": "@jupyter-widgets/base",
            "_view_module_version": "1.2.0",
            "_view_name": "LayoutView",
            "align_content": null,
            "align_items": null,
            "align_self": null,
            "border": null,
            "bottom": null,
            "display": null,
            "flex": null,
            "flex_flow": null,
            "grid_area": null,
            "grid_auto_columns": null,
            "grid_auto_flow": null,
            "grid_auto_rows": null,
            "grid_column": null,
            "grid_gap": null,
            "grid_row": null,
            "grid_template_areas": null,
            "grid_template_columns": null,
            "grid_template_rows": null,
            "height": null,
            "justify_content": null,
            "justify_items": null,
            "left": null,
            "margin": null,
            "max_height": null,
            "max_width": null,
            "min_height": null,
            "min_width": null,
            "object_fit": null,
            "object_position": null,
            "order": null,
            "overflow": null,
            "overflow_x": null,
            "overflow_y": null,
            "padding": null,
            "right": null,
            "top": null,
            "visibility": null,
            "width": null
          }
        },
        "7be73370c50f4ba49e769f8de0dfbbf4": {
          "model_module": "@jupyter-widgets/base",
          "model_name": "LayoutModel",
          "model_module_version": "1.2.0",
          "state": {
            "_model_module": "@jupyter-widgets/base",
            "_model_module_version": "1.2.0",
            "_model_name": "LayoutModel",
            "_view_count": null,
            "_view_module": "@jupyter-widgets/base",
            "_view_module_version": "1.2.0",
            "_view_name": "LayoutView",
            "align_content": null,
            "align_items": null,
            "align_self": null,
            "border": null,
            "bottom": null,
            "display": null,
            "flex": null,
            "flex_flow": null,
            "grid_area": null,
            "grid_auto_columns": null,
            "grid_auto_flow": null,
            "grid_auto_rows": null,
            "grid_column": null,
            "grid_gap": null,
            "grid_row": null,
            "grid_template_areas": null,
            "grid_template_columns": null,
            "grid_template_rows": null,
            "height": null,
            "justify_content": null,
            "justify_items": null,
            "left": null,
            "margin": null,
            "max_height": null,
            "max_width": null,
            "min_height": null,
            "min_width": null,
            "object_fit": null,
            "object_position": null,
            "order": null,
            "overflow": null,
            "overflow_x": null,
            "overflow_y": null,
            "padding": null,
            "right": null,
            "top": null,
            "visibility": null,
            "width": null
          }
        },
        "7e0df1fc1d464737849ed7d6bdfe7a02": {
          "model_module": "@jupyter-widgets/controls",
          "model_name": "DescriptionStyleModel",
          "model_module_version": "1.5.0",
          "state": {
            "_model_module": "@jupyter-widgets/controls",
            "_model_module_version": "1.5.0",
            "_model_name": "DescriptionStyleModel",
            "_view_count": null,
            "_view_module": "@jupyter-widgets/base",
            "_view_module_version": "1.2.0",
            "_view_name": "StyleView",
            "description_width": ""
          }
        },
        "c5a4e878a7144f57a8ea7e23859a357c": {
          "model_module": "@jupyter-widgets/base",
          "model_name": "LayoutModel",
          "model_module_version": "1.2.0",
          "state": {
            "_model_module": "@jupyter-widgets/base",
            "_model_module_version": "1.2.0",
            "_model_name": "LayoutModel",
            "_view_count": null,
            "_view_module": "@jupyter-widgets/base",
            "_view_module_version": "1.2.0",
            "_view_name": "LayoutView",
            "align_content": null,
            "align_items": null,
            "align_self": null,
            "border": null,
            "bottom": null,
            "display": null,
            "flex": null,
            "flex_flow": null,
            "grid_area": null,
            "grid_auto_columns": null,
            "grid_auto_flow": null,
            "grid_auto_rows": null,
            "grid_column": null,
            "grid_gap": null,
            "grid_row": null,
            "grid_template_areas": null,
            "grid_template_columns": null,
            "grid_template_rows": null,
            "height": null,
            "justify_content": null,
            "justify_items": null,
            "left": null,
            "margin": null,
            "max_height": null,
            "max_width": null,
            "min_height": null,
            "min_width": null,
            "object_fit": null,
            "object_position": null,
            "order": null,
            "overflow": null,
            "overflow_x": null,
            "overflow_y": null,
            "padding": null,
            "right": null,
            "top": null,
            "visibility": null,
            "width": null
          }
        },
        "f2ced9fb8b41416da602c3c05461b0c8": {
          "model_module": "@jupyter-widgets/controls",
          "model_name": "ProgressStyleModel",
          "model_module_version": "1.5.0",
          "state": {
            "_model_module": "@jupyter-widgets/controls",
            "_model_module_version": "1.5.0",
            "_model_name": "ProgressStyleModel",
            "_view_count": null,
            "_view_module": "@jupyter-widgets/base",
            "_view_module_version": "1.2.0",
            "_view_name": "StyleView",
            "bar_color": null,
            "description_width": ""
          }
        },
        "c245a3deb4364630bfbe5095aef26a48": {
          "model_module": "@jupyter-widgets/base",
          "model_name": "LayoutModel",
          "model_module_version": "1.2.0",
          "state": {
            "_model_module": "@jupyter-widgets/base",
            "_model_module_version": "1.2.0",
            "_model_name": "LayoutModel",
            "_view_count": null,
            "_view_module": "@jupyter-widgets/base",
            "_view_module_version": "1.2.0",
            "_view_name": "LayoutView",
            "align_content": null,
            "align_items": null,
            "align_self": null,
            "border": null,
            "bottom": null,
            "display": null,
            "flex": null,
            "flex_flow": null,
            "grid_area": null,
            "grid_auto_columns": null,
            "grid_auto_flow": null,
            "grid_auto_rows": null,
            "grid_column": null,
            "grid_gap": null,
            "grid_row": null,
            "grid_template_areas": null,
            "grid_template_columns": null,
            "grid_template_rows": null,
            "height": null,
            "justify_content": null,
            "justify_items": null,
            "left": null,
            "margin": null,
            "max_height": null,
            "max_width": null,
            "min_height": null,
            "min_width": null,
            "object_fit": null,
            "object_position": null,
            "order": null,
            "overflow": null,
            "overflow_x": null,
            "overflow_y": null,
            "padding": null,
            "right": null,
            "top": null,
            "visibility": null,
            "width": null
          }
        },
        "0012d24c6610462190c1706d729a391a": {
          "model_module": "@jupyter-widgets/controls",
          "model_name": "DescriptionStyleModel",
          "model_module_version": "1.5.0",
          "state": {
            "_model_module": "@jupyter-widgets/controls",
            "_model_module_version": "1.5.0",
            "_model_name": "DescriptionStyleModel",
            "_view_count": null,
            "_view_module": "@jupyter-widgets/base",
            "_view_module_version": "1.2.0",
            "_view_name": "StyleView",
            "description_width": ""
          }
        },
        "e6efd4859adb4ed38092d15afa23df25": {
          "model_module": "@jupyter-widgets/controls",
          "model_name": "HBoxModel",
          "model_module_version": "1.5.0",
          "state": {
            "_dom_classes": [],
            "_model_module": "@jupyter-widgets/controls",
            "_model_module_version": "1.5.0",
            "_model_name": "HBoxModel",
            "_view_count": null,
            "_view_module": "@jupyter-widgets/controls",
            "_view_module_version": "1.5.0",
            "_view_name": "HBoxView",
            "box_style": "",
            "children": [
              "IPY_MODEL_c77cfdb334fa4182b728ee7c20d9eb37",
              "IPY_MODEL_8c6de01c9fa345f580fa2700c303a000",
              "IPY_MODEL_24b192ff10594ea2a187dad47e240b24"
            ],
            "layout": "IPY_MODEL_3bd9a230960e4eb496e0733b5c5565b9"
          }
        },
        "c77cfdb334fa4182b728ee7c20d9eb37": {
          "model_module": "@jupyter-widgets/controls",
          "model_name": "HTMLModel",
          "model_module_version": "1.5.0",
          "state": {
            "_dom_classes": [],
            "_model_module": "@jupyter-widgets/controls",
            "_model_module_version": "1.5.0",
            "_model_name": "HTMLModel",
            "_view_count": null,
            "_view_module": "@jupyter-widgets/controls",
            "_view_module_version": "1.5.0",
            "_view_name": "HTMLView",
            "description": "",
            "description_tooltip": null,
            "layout": "IPY_MODEL_38b22cff4646452890bf925a3f787433",
            "placeholder": "​",
            "style": "IPY_MODEL_45f9c27b6d924cb7bef5fb59fc4fa5a6",
            "value": "100%"
          }
        },
        "8c6de01c9fa345f580fa2700c303a000": {
          "model_module": "@jupyter-widgets/controls",
          "model_name": "FloatProgressModel",
          "model_module_version": "1.5.0",
          "state": {
            "_dom_classes": [],
            "_model_module": "@jupyter-widgets/controls",
            "_model_module_version": "1.5.0",
            "_model_name": "FloatProgressModel",
            "_view_count": null,
            "_view_module": "@jupyter-widgets/controls",
            "_view_module_version": "1.5.0",
            "_view_name": "ProgressView",
            "bar_style": "success",
            "description": "",
            "description_tooltip": null,
            "layout": "IPY_MODEL_af08a6981fae44b5a61a5bbc9b1d95d1",
            "max": 7222,
            "min": 0,
            "orientation": "horizontal",
            "style": "IPY_MODEL_d06bbc96071b402684296ccb6b9b7375",
            "value": 7222
          }
        },
        "24b192ff10594ea2a187dad47e240b24": {
          "model_module": "@jupyter-widgets/controls",
          "model_name": "HTMLModel",
          "model_module_version": "1.5.0",
          "state": {
            "_dom_classes": [],
            "_model_module": "@jupyter-widgets/controls",
            "_model_module_version": "1.5.0",
            "_model_name": "HTMLModel",
            "_view_count": null,
            "_view_module": "@jupyter-widgets/controls",
            "_view_module_version": "1.5.0",
            "_view_name": "HTMLView",
            "description": "",
            "description_tooltip": null,
            "layout": "IPY_MODEL_2e70961855e4495782b899996551f6ae",
            "placeholder": "​",
            "style": "IPY_MODEL_863cd4473817453d9f714106ef421274",
            "value": " 7222/7222 [00:56&lt;00:00, 128.74it/s]"
          }
        },
        "3bd9a230960e4eb496e0733b5c5565b9": {
          "model_module": "@jupyter-widgets/base",
          "model_name": "LayoutModel",
          "model_module_version": "1.2.0",
          "state": {
            "_model_module": "@jupyter-widgets/base",
            "_model_module_version": "1.2.0",
            "_model_name": "LayoutModel",
            "_view_count": null,
            "_view_module": "@jupyter-widgets/base",
            "_view_module_version": "1.2.0",
            "_view_name": "LayoutView",
            "align_content": null,
            "align_items": null,
            "align_self": null,
            "border": null,
            "bottom": null,
            "display": null,
            "flex": null,
            "flex_flow": null,
            "grid_area": null,
            "grid_auto_columns": null,
            "grid_auto_flow": null,
            "grid_auto_rows": null,
            "grid_column": null,
            "grid_gap": null,
            "grid_row": null,
            "grid_template_areas": null,
            "grid_template_columns": null,
            "grid_template_rows": null,
            "height": null,
            "justify_content": null,
            "justify_items": null,
            "left": null,
            "margin": null,
            "max_height": null,
            "max_width": null,
            "min_height": null,
            "min_width": null,
            "object_fit": null,
            "object_position": null,
            "order": null,
            "overflow": null,
            "overflow_x": null,
            "overflow_y": null,
            "padding": null,
            "right": null,
            "top": null,
            "visibility": null,
            "width": null
          }
        },
        "38b22cff4646452890bf925a3f787433": {
          "model_module": "@jupyter-widgets/base",
          "model_name": "LayoutModel",
          "model_module_version": "1.2.0",
          "state": {
            "_model_module": "@jupyter-widgets/base",
            "_model_module_version": "1.2.0",
            "_model_name": "LayoutModel",
            "_view_count": null,
            "_view_module": "@jupyter-widgets/base",
            "_view_module_version": "1.2.0",
            "_view_name": "LayoutView",
            "align_content": null,
            "align_items": null,
            "align_self": null,
            "border": null,
            "bottom": null,
            "display": null,
            "flex": null,
            "flex_flow": null,
            "grid_area": null,
            "grid_auto_columns": null,
            "grid_auto_flow": null,
            "grid_auto_rows": null,
            "grid_column": null,
            "grid_gap": null,
            "grid_row": null,
            "grid_template_areas": null,
            "grid_template_columns": null,
            "grid_template_rows": null,
            "height": null,
            "justify_content": null,
            "justify_items": null,
            "left": null,
            "margin": null,
            "max_height": null,
            "max_width": null,
            "min_height": null,
            "min_width": null,
            "object_fit": null,
            "object_position": null,
            "order": null,
            "overflow": null,
            "overflow_x": null,
            "overflow_y": null,
            "padding": null,
            "right": null,
            "top": null,
            "visibility": null,
            "width": null
          }
        },
        "45f9c27b6d924cb7bef5fb59fc4fa5a6": {
          "model_module": "@jupyter-widgets/controls",
          "model_name": "DescriptionStyleModel",
          "model_module_version": "1.5.0",
          "state": {
            "_model_module": "@jupyter-widgets/controls",
            "_model_module_version": "1.5.0",
            "_model_name": "DescriptionStyleModel",
            "_view_count": null,
            "_view_module": "@jupyter-widgets/base",
            "_view_module_version": "1.2.0",
            "_view_name": "StyleView",
            "description_width": ""
          }
        },
        "af08a6981fae44b5a61a5bbc9b1d95d1": {
          "model_module": "@jupyter-widgets/base",
          "model_name": "LayoutModel",
          "model_module_version": "1.2.0",
          "state": {
            "_model_module": "@jupyter-widgets/base",
            "_model_module_version": "1.2.0",
            "_model_name": "LayoutModel",
            "_view_count": null,
            "_view_module": "@jupyter-widgets/base",
            "_view_module_version": "1.2.0",
            "_view_name": "LayoutView",
            "align_content": null,
            "align_items": null,
            "align_self": null,
            "border": null,
            "bottom": null,
            "display": null,
            "flex": null,
            "flex_flow": null,
            "grid_area": null,
            "grid_auto_columns": null,
            "grid_auto_flow": null,
            "grid_auto_rows": null,
            "grid_column": null,
            "grid_gap": null,
            "grid_row": null,
            "grid_template_areas": null,
            "grid_template_columns": null,
            "grid_template_rows": null,
            "height": null,
            "justify_content": null,
            "justify_items": null,
            "left": null,
            "margin": null,
            "max_height": null,
            "max_width": null,
            "min_height": null,
            "min_width": null,
            "object_fit": null,
            "object_position": null,
            "order": null,
            "overflow": null,
            "overflow_x": null,
            "overflow_y": null,
            "padding": null,
            "right": null,
            "top": null,
            "visibility": null,
            "width": null
          }
        },
        "d06bbc96071b402684296ccb6b9b7375": {
          "model_module": "@jupyter-widgets/controls",
          "model_name": "ProgressStyleModel",
          "model_module_version": "1.5.0",
          "state": {
            "_model_module": "@jupyter-widgets/controls",
            "_model_module_version": "1.5.0",
            "_model_name": "ProgressStyleModel",
            "_view_count": null,
            "_view_module": "@jupyter-widgets/base",
            "_view_module_version": "1.2.0",
            "_view_name": "StyleView",
            "bar_color": null,
            "description_width": ""
          }
        },
        "2e70961855e4495782b899996551f6ae": {
          "model_module": "@jupyter-widgets/base",
          "model_name": "LayoutModel",
          "model_module_version": "1.2.0",
          "state": {
            "_model_module": "@jupyter-widgets/base",
            "_model_module_version": "1.2.0",
            "_model_name": "LayoutModel",
            "_view_count": null,
            "_view_module": "@jupyter-widgets/base",
            "_view_module_version": "1.2.0",
            "_view_name": "LayoutView",
            "align_content": null,
            "align_items": null,
            "align_self": null,
            "border": null,
            "bottom": null,
            "display": null,
            "flex": null,
            "flex_flow": null,
            "grid_area": null,
            "grid_auto_columns": null,
            "grid_auto_flow": null,
            "grid_auto_rows": null,
            "grid_column": null,
            "grid_gap": null,
            "grid_row": null,
            "grid_template_areas": null,
            "grid_template_columns": null,
            "grid_template_rows": null,
            "height": null,
            "justify_content": null,
            "justify_items": null,
            "left": null,
            "margin": null,
            "max_height": null,
            "max_width": null,
            "min_height": null,
            "min_width": null,
            "object_fit": null,
            "object_position": null,
            "order": null,
            "overflow": null,
            "overflow_x": null,
            "overflow_y": null,
            "padding": null,
            "right": null,
            "top": null,
            "visibility": null,
            "width": null
          }
        },
        "863cd4473817453d9f714106ef421274": {
          "model_module": "@jupyter-widgets/controls",
          "model_name": "DescriptionStyleModel",
          "model_module_version": "1.5.0",
          "state": {
            "_model_module": "@jupyter-widgets/controls",
            "_model_module_version": "1.5.0",
            "_model_name": "DescriptionStyleModel",
            "_view_count": null,
            "_view_module": "@jupyter-widgets/base",
            "_view_module_version": "1.2.0",
            "_view_name": "StyleView",
            "description_width": ""
          }
        },
        "f7a4bfa9467d4b0fbfe570d86a52cb18": {
          "model_module": "@jupyter-widgets/controls",
          "model_name": "HBoxModel",
          "model_module_version": "1.5.0",
          "state": {
            "_dom_classes": [],
            "_model_module": "@jupyter-widgets/controls",
            "_model_module_version": "1.5.0",
            "_model_name": "HBoxModel",
            "_view_count": null,
            "_view_module": "@jupyter-widgets/controls",
            "_view_module_version": "1.5.0",
            "_view_name": "HBoxView",
            "box_style": "",
            "children": [
              "IPY_MODEL_c5bb204c029348508276fdbdbc6ac6c0",
              "IPY_MODEL_6a27cf82334b4595a07af248dc757a95",
              "IPY_MODEL_88f7ede74ad0489e8cee75384efcd50f"
            ],
            "layout": "IPY_MODEL_d54a887635fc4979a47d1f5ab2ef6182"
          }
        },
        "c5bb204c029348508276fdbdbc6ac6c0": {
          "model_module": "@jupyter-widgets/controls",
          "model_name": "HTMLModel",
          "model_module_version": "1.5.0",
          "state": {
            "_dom_classes": [],
            "_model_module": "@jupyter-widgets/controls",
            "_model_module_version": "1.5.0",
            "_model_name": "HTMLModel",
            "_view_count": null,
            "_view_module": "@jupyter-widgets/controls",
            "_view_module_version": "1.5.0",
            "_view_name": "HTMLView",
            "description": "",
            "description_tooltip": null,
            "layout": "IPY_MODEL_1cbe0a373a1646abb86985c44440a205",
            "placeholder": "​",
            "style": "IPY_MODEL_8574b92f2f0a40d2a05d5cb2ff5641d2",
            "value": "100%"
          }
        },
        "6a27cf82334b4595a07af248dc757a95": {
          "model_module": "@jupyter-widgets/controls",
          "model_name": "FloatProgressModel",
          "model_module_version": "1.5.0",
          "state": {
            "_dom_classes": [],
            "_model_module": "@jupyter-widgets/controls",
            "_model_module_version": "1.5.0",
            "_model_name": "FloatProgressModel",
            "_view_count": null,
            "_view_module": "@jupyter-widgets/controls",
            "_view_module_version": "1.5.0",
            "_view_name": "ProgressView",
            "bar_style": "success",
            "description": "",
            "description_tooltip": null,
            "layout": "IPY_MODEL_a8a46ea343a94c98945434bf42db34d3",
            "max": 7222,
            "min": 0,
            "orientation": "horizontal",
            "style": "IPY_MODEL_21df481298cc4ecb889bc41b0a406b73",
            "value": 7222
          }
        },
        "88f7ede74ad0489e8cee75384efcd50f": {
          "model_module": "@jupyter-widgets/controls",
          "model_name": "HTMLModel",
          "model_module_version": "1.5.0",
          "state": {
            "_dom_classes": [],
            "_model_module": "@jupyter-widgets/controls",
            "_model_module_version": "1.5.0",
            "_model_name": "HTMLModel",
            "_view_count": null,
            "_view_module": "@jupyter-widgets/controls",
            "_view_module_version": "1.5.0",
            "_view_name": "HTMLView",
            "description": "",
            "description_tooltip": null,
            "layout": "IPY_MODEL_8a907c9f669f4218a4f0320036e38be1",
            "placeholder": "​",
            "style": "IPY_MODEL_643a4140dae64dd38001bf942bc6a1fa",
            "value": " 7222/7222 [00:56&lt;00:00, 129.05it/s]"
          }
        },
        "d54a887635fc4979a47d1f5ab2ef6182": {
          "model_module": "@jupyter-widgets/base",
          "model_name": "LayoutModel",
          "model_module_version": "1.2.0",
          "state": {
            "_model_module": "@jupyter-widgets/base",
            "_model_module_version": "1.2.0",
            "_model_name": "LayoutModel",
            "_view_count": null,
            "_view_module": "@jupyter-widgets/base",
            "_view_module_version": "1.2.0",
            "_view_name": "LayoutView",
            "align_content": null,
            "align_items": null,
            "align_self": null,
            "border": null,
            "bottom": null,
            "display": null,
            "flex": null,
            "flex_flow": null,
            "grid_area": null,
            "grid_auto_columns": null,
            "grid_auto_flow": null,
            "grid_auto_rows": null,
            "grid_column": null,
            "grid_gap": null,
            "grid_row": null,
            "grid_template_areas": null,
            "grid_template_columns": null,
            "grid_template_rows": null,
            "height": null,
            "justify_content": null,
            "justify_items": null,
            "left": null,
            "margin": null,
            "max_height": null,
            "max_width": null,
            "min_height": null,
            "min_width": null,
            "object_fit": null,
            "object_position": null,
            "order": null,
            "overflow": null,
            "overflow_x": null,
            "overflow_y": null,
            "padding": null,
            "right": null,
            "top": null,
            "visibility": null,
            "width": null
          }
        },
        "1cbe0a373a1646abb86985c44440a205": {
          "model_module": "@jupyter-widgets/base",
          "model_name": "LayoutModel",
          "model_module_version": "1.2.0",
          "state": {
            "_model_module": "@jupyter-widgets/base",
            "_model_module_version": "1.2.0",
            "_model_name": "LayoutModel",
            "_view_count": null,
            "_view_module": "@jupyter-widgets/base",
            "_view_module_version": "1.2.0",
            "_view_name": "LayoutView",
            "align_content": null,
            "align_items": null,
            "align_self": null,
            "border": null,
            "bottom": null,
            "display": null,
            "flex": null,
            "flex_flow": null,
            "grid_area": null,
            "grid_auto_columns": null,
            "grid_auto_flow": null,
            "grid_auto_rows": null,
            "grid_column": null,
            "grid_gap": null,
            "grid_row": null,
            "grid_template_areas": null,
            "grid_template_columns": null,
            "grid_template_rows": null,
            "height": null,
            "justify_content": null,
            "justify_items": null,
            "left": null,
            "margin": null,
            "max_height": null,
            "max_width": null,
            "min_height": null,
            "min_width": null,
            "object_fit": null,
            "object_position": null,
            "order": null,
            "overflow": null,
            "overflow_x": null,
            "overflow_y": null,
            "padding": null,
            "right": null,
            "top": null,
            "visibility": null,
            "width": null
          }
        },
        "8574b92f2f0a40d2a05d5cb2ff5641d2": {
          "model_module": "@jupyter-widgets/controls",
          "model_name": "DescriptionStyleModel",
          "model_module_version": "1.5.0",
          "state": {
            "_model_module": "@jupyter-widgets/controls",
            "_model_module_version": "1.5.0",
            "_model_name": "DescriptionStyleModel",
            "_view_count": null,
            "_view_module": "@jupyter-widgets/base",
            "_view_module_version": "1.2.0",
            "_view_name": "StyleView",
            "description_width": ""
          }
        },
        "a8a46ea343a94c98945434bf42db34d3": {
          "model_module": "@jupyter-widgets/base",
          "model_name": "LayoutModel",
          "model_module_version": "1.2.0",
          "state": {
            "_model_module": "@jupyter-widgets/base",
            "_model_module_version": "1.2.0",
            "_model_name": "LayoutModel",
            "_view_count": null,
            "_view_module": "@jupyter-widgets/base",
            "_view_module_version": "1.2.0",
            "_view_name": "LayoutView",
            "align_content": null,
            "align_items": null,
            "align_self": null,
            "border": null,
            "bottom": null,
            "display": null,
            "flex": null,
            "flex_flow": null,
            "grid_area": null,
            "grid_auto_columns": null,
            "grid_auto_flow": null,
            "grid_auto_rows": null,
            "grid_column": null,
            "grid_gap": null,
            "grid_row": null,
            "grid_template_areas": null,
            "grid_template_columns": null,
            "grid_template_rows": null,
            "height": null,
            "justify_content": null,
            "justify_items": null,
            "left": null,
            "margin": null,
            "max_height": null,
            "max_width": null,
            "min_height": null,
            "min_width": null,
            "object_fit": null,
            "object_position": null,
            "order": null,
            "overflow": null,
            "overflow_x": null,
            "overflow_y": null,
            "padding": null,
            "right": null,
            "top": null,
            "visibility": null,
            "width": null
          }
        },
        "21df481298cc4ecb889bc41b0a406b73": {
          "model_module": "@jupyter-widgets/controls",
          "model_name": "ProgressStyleModel",
          "model_module_version": "1.5.0",
          "state": {
            "_model_module": "@jupyter-widgets/controls",
            "_model_module_version": "1.5.0",
            "_model_name": "ProgressStyleModel",
            "_view_count": null,
            "_view_module": "@jupyter-widgets/base",
            "_view_module_version": "1.2.0",
            "_view_name": "StyleView",
            "bar_color": null,
            "description_width": ""
          }
        },
        "8a907c9f669f4218a4f0320036e38be1": {
          "model_module": "@jupyter-widgets/base",
          "model_name": "LayoutModel",
          "model_module_version": "1.2.0",
          "state": {
            "_model_module": "@jupyter-widgets/base",
            "_model_module_version": "1.2.0",
            "_model_name": "LayoutModel",
            "_view_count": null,
            "_view_module": "@jupyter-widgets/base",
            "_view_module_version": "1.2.0",
            "_view_name": "LayoutView",
            "align_content": null,
            "align_items": null,
            "align_self": null,
            "border": null,
            "bottom": null,
            "display": null,
            "flex": null,
            "flex_flow": null,
            "grid_area": null,
            "grid_auto_columns": null,
            "grid_auto_flow": null,
            "grid_auto_rows": null,
            "grid_column": null,
            "grid_gap": null,
            "grid_row": null,
            "grid_template_areas": null,
            "grid_template_columns": null,
            "grid_template_rows": null,
            "height": null,
            "justify_content": null,
            "justify_items": null,
            "left": null,
            "margin": null,
            "max_height": null,
            "max_width": null,
            "min_height": null,
            "min_width": null,
            "object_fit": null,
            "object_position": null,
            "order": null,
            "overflow": null,
            "overflow_x": null,
            "overflow_y": null,
            "padding": null,
            "right": null,
            "top": null,
            "visibility": null,
            "width": null
          }
        },
        "643a4140dae64dd38001bf942bc6a1fa": {
          "model_module": "@jupyter-widgets/controls",
          "model_name": "DescriptionStyleModel",
          "model_module_version": "1.5.0",
          "state": {
            "_model_module": "@jupyter-widgets/controls",
            "_model_module_version": "1.5.0",
            "_model_name": "DescriptionStyleModel",
            "_view_count": null,
            "_view_module": "@jupyter-widgets/base",
            "_view_module_version": "1.2.0",
            "_view_name": "StyleView",
            "description_width": ""
          }
        }
      }
    },
    "accelerator": "GPU",
    "gpuClass": "standard"
  },
  "cells": [
    {
      "cell_type": "code",
      "metadata": {
        "id": "yj21IyLWKoxk"
      },
      "source": [
        "# Licensing Information:  You are free to use or extend this project for\n",
        "# educational purposes provided that (1) you do not distribute or publish\n",
        "# solutions, (2) you retain this notice, and (3) you provide clear\n",
        "# attribution to The Georgia Institute of Technology, including a link to https://aritter.github.io/CS-7650/\n",
        "\n",
        "# Attribution Information: This assignment was developed at The Georgia Institute of Technology\n",
        "# by Alan Ritter (alan.ritter@cc.gatech.edu)"
      ],
      "execution_count": 19,
      "outputs": []
    },
    {
      "cell_type": "markdown",
      "metadata": {
        "id": "KuoWLCBPu5-W"
      },
      "source": [
        "#Project \\#1: Text Classification\n",
        "\n",
        "In this assignment, you will implement the perceptron algorithm, and a simple, but competitive neural bag-of-words model, as described in [this paper](https://www.aclweb.org/anthology/P15-1162.pdf) for text classification.  You will train your models on a (provided) dataset of positive and negative movie reviews and report accuracy on a test set.\n",
        "\n",
        "In this notebook, we provide you with starter code to read in the data and evaluate the performance of your models.  After completing the instructions below, please follow the instructions at the end to submit your notebook and other files to Gradescope.\n",
        "\n",
        "Make sure to make a copy of this notebook, so your changes are saved."
      ]
    },
    {
      "cell_type": "markdown",
      "metadata": {
        "id": "J8ZlxhBdyX8j"
      },
      "source": [
        "#Download the dataset\n",
        "\n",
        "First you will need to download the IMDB dataset - to do this, simply run the cell below.  We have prepared a small version of the ACL IMDB dataset for you to use to help make your experiments faster.  The full dataset is available [here](https://ai.stanford.edu/~amaas/data/sentiment/), in case you are interested, but there is no need to use this for the assignment.\n",
        "\n",
        "Note that files downloaded in Colab are only saved temporariliy - if your session reconnects you will need to re-download the files.  In case you need persistent storage, you can mount your Google drive folder like so:\n",
        "\n",
        "```\n",
        "from google.colab import drive\n",
        "drive.mount('/content/drive')\n",
        "```\n",
        "\n",
        "You can also open a command line prompt by clicking on the shell icon on the left hand side of the page, and upload/download files from your local machine by clicking on the file icon."
      ]
    },
    {
      "cell_type": "code",
      "metadata": {
        "colab": {
          "base_uri": "https://localhost:8080/"
        },
        "id": "L9r9cSojEVnB",
        "outputId": "3008bca6-40af-4501-a52a-5509f87a3d46"
      },
      "source": [
        "#Download the data\n",
        "\n",
        "!wget -O aclImdb_small.tgz https://github.com/aritter/CS-7650-sp22/blob/master/slides/aclImdb_small.tgz?raw=true\n",
        "!tar xvzf aclImdb_small.tgz > /dev/null"
      ],
      "execution_count": 20,
      "outputs": [
        {
          "output_type": "stream",
          "name": "stdout",
          "text": [
            "--2023-01-30 21:47:24--  https://github.com/aritter/CS-7650-sp22/blob/master/slides/aclImdb_small.tgz?raw=true\n",
            "Resolving github.com (github.com)... 140.82.113.4\n",
            "Connecting to github.com (github.com)|140.82.113.4|:443... connected.\n",
            "HTTP request sent, awaiting response... 302 Found\n",
            "Location: https://github.com/aritter/CS-7650-sp22/raw/master/slides/aclImdb_small.tgz [following]\n",
            "--2023-01-30 21:47:24--  https://github.com/aritter/CS-7650-sp22/raw/master/slides/aclImdb_small.tgz\n",
            "Reusing existing connection to github.com:443.\n",
            "HTTP request sent, awaiting response... 302 Found\n",
            "Location: https://raw.githubusercontent.com/aritter/CS-7650-sp22/master/slides/aclImdb_small.tgz [following]\n",
            "--2023-01-30 21:47:25--  https://raw.githubusercontent.com/aritter/CS-7650-sp22/master/slides/aclImdb_small.tgz\n",
            "Resolving raw.githubusercontent.com (raw.githubusercontent.com)... 185.199.110.133, 185.199.111.133, 185.199.108.133, ...\n",
            "Connecting to raw.githubusercontent.com (raw.githubusercontent.com)|185.199.110.133|:443... connected.\n",
            "HTTP request sent, awaiting response... 200 OK\n",
            "Length: 9635749 (9.2M) [application/octet-stream]\n",
            "Saving to: ‘aclImdb_small.tgz’\n",
            "\n",
            "aclImdb_small.tgz   100%[===================>]   9.19M  --.-KB/s    in 0.09s   \n",
            "\n",
            "2023-01-30 21:47:25 (103 MB/s) - ‘aclImdb_small.tgz’ saved [9635749/9635749]\n",
            "\n"
          ]
        }
      ]
    },
    {
      "cell_type": "markdown",
      "metadata": {
        "id": "0HHaUKE61udd"
      },
      "source": [
        "# Converting text to numbers\n",
        "\n",
        "Below is some code we are providing you to read in the IMDB dataset, perform tokenization (using `nltk`), and convert words into indices.  Please don't modify this code in your submitted version.  We will provide example usage below."
      ]
    },
    {
      "cell_type": "code",
      "metadata": {
        "id": "wdnNfu4uH1yj",
        "colab": {
          "base_uri": "https://localhost:8080/"
        },
        "outputId": "b274dc34-1814-4787-9969-afb07526631a"
      },
      "source": [
        "import os\n",
        "import sys\n",
        "\n",
        "import nltk\n",
        "from nltk import word_tokenize\n",
        "nltk.download('punkt')\n",
        "import torch\n",
        "\n",
        "#Sparse matrix implementation\n",
        "from scipy.sparse import csr_matrix\n",
        "import numpy as np\n",
        "from collections import Counter\n",
        "\n",
        "np.random.seed(1)\n",
        "\n",
        "class Vocab:\n",
        "    def __init__(self, vocabFile=None):\n",
        "        self.locked = False\n",
        "        self.nextId = 0\n",
        "        self.word2id = {}\n",
        "        self.id2word = {}\n",
        "        if vocabFile:\n",
        "            for line in open(vocabFile):\n",
        "                line = line.rstrip('\\n')\n",
        "                (word, wid) = line.split('\\t')\n",
        "                self.word2id[word] = int(wid)\n",
        "                self.id2word[wid] = word\n",
        "                self.nextId = max(self.nextId, int(wid) + 1)\n",
        "\n",
        "    def GetID(self, word):\n",
        "        if not word in self.word2id:\n",
        "            if self.locked:\n",
        "                return -1        #UNK token is -1.\n",
        "            else:\n",
        "                self.word2id[word] = self.nextId\n",
        "                self.id2word[self.word2id[word]] = word\n",
        "                self.nextId += 1\n",
        "        return self.word2id[word]\n",
        "\n",
        "    def HasWord(self, word):\n",
        "        return self.word2id.has_key(word)\n",
        "\n",
        "    def HasId(self, wid):\n",
        "        return self.id2word.has_key(wid)\n",
        "\n",
        "    def GetWord(self, wid):\n",
        "        return self.id2word[wid]\n",
        "\n",
        "    def SaveVocab(self, vocabFile):\n",
        "        fOut = open(vocabFile, 'w')\n",
        "        for word in self.word2id.keys():\n",
        "            fOut.write(\"%s\\t%s\\n\" % (word, self.word2id[word]))\n",
        "\n",
        "    def GetVocabSize(self):\n",
        "        #return self.nextId-1\n",
        "        return self.nextId\n",
        "\n",
        "    def GetWords(self):\n",
        "        return self.word2id.keys()\n",
        "\n",
        "    def Lock(self):\n",
        "        self.locked = True\n",
        "\n",
        "class IMDBdata:\n",
        "    def __init__(self, directory, vocab=None):\n",
        "        \"\"\" Reads in data into sparse matrix format \"\"\"\n",
        "        pFiles = os.listdir(\"%s/pos\" % directory)\n",
        "        nFiles = os.listdir(\"%s/neg\" % directory)\n",
        "\n",
        "        if not vocab:\n",
        "            self.vocab = Vocab()\n",
        "        else:\n",
        "            self.vocab = vocab\n",
        "\n",
        "        #For csr_matrix (see http://docs.scipy.org/doc/scipy-0.15.1/reference/generated/scipy.sparse.csr_matrix.html#scipy.sparse.csr_matrix)\n",
        "        X_values = []\n",
        "        X_row_indices = []\n",
        "        X_col_indices = []\n",
        "        Y = []\n",
        "\n",
        "        XwordList = []\n",
        "        XfileList = []\n",
        "\n",
        "        #Read positive files\n",
        "        for i in range(len(pFiles)):\n",
        "            f = pFiles[i]\n",
        "            for line in open(\"%s/pos/%s\" % (directory, f)):\n",
        "                wordList   = [self.vocab.GetID(w.lower()) for w in word_tokenize(line) if self.vocab.GetID(w.lower()) >= 0]\n",
        "                XwordList.append(wordList)\n",
        "                XfileList.append(f)\n",
        "                wordCounts = Counter(wordList)\n",
        "                for (wordId, count) in wordCounts.items():\n",
        "                    if wordId >= 0:\n",
        "                        X_row_indices.append(i)\n",
        "                        X_col_indices.append(wordId)\n",
        "                        X_values.append(count)\n",
        "            Y.append(+1.0)\n",
        "\n",
        "        #Read negative files\n",
        "        for i in range(len(nFiles)):\n",
        "            f = nFiles[i]\n",
        "            for line in open(\"%s/neg/%s\" % (directory, f)):\n",
        "                wordList   = [self.vocab.GetID(w.lower()) for w in word_tokenize(line) if self.vocab.GetID(w.lower()) >= 0]\n",
        "                XwordList.append(wordList)\n",
        "                XfileList.append(f)\n",
        "                wordCounts = Counter(wordList)\n",
        "                for (wordId, count) in wordCounts.items():\n",
        "                    if wordId >= 0:\n",
        "                        X_row_indices.append(len(pFiles)+i)\n",
        "                        X_col_indices.append(wordId)\n",
        "                        X_values.append(count)\n",
        "            Y.append(-1.0)\n",
        "            \n",
        "        self.vocab.Lock()\n",
        "\n",
        "        #Create a sparse matrix in csr format\n",
        "        self.X = csr_matrix((X_values, (X_row_indices, X_col_indices)), shape=(max(X_row_indices)+1, self.vocab.GetVocabSize()))\n",
        "        self.Y = np.asarray(Y)\n",
        "\n",
        "        #Randomly shuffle\n",
        "        index = np.arange(self.X.shape[0])\n",
        "        np.random.shuffle(index)\n",
        "        self.X = self.X[index,:]\n",
        "        self.XwordList = [torch.LongTensor(XwordList[i]) for i in index]  #Two different sparse formats, csr and lists of IDs (XwordList).\n",
        "        self.XfileList = [XfileList[i] for i in index]\n",
        "        self.Y = self.Y[index]"
      ],
      "execution_count": 21,
      "outputs": [
        {
          "output_type": "stream",
          "name": "stderr",
          "text": [
            "[nltk_data] Downloading package punkt to /root/nltk_data...\n",
            "[nltk_data]   Package punkt is already up-to-date!\n"
          ]
        }
      ]
    },
    {
      "cell_type": "markdown",
      "metadata": {
        "id": "Cn1gvbW92h1V"
      },
      "source": [
        "The code below reads the train,dev and test data into memory.  This will take a minute or so.\n",
        "\n",
        "> Indented block\n",
        "\n"
      ]
    },
    {
      "cell_type": "code",
      "metadata": {
        "id": "WGp6dMNZEGoP"
      },
      "source": [
        "train = IMDBdata(\"aclImdb_small/train\")\n",
        "train.vocab.Lock()\n",
        "dev  = IMDBdata(\"aclImdb_small/dev\", vocab=train.vocab)\n",
        "test  = IMDBdata(\"aclImdb_small/test\", vocab=train.vocab)"
      ],
      "execution_count": 22,
      "outputs": []
    },
    {
      "cell_type": "markdown",
      "metadata": {
        "id": "R1pnYB3I22QJ"
      },
      "source": [
        "# Exploring the data\n",
        "\n",
        "Below are a few examples to help you get familiar with how the data is represented.  $X \\in \\mathbb{R}^{N \\times M}$ contains the design matrix and $Y \\in \\{+1,-1\\}^N$ contains the labels.  Because there are a large number of features in this representation ($X$ contains one column representing each unique word in the dataset), we are using a sparse matrix representation (Numpy's [csr_sparse](http://docs.scipy.org/doc/scipy-0.15.1/reference/generated/scipy.sparse.csr_matrix.html#scipy.sparse.csr_matrix)).  PyTorch doesn't have great support for sparse matrices...\n"
      ]
    },
    {
      "cell_type": "code",
      "metadata": {
        "colab": {
          "base_uri": "https://localhost:8080/"
        },
        "id": "idqR_DvV3USp",
        "outputId": "67e943de-87f1-4cab-b93d-fdf8a9d4a76d"
      },
      "source": [
        "# X contains the design matrix representing the training data.\n",
        "print(f\"Train.X has {train.X.shape[0]} rows and {train.X.shape[1]} columns.\")"
      ],
      "execution_count": 23,
      "outputs": [
        {
          "output_type": "stream",
          "name": "stdout",
          "text": [
            "Train.X has 7222 rows and 57202 columns.\n"
          ]
        }
      ]
    },
    {
      "cell_type": "code",
      "metadata": {
        "colab": {
          "base_uri": "https://localhost:8080/"
        },
        "id": "jY_jAvEl8O4V",
        "outputId": "5dd4ce31-b0b5-4bba-9d6e-0d70683305c2"
      },
      "source": [
        "# Labels\n",
        "train.Y"
      ],
      "execution_count": 24,
      "outputs": [
        {
          "output_type": "execute_result",
          "data": {
            "text/plain": [
              "array([-1., -1., -1., ..., -1.,  1., -1.])"
            ]
          },
          "metadata": {},
          "execution_count": 24
        }
      ]
    },
    {
      "cell_type": "code",
      "metadata": {
        "colab": {
          "base_uri": "https://localhost:8080/"
        },
        "id": "g5w0c8WA8ixA",
        "outputId": "27ee30de-dae5-43cc-fa90-cb6df034b2fd"
      },
      "source": [
        "# Let's count the frequency of every word appearing in the documents with negative sentiment:\n",
        "word_counts = np.array(train.X[train.Y == -1,:].sum(axis=0)).flatten()\n",
        "word_counts"
      ],
      "execution_count": 25,
      "outputs": [
        {
          "output_type": "execute_result",
          "data": {
            "text/plain": [
              "array([ 279,  102, 2536, ...,    1,    1,    1])"
            ]
          },
          "metadata": {},
          "execution_count": 25
        }
      ]
    },
    {
      "cell_type": "code",
      "metadata": {
        "colab": {
          "base_uri": "https://localhost:8080/"
        },
        "id": "sE67XmOn85lC",
        "outputId": "65349698-5a39-4dbb-8f0f-83fe189100cd"
      },
      "source": [
        "# Now, let's sort the words by frequency:\n",
        "sorted_words = list(reversed(np.argsort(word_counts)))\n",
        "sorted_words[0:10]"
      ],
      "execution_count": 26,
      "outputs": [
        {
          "output_type": "execute_result",
          "data": {
            "text/plain": [
              "[34, 40, 9, 31, 51, 37, 74, 105, 102, 104]"
            ]
          },
          "metadata": {},
          "execution_count": 26
        }
      ]
    },
    {
      "cell_type": "code",
      "metadata": {
        "colab": {
          "base_uri": "https://localhost:8080/"
        },
        "id": "d-YA01vB9IPw",
        "outputId": "5afcd805-a16b-4324-815e-a1a9f4400ca2"
      },
      "source": [
        "# What is the index of the most frequent word?\n",
        "sorted_words[0]"
      ],
      "execution_count": 27,
      "outputs": [
        {
          "output_type": "execute_result",
          "data": {
            "text/plain": [
              "34"
            ]
          },
          "metadata": {},
          "execution_count": 27
        }
      ]
    },
    {
      "cell_type": "code",
      "metadata": {
        "colab": {
          "base_uri": "https://localhost:8080/",
          "height": 35
        },
        "id": "QWIT_E1N9P-X",
        "outputId": "4473c801-5140-4db5-a53f-11b952085e8c"
      },
      "source": [
        "# Let's see what word that is:\n",
        "train.vocab.GetWord(sorted_words[0])"
      ],
      "execution_count": 28,
      "outputs": [
        {
          "output_type": "execute_result",
          "data": {
            "text/plain": [
              "'the'"
            ],
            "application/vnd.google.colaboratory.intrinsic+json": {
              "type": "string"
            }
          },
          "metadata": {},
          "execution_count": 28
        }
      ]
    },
    {
      "cell_type": "code",
      "metadata": {
        "colab": {
          "base_uri": "https://localhost:8080/"
        },
        "id": "aHTtRxDR9THA",
        "outputId": "27f2c9ab-c45e-4c19-f119-c611af2bc0ac"
      },
      "source": [
        "# What are the 10 most frequent words?\n",
        "[train.vocab.GetWord(sorted_words[x]) for x in range(10)]"
      ],
      "execution_count": 29,
      "outputs": [
        {
          "output_type": "execute_result",
          "data": {
            "text/plain": [
              "['the', ',', '.', 'a', 'and', 'to', 'of', '>', '<', '/']"
            ]
          },
          "metadata": {},
          "execution_count": 29
        }
      ]
    },
    {
      "cell_type": "markdown",
      "metadata": {
        "id": "wtY58U5Y9rNT"
      },
      "source": [
        "# Now it's time to write some code!\n",
        "\n",
        "# Basic Perceptron (10 points)\n",
        "\n",
        "Implement the perceptron classification algorithm (fill in the missing code marked with `TODO:` below).\n",
        "The only hyperparameter to tune is the number of iterations.\n",
        "Accuracy > 80% is acceptable."
      ]
    },
    {
      "cell_type": "code",
      "metadata": {
        "colab": {
          "base_uri": "https://localhost:8080/"
        },
        "id": "9_ZlositHwng",
        "outputId": "2c1e4b51-baee-47f9-c53c-c38eeaf8efcd"
      },
      "source": [
        "class Eval:\n",
        "    def __init__(self, pred, gold):\n",
        "        self.pred = pred\n",
        "        self.gold = gold\n",
        "        \n",
        "    def Accuracy(self):\n",
        "        return np.sum(np.equal(self.pred, self.gold)) / float(len(self.gold))\n",
        "\n",
        "class Perceptron:\n",
        "    def __init__(self, X, Y, N_ITERATIONS):\n",
        "        #TODO: Initalize parameters\n",
        "        self.X = X.toarray()\n",
        "        #self.X = np.append(self.X, np.ones((self.X.shape[0], 1)), axis = 1)\n",
        "        self.Y = Y\n",
        "        self.iters = N_ITERATIONS\n",
        "        #self.weights = np.zeros((X.shape[1] + 1))\n",
        "        self.weights = np.zeros((X.shape[1]))\n",
        "        self.avgs = np.zeros((X.shape[1]))\n",
        "        self.c = 1\n",
        "        self.b0 = 0\n",
        "        self.ba = 0\n",
        "        #self.weights[-1] = 0\n",
        "        self.Train(X,Y)\n",
        "\n",
        "    def ComputeAverageParameters(self):\n",
        "        #TODO: Compute average parameters (do this part last)\n",
        "        self.weights = (self.weights - (self.avgs / self.c))\n",
        "        self.b0 = (self.b0 - (self.ba / self.c))\n",
        "\n",
        "    def Train(self, X, Y):\n",
        "        #TODO: Estimate perceptron parameters\n",
        "        for iter in range(self.iters):\n",
        "          for row in range(X.shape[0]):\n",
        "            result = self.X[row] @ self.weights\n",
        "            result = result + self.b0\n",
        "            if (result <= 0 and self.Y[row] > 0) or (result >= 0 and self.Y[row] < 0):\n",
        "              self.weights = self.weights + (self.Y[row] * self.X[row])\n",
        "              self.b0 += self.Y[row]\n",
        "              self.avgs = self.avgs + ((self.c * self.Y[row]) * self.X[row])\n",
        "              self.ba += (self.c * self.Y[row])\n",
        "            self.c += 1\n",
        "            #if result <= 0 and self.Y[row] > 0:\n",
        "              #self.weights += self.X[row]\n",
        "            #elif result >= 0 and self.Y[row] < 0:\n",
        "              #self.weights -= self.X[row]\n",
        "        return None\n",
        "\n",
        "    def Predict(self, X):\n",
        "        #TODO: Implement perceptron classification\n",
        "        #print(self.weights)\n",
        "        predictions = []\n",
        "        for row in range(X.shape[0]):\n",
        "          #result = X[row] @ self.weights[:-1]\n",
        "          result = X[row] @ self.weights\n",
        "          result = result[0]\n",
        "          if result > 0:\n",
        "            predictions.append(1)\n",
        "          else:\n",
        "            predictions.append(-1)\n",
        "        predictions = np.asarray(predictions)\n",
        "        return predictions\n",
        "\n",
        "    def SavePredictions(self, data, outFile):\n",
        "        Y_pred = self.Predict(data.X)\n",
        "        fOut = open(outFile, 'w')\n",
        "        for i in range(len(data.XfileList)):\n",
        "          fOut.write(f\"{data.XfileList[i]}\\t{Y_pred[i]}\\n\")\n",
        "\n",
        "    def Eval(self, X_test, Y_test):\n",
        "        Y_pred = self.Predict(X_test)\n",
        "        ev = Eval(Y_pred, Y_test)\n",
        "        return ev.Accuracy()\n",
        "    \n",
        "ptron = Perceptron(train.X, train.Y, 10)\n",
        "#print(train.Y)\n",
        "ptron.ComputeAverageParameters()\n",
        "#print(dev.Y)\n",
        "print(ptron.Eval(dev.X, dev.Y))\n",
        "\n",
        "ptron.SavePredictions(test, 'test_pred_perceptron.txt')\n",
        "\n",
        "print(train.X.shape)\n",
        "print(test.X.shape)"
      ],
      "execution_count": 30,
      "outputs": [
        {
          "output_type": "stream",
          "name": "stdout",
          "text": [
            "0.8474347434743474\n",
            "(7222, 57202)\n",
            "(7222, 57202)\n"
          ]
        }
      ]
    },
    {
      "cell_type": "code",
      "source": [
        "# TODO: Print the 20 most positive and 20 most negative words\n",
        "def topk_words(model, k=20, positive=True):\n",
        "  predictions = []\n",
        "  weights = model.weights\n",
        "  weight_indices = np.argsort(weights)\n",
        "  if not positive:\n",
        "    return list(weight_indices[:k])\n",
        "  return list(weight_indices[-k:])\n",
        "\n",
        "positive = []\n",
        "for i in topk_words(ptron, 20, True):\n",
        "  positive.append(test.vocab.GetWord(i))\n",
        "\n",
        "negative = []\n",
        "for i in topk_words(ptron, 20, False):\n",
        "  negative.append(test.vocab.GetWord(i))\n",
        "\n",
        "\n",
        "print(\"20 Most Positive Words:\", positive)\n",
        "print(\"20 Most Negative Words:\", negative)"
      ],
      "metadata": {
        "colab": {
          "base_uri": "https://localhost:8080/"
        },
        "id": "Wg2gdiQT7J9x",
        "outputId": "8be56927-fc1b-4a92-d1f2-6690cc986c4f"
      },
      "execution_count": 31,
      "outputs": [
        {
          "output_type": "stream",
          "name": "stdout",
          "text": [
            "20 Most Positive Words: ['moving', 'entertaining', 'joseph', 'modesty', 'creepy', 'loved', 'highly', 'wonderful', 'definitely', 'atmosphere', 'titanic', 'our', 'brilliant', 'today', 'still', 'perfect', 'best', 'excellent', 'fun', 'great']\n",
            "20 Most Negative Words: ['worst', 'bad', 'waste', 'boring', 'poor', 'awful', 'stupid', 'dull', 'terrible', 'minutes', 'nothing', 'worse', 'ridiculous', 'plot', 'annoying', 'money', 'weak', '?', 'instead', 'poorly']\n"
          ]
        }
      ]
    },
    {
      "cell_type": "markdown",
      "metadata": {
        "id": "3rhcI8_MsfPF"
      },
      "source": [
        "# Parameter Averaging (5 points)\n",
        "\n",
        "Once your basic perceptron implementation is working, modify code to implement parameter averaging.  Instead of using parameters from the final iteration, $w_n$, to classify test examples, \n",
        "use the average of the parameters from every iteration, $\\frac{1}{N}\\sum_{i=1}^N w_i$.  A nice trick for doing this efficiently is described in section 2.1.1 of [Hal Daume's thesis](http://www.umiacs.umd.edu/~hal/docs/daume06thesis.pdf).  When you are done, save a copy of your predictions on the test set to turn in at the end (click on the file icon on the left side of the notebook).\n",
        "For this part, accuracy > 82% is acceptable.\n",
        "\n",
        "# Inspect Feature Weights (5 points)\n",
        "\n",
        "Modify the code block above to print out the 20 most positive and 20 most negative words in the vocabulary sorted by their learned weights according to your model.  This will require a bit of thought how to do because the words in each document have been converted to IDs (see examples above)."
      ]
    },
    {
      "cell_type": "markdown",
      "metadata": {
        "id": "we_vLQ5YRkJv"
      },
      "source": [
        "# Evaluate on the test set\n",
        "\n",
        "Once you are happy with your performance on the dev set, run the cell below to evaluate your performance on the test set.  Make sure to download the predictions of your model in `test_pred_perceptron.txt`."
      ]
    },
    {
      "cell_type": "code",
      "metadata": {
        "colab": {
          "base_uri": "https://localhost:8080/"
        },
        "id": "GY9wVRHPRkJ8",
        "outputId": "7065046d-cc3f-41cd-ff56-d834a0500231"
      },
      "source": [
        "print(ptron.Eval(test.X, test.Y))\n",
        "\n",
        "ptron.SavePredictions(test, 'test_pred_perceptron.txt')"
      ],
      "execution_count": 32,
      "outputs": [
        {
          "output_type": "stream",
          "name": "stdout",
          "text": [
            "0.8463029631680975\n"
          ]
        }
      ]
    },
    {
      "cell_type": "markdown",
      "metadata": {
        "id": "L2dykgBhuVvr"
      },
      "source": [
        "# PyTorch Introduction\n",
        "\n",
        "Take a look at the code below, which provides an example of how a simple neural network is capable of learning the XOR function (note that the perceptron cannot do this).  Refer to the PyTorch documentation [here](https://pytorch.org/docs/stable/index.html) for more information."
      ]
    },
    {
      "cell_type": "code",
      "metadata": {
        "colab": {
          "base_uri": "https://localhost:8080/"
        },
        "id": "18KP4ktWIQfy",
        "outputId": "672832cd-84cf-4e61-a452-fbf2ee96af35"
      },
      "source": [
        "import torch\n",
        "import torch.nn as nn\n",
        "from torch import optim\n",
        "import random\n",
        "import numpy as np\n",
        "\n",
        "#Define the computation graph; one layer hidden network\n",
        "class FFNN(nn.Module):\n",
        "    def __init__(self, dim_i, dim_h, dim_o):\n",
        "        super(FFNN, self).__init__()\n",
        "        self.V = nn.Linear(dim_i, dim_h)\n",
        "        self.g = nn.Tanh()\n",
        "        self.W = nn.Linear(dim_h, dim_o)\n",
        "        self.logSoftmax = nn.LogSoftmax(dim=0)\n",
        "\n",
        "    def forward(self, x):\n",
        "        return self.logSoftmax(self.W(self.g(self.V(x))))\n",
        "\n",
        "train_X = np.array([[0,0], [0,1], [1,0], [1,1]])\n",
        "train_Y = np.array([0,1,1,0])\n",
        "\n",
        "num_classes  = 2\n",
        "num_hidden   = 10\n",
        "num_features = 2\n",
        "\n",
        "ffnn = FFNN(num_features, num_hidden, num_classes)\n",
        "optimizer = optim.Adam(ffnn.parameters(), lr=0.1)\n",
        "\n",
        "for epoch in range(100):\n",
        "    total_loss = 0.0\n",
        "    #Randomly shuffle examples in each epoch\n",
        "    shuffled_i = list(range(0,len(train_Y)))\n",
        "    random.shuffle(shuffled_i)\n",
        "    for i in shuffled_i:\n",
        "        x        = torch.from_numpy(train_X[i]).float()\n",
        "        y_onehot = torch.zeros(num_classes)\n",
        "        y_onehot[train_Y[i]] = 1\n",
        "\n",
        "        ffnn.zero_grad()\n",
        "        logProbs = ffnn.forward(x)\n",
        "        loss = torch.neg(logProbs).dot(y_onehot)\n",
        "        total_loss += loss\n",
        "        \n",
        "        loss.backward()\n",
        "        optimizer.step()\n",
        "    if epoch % 10 == 0:    \n",
        "      print(\"loss on epoch %i: %f\" % (epoch, total_loss))\n",
        "\n",
        "#Evaluate on the training set:\n",
        "num_errors = 0\n",
        "for i in range(len(train_Y)):\n",
        "    x = torch.from_numpy(train_X[i]).float()\n",
        "    y = train_Y[i]\n",
        "    logProbs = ffnn.forward(x)\n",
        "    prediction = torch.argmax(logProbs)\n",
        "    if y != prediction:\n",
        "        num_errors += 1\n",
        "print(\"number of errors: %d\" % num_errors)"
      ],
      "execution_count": 33,
      "outputs": [
        {
          "output_type": "stream",
          "name": "stdout",
          "text": [
            "loss on epoch 0: 5.022645\n",
            "loss on epoch 10: 2.406272\n",
            "loss on epoch 20: 0.996671\n",
            "loss on epoch 30: 0.281815\n",
            "loss on epoch 40: 0.106813\n",
            "loss on epoch 50: 0.061957\n",
            "loss on epoch 60: 0.040605\n",
            "loss on epoch 70: 0.028907\n",
            "loss on epoch 80: 0.021566\n",
            "loss on epoch 90: 0.016655\n",
            "number of errors: 0\n"
          ]
        }
      ]
    },
    {
      "cell_type": "markdown",
      "metadata": {
        "id": "k4QDzv6OwlSO"
      },
      "source": [
        "# Neural Bag-of-Words (10 points)\n",
        "\n",
        "Your next task is to implement a neural bag-of-words baseline, NBOW-RAND, as described in [this paper](https://www.aclweb.org/anthology/P15-1162.pdf).  See section 2.1.  Note that the dataset we are using is a sample of the full IMDB dataset to make developing your solution easier, so your performance will be a bit lower than the numbers reported in the paper for the full dataset.\n",
        "\n",
        "# GPUs\n",
        "\n",
        "You probably want to use a GPU to enable faster training with larger word embeddings and hidden layers (the paper listed above uses 300 dimensions).\n",
        "\n",
        "Colab provides free access to GPUs, which will be useful for rest of the assignment.  To access a GPU, select `Runtime` from the menu at the top of the page, and then choose `Change Runtime Type`; under the `Hardware Accelerator` dropdown select `GPU`.  Note that the free version of Colab does have quotas on how much GPU can be used - you won't need to use a GPU for the first part of the assignment (implementing the Perceptron algorithm).\n",
        "\n",
        "You can check to make sure a GPU is available using the code below:"
      ]
    },
    {
      "cell_type": "code",
      "metadata": {
        "colab": {
          "base_uri": "https://localhost:8080/"
        },
        "id": "TLOCwLE5HEq0",
        "outputId": "0eb6f4df-fafc-4ae3-f2ca-d82908e696c1"
      },
      "source": [
        "gpu_info = !nvidia-smi\n",
        "gpu_info = '\\n'.join(gpu_info)\n",
        "if gpu_info.find('failed') >= 0:\n",
        "  print('Select the Runtime > \"Change runtime type\" menu to enable a GPU accelerator, ')\n",
        "  print('and then re-execute this cell.')\n",
        "else:\n",
        "  print(gpu_info)"
      ],
      "execution_count": 34,
      "outputs": [
        {
          "output_type": "stream",
          "name": "stdout",
          "text": [
            "Mon Jan 30 21:48:10 2023       \n",
            "+-----------------------------------------------------------------------------+\n",
            "| NVIDIA-SMI 510.47.03    Driver Version: 510.47.03    CUDA Version: 11.6     |\n",
            "|-------------------------------+----------------------+----------------------+\n",
            "| GPU  Name        Persistence-M| Bus-Id        Disp.A | Volatile Uncorr. ECC |\n",
            "| Fan  Temp  Perf  Pwr:Usage/Cap|         Memory-Usage | GPU-Util  Compute M. |\n",
            "|                               |                      |               MIG M. |\n",
            "|===============================+======================+======================|\n",
            "|   0  Tesla T4            Off  | 00000000:00:04.0 Off |                    0 |\n",
            "| N/A   74C    P0    34W /  70W |   1200MiB / 15360MiB |      0%      Default |\n",
            "|                               |                      |                  N/A |\n",
            "+-------------------------------+----------------------+----------------------+\n",
            "                                                                               \n",
            "+-----------------------------------------------------------------------------+\n",
            "| Processes:                                                                  |\n",
            "|  GPU   GI   CI        PID   Type   Process name                  GPU Memory |\n",
            "|        ID   ID                                                   Usage      |\n",
            "|=============================================================================|\n",
            "|    0   N/A  N/A      2018      C                                    1197MiB |\n",
            "+-----------------------------------------------------------------------------+\n"
          ]
        }
      ]
    },
    {
      "cell_type": "markdown",
      "metadata": {
        "id": "nCiewAPLG6lK"
      },
      "source": [
        "# Data format\n",
        "\n",
        "In addition to reading in the data in sparse matrix (Numpy CSR) format, which you used in your implementation of the perceptron algorithm, the data loading code above also reads it in another format in `train.XwordList`.  This contains a list of PyTorch arrays consisting of sequences of word IDs corresponding to the content of each document.  The documents in `train.XwordList` are presented in the same order as labels (`train.Y`).  For the next part of the assignment, you should work with the data in this new format, which is fairly standard for text data in neural networks.  See below for a few examples on how to access the data in this new format."
      ]
    },
    {
      "cell_type": "code",
      "metadata": {
        "colab": {
          "base_uri": "https://localhost:8080/"
        },
        "id": "ORUdEdld2ZLm",
        "outputId": "ddfaf079-e221-45ba-d7d9-31232fc87a6a"
      },
      "source": [
        "# Example of using XwordList\n",
        "\n",
        "print(\"Here is the first document:\")\n",
        "print(train.XwordList[0].tolist())\n",
        "\n",
        "print(\"After converting IDs to words:\")\n",
        "print([train.vocab.GetWord(x) for x in train.XwordList[0].tolist()])\n",
        "\n",
        "print(\"Here is the label:\")\n",
        "print(train.Y[0])"
      ],
      "execution_count": 35,
      "outputs": [
        {
          "output_type": "stream",
          "name": "stdout",
          "text": [
            "Here is the first document:\n",
            "[40357, 27311, 628, 708, 4207, 15, 290, 449, 788, 1098, 760, 15030, 1663, 102, 103, 104, 105, 102, 103, 104, 105, 70, 706, 12, 15, 140, 446, 11034, 9513, 4, 23778, 7, 40, 4, 677, 72, 34, 40358, 7, 40, 51, 4, 40359, 7, 40, 290, 706, 1519, 37, 36, 34, 3498, 15, 96, 290, 920, 99, 46, 10, 290, 106, 2611, 75, 80, 204, 37, 388, 163, 51, 144, 632, 8522, 15, 290, 920, 99, 46, 10, 290, 106, 2611, 75, 80, 204, 37, 1688, 40, 121, 353, 169, 9, 2346, 37, 715, 346, 203, 194, 74, 13141, 15, 5301, 194, 28, 7316, 34, 3141, 522, 34, 26, 370, 81, 40360, 110, 1098, 6274, 102, 103, 104, 105, 102, 103, 104, 105, 11, 403, 38, 15893, 26374, 40, 51, 12, 15, 290, 632, 58, 318, 134, 34, 129, 13, 9, 80, 106, 31, 1629, 37, 22, 31, 551, 67, 13186, 134, 31, 252, 15, 922, 11815, 140, 11815, 1045, 40, 51, 21975, 80, 475, 42, 31, 15819, 124, 4314, 51, 552, 230, 9, 460, 4166, 842, 787, 58, 447, 34, 13, 18, 336, 124, 40, 17, 447, 80, 106, 15818, 102, 103, 104, 105, 102, 103, 104, 105, 4208, 353, 40, 72, 1447, 35, 115, 58, 13640, 15, 131, 148, 144, 791, 713, 40360, 397, 164, 787, 245, 519, 203, 370, 2, 39, 9, 80, 106, 62, 321, 124, 15, 3, 200, 20, 80, 37, 34, 908, 649, 9]\n",
            "After converting IDs to words:\n",
            "['lorne', 'michaels', 'once', 'again', 'proves', 'that', 'he', 'has', 'absolutely', 'no', 'business', 'producing', 'movies.', '<', 'br', '/', '>', '<', 'br', '/', '>', 'you', \"'d\", 'think', 'that', 'after', 'such', 'dismal', 'flicks', '``', 'superstar', \"''\", ',', '``', 'night', 'at', 'the', 'roxbury', \"''\", ',', 'and', '``', 'coneheads', \"''\", ',', 'he', \"'d\", 'start', 'to', 'get', 'the', 'notion', 'that', 'maybe', 'he', 'does', \"n't\", 'know', 'what', 'he', \"'s\", 'doing', 'when', 'it', 'comes', 'to', 'movies', '(', 'and', 'many', 'would', 'argue', 'that', 'he', 'does', \"n't\", 'know', 'what', 'he', \"'s\", 'doing', 'when', 'it', 'comes', 'to', 'television', ',', 'as', 'well', ')', '.', 'trying', 'to', 'make', 'feature', 'films', 'out', 'of', 'skits', 'that', 'wore', 'out', 'their', 'welcome', 'the', 'third', 'time', 'the', 'were', 'done', 'on', 'snl', 'makes', 'no', 'sense.', '<', 'br', '/', '>', '<', 'br', '/', '>', 'i', 'personally', 'like', 'tim', 'meadows', ',', 'and', 'think', 'that', 'he', 'would', 'be', 'great', 'in', 'the', 'right', 'movie', '.', 'it', \"'s\", 'a', 'shame', 'to', 'see', 'a', 'talented', 'guy', 'wasted', 'in', 'a', 'film', 'that', 'features', 'unfunny', 'after', 'unfunny', 'situation', ',', 'and', 'caps', 'it', 'all', 'with', 'a', 'dreadfully', 'bad', 'song', 'and', 'dance', 'scene', '.', 'any', 'laughs', 'here', 'will', 'be', 'because', 'the', 'movie', 'is', 'so', 'bad', ',', 'not', 'because', 'it', \"'s\", 'funny.', '<', 'br', '/', '>', '<', 'br', '/', '>', 'oh', 'well', ',', 'at', 'least', 'we', 'can', 'be', 'thankful', 'that', 'there', 'are', 'many', 'other', 'tired', 'snl', 'characters', 'who', 'will', 'never', 'have', 'films', 'done', 'about', 'them', '.', 'it', \"'s\", 'just', 'too', 'bad', 'that', 'this', 'one', 'made', 'it', 'to', 'the', 'big', 'screen', '.']\n",
            "Here is the label:\n",
            "-1.0\n"
          ]
        }
      ]
    },
    {
      "cell_type": "markdown",
      "metadata": {
        "id": "DK2ImoAFBL7V"
      },
      "source": [
        "# Suggestions for getting started\n",
        "\n",
        "We recommend following a similar structure as the XOR example above, starting with an [Embedding Layer](https://pytorch.org/docs/stable/nn.html\\#embedding), a single hidden layer and [Adam optimizer.](https://pytorch.org/docs/stable/optim.html\\#torch.optim.Adam)\n",
        "Please refer to the Pytorch Documentation for more information as necessary.  You can use a batch size of one for this assignment, to simplify your implementation.\n",
        "Feel free to change the number of iterations and learning rate. For this part, accuracy > 83% is acceptable."
      ]
    },
    {
      "cell_type": "code",
      "metadata": {
        "colab": {
          "base_uri": "https://localhost:8080/",
          "height": 368,
          "referenced_widgets": [
            "32ba3c3d65124576a6db3d615744f300",
            "4723333147124768a457910303589879",
            "e493098d0e1040628b25e173f0eb5afb",
            "9dbd1e755041479aa447dc42d1b61476",
            "47448594735748a59c55d5fc32e32b58",
            "901b0be3fac34ef29280ac1fbf42e4d0",
            "779c28c0ebac479296468f413f2f0f72",
            "7e4b9435461c40bd8fdd6747719e7540",
            "b019ac3745934aedb14ae2e8051d2e68",
            "659e39862d9a4e60977a500a99997e37",
            "f3ec5e68d2a6496ca599e8f4b424cec8",
            "c5d5348c388b46d6accaca3e4a45d567",
            "196e2f501e1a4891981eaf9126586278",
            "32dd36e36e614cbaad8cee83456d7729",
            "0d716075872e42f0a67b8b9f8c254c92",
            "33d67629ada14f0b90ea4da975b80fd5",
            "a778e29733014498b6981f1361ceffe6",
            "a2d1291449544b36a3b3c1e2ad5079b2",
            "824dd4d016284ac991a820c8acbba910",
            "e434adb4ae0b473aa17b03de4d6b3e0b",
            "93485abd81234fa093e4d300dbb95ab8",
            "632e53872448406098a8e7074fc48652",
            "774ac1ed7a924b0397c63c2fdb2396f4",
            "5a66fae7627a4a7bb1ef782f77ee3fbd",
            "f519b4d29e32424aa225f00a7936d182",
            "89826a7ddd604068990df32d75f972d9",
            "cc8c2a31ba004375aa1debc980850d97",
            "7be73370c50f4ba49e769f8de0dfbbf4",
            "7e0df1fc1d464737849ed7d6bdfe7a02",
            "c5a4e878a7144f57a8ea7e23859a357c",
            "f2ced9fb8b41416da602c3c05461b0c8",
            "c245a3deb4364630bfbe5095aef26a48",
            "0012d24c6610462190c1706d729a391a",
            "e6efd4859adb4ed38092d15afa23df25",
            "c77cfdb334fa4182b728ee7c20d9eb37",
            "8c6de01c9fa345f580fa2700c303a000",
            "24b192ff10594ea2a187dad47e240b24",
            "3bd9a230960e4eb496e0733b5c5565b9",
            "38b22cff4646452890bf925a3f787433",
            "45f9c27b6d924cb7bef5fb59fc4fa5a6",
            "af08a6981fae44b5a61a5bbc9b1d95d1",
            "d06bbc96071b402684296ccb6b9b7375",
            "2e70961855e4495782b899996551f6ae",
            "863cd4473817453d9f714106ef421274",
            "f7a4bfa9467d4b0fbfe570d86a52cb18",
            "c5bb204c029348508276fdbdbc6ac6c0",
            "6a27cf82334b4595a07af248dc757a95",
            "88f7ede74ad0489e8cee75384efcd50f",
            "d54a887635fc4979a47d1f5ab2ef6182",
            "1cbe0a373a1646abb86985c44440a205",
            "8574b92f2f0a40d2a05d5cb2ff5641d2",
            "a8a46ea343a94c98945434bf42db34d3",
            "21df481298cc4ecb889bc41b0a406b73",
            "8a907c9f669f4218a4f0320036e38be1",
            "643a4140dae64dd38001bf942bc6a1fa"
          ]
        },
        "id": "Ex-40V7SMd6L",
        "outputId": "2ebb4693-0eca-40aa-a6ad-4107c2a91ee5"
      },
      "source": [
        "import tqdm\n",
        "\n",
        "class NBOW(nn.Module):\n",
        "    def __init__(self, VOCAB_SIZE, DIM_EMB=300, NUM_CLASSES=2):\n",
        "        super(NBOW, self).__init__()\n",
        "        self.NUM_CLASSES=NUM_CLASSES\n",
        "        #TODO: Initialize parameters.\n",
        "        self.embedding = nn.Embedding(VOCAB_SIZE, DIM_EMB)\n",
        "        self.layers = nn.Sequential(nn.Linear(DIM_EMB, NUM_CLASSES), nn.Softmax())\n",
        "\n",
        "    def forward(self, X):\n",
        "        #TODO: Implement forward computation.\n",
        "        fwd = self.embedding.forward(X)\n",
        "        avg = torch.mean(fwd, dim = 0)\n",
        "        return self.layers.forward(avg)\n",
        "\n",
        "def EvalNet(data, net):\n",
        "    num_correct = 0\n",
        "    Y = (data.Y + 1.0) / 2.0\n",
        "    X = data.XwordList\n",
        "    for i in range(len(X)):\n",
        "        logProbs = net.forward(X[i].to('cuda'))\n",
        "        pred = torch.argmax(logProbs)\n",
        "        if pred == Y[i]:\n",
        "            num_correct += 1\n",
        "    print(\"Accuracy: %s\" % (float(num_correct) / float(len(X))))\n",
        "\n",
        "def SavePredictions(data, outFile, net):\n",
        "    fOut = open(outFile, 'w')\n",
        "    for i in range(len(data.XwordList)):\n",
        "        logProbs = net.forward(data.XwordList[i].to('cuda'))\n",
        "        pred = torch.argmax(logProbs)\n",
        "        fOut.write(f\"{data.XfileList[i]}\\t{pred}\\n\")\n",
        "\n",
        "def Train(net, X, Y, n_iter, dev):\n",
        "    print(\"Start Training!\")\n",
        "    #TODO: initialize optimizer.\n",
        "    optimizer = torch.optim.Adam(net.parameters())\n",
        "    loss = nn.CrossEntropyLoss()\n",
        "    num_classes = len(set(Y))\n",
        "    for epoch in range(n_iter):\n",
        "        num_correct = 0\n",
        "        total_loss = 0.0\n",
        "        net.train()   #Put the network into training mode\n",
        "        for i in tqdm.notebook.tqdm(range(len(X))):\n",
        "            #TODO: compute gradients, do parameter update, compute loss.\n",
        "            predictions = net.forward(X[i].to('cuda'))\n",
        "            labels = np.zeros((num_classes))\n",
        "            labels[int(Y[i])] = 1\n",
        "            loss_step = loss(predictions, torch.from_numpy(labels).to('cuda'))\n",
        "            total_loss += loss_step\n",
        "            if torch.argmax(predictions) == int(Y[i]):\n",
        "              num_correct += 1\n",
        "            optimizer.zero_grad()\n",
        "            loss_step.backward()\n",
        "            optimizer.step()\n",
        "        net.eval()    #Switch to eval mode\n",
        "        print(f\"loss on epoch {epoch} = {total_loss}\")\n",
        "        EvalNet(dev, net)\n",
        "\n",
        "nbow = NBOW(train.vocab.GetVocabSize()).to('cuda')\n",
        "Train(nbow, train.XwordList, (train.Y + 1.0) / 2.0, 5, dev)"
      ],
      "execution_count": 36,
      "outputs": [
        {
          "output_type": "stream",
          "name": "stdout",
          "text": [
            "Start Training!\n"
          ]
        },
        {
          "output_type": "display_data",
          "data": {
            "text/plain": [
              "  0%|          | 0/7222 [00:00<?, ?it/s]"
            ],
            "application/vnd.jupyter.widget-view+json": {
              "version_major": 2,
              "version_minor": 0,
              "model_id": "32ba3c3d65124576a6db3d615744f300"
            }
          },
          "metadata": {}
        },
        {
          "output_type": "stream",
          "name": "stdout",
          "text": [
            "loss on epoch 0 = 3791.553429096937\n",
            "Accuracy: 0.8573357335733574\n"
          ]
        },
        {
          "output_type": "display_data",
          "data": {
            "text/plain": [
              "  0%|          | 0/7222 [00:00<?, ?it/s]"
            ],
            "application/vnd.jupyter.widget-view+json": {
              "version_major": 2,
              "version_minor": 0,
              "model_id": "c5d5348c388b46d6accaca3e4a45d567"
            }
          },
          "metadata": {}
        },
        {
          "output_type": "stream",
          "name": "stdout",
          "text": [
            "loss on epoch 1 = 2774.973852276802\n",
            "Accuracy: 0.8618361836183618\n"
          ]
        },
        {
          "output_type": "display_data",
          "data": {
            "text/plain": [
              "  0%|          | 0/7222 [00:00<?, ?it/s]"
            ],
            "application/vnd.jupyter.widget-view+json": {
              "version_major": 2,
              "version_minor": 0,
              "model_id": "774ac1ed7a924b0397c63c2fdb2396f4"
            }
          },
          "metadata": {}
        },
        {
          "output_type": "stream",
          "name": "stdout",
          "text": [
            "loss on epoch 2 = 2486.4897247850895\n",
            "Accuracy: 0.8591359135913591\n"
          ]
        },
        {
          "output_type": "display_data",
          "data": {
            "text/plain": [
              "  0%|          | 0/7222 [00:00<?, ?it/s]"
            ],
            "application/vnd.jupyter.widget-view+json": {
              "version_major": 2,
              "version_minor": 0,
              "model_id": "e6efd4859adb4ed38092d15afa23df25"
            }
          },
          "metadata": {}
        },
        {
          "output_type": "stream",
          "name": "stdout",
          "text": [
            "loss on epoch 3 = 2368.161631077528\n",
            "Accuracy: 0.8514851485148515\n"
          ]
        },
        {
          "output_type": "display_data",
          "data": {
            "text/plain": [
              "  0%|          | 0/7222 [00:00<?, ?it/s]"
            ],
            "application/vnd.jupyter.widget-view+json": {
              "version_major": 2,
              "version_minor": 0,
              "model_id": "f7a4bfa9467d4b0fbfe570d86a52cb18"
            }
          },
          "metadata": {}
        },
        {
          "output_type": "stream",
          "name": "stdout",
          "text": [
            "loss on epoch 4 = 2320.5885425806046\n",
            "Accuracy: 0.8501350135013501\n"
          ]
        }
      ]
    },
    {
      "cell_type": "markdown",
      "metadata": {
        "id": "Fka0q0f2QfVT"
      },
      "source": [
        "# Evaluate on the test set\n",
        "\n",
        "Once you are happy with your performance on the dev set, run the cell below to evaluate your performance on the test set.  Make sure to download the predictions of your model in `test_pred_nbow.txt`."
      ]
    },
    {
      "cell_type": "code",
      "metadata": {
        "colab": {
          "base_uri": "https://localhost:8080/"
        },
        "id": "s5N7dFX5Q3_R",
        "outputId": "8df9cf3e-5cad-4536-c43c-daabf9fa2d4d"
      },
      "source": [
        "EvalNet(test, nbow)\n",
        "SavePredictions(test, 'test_pred_nbow.txt', nbow)"
      ],
      "execution_count": 37,
      "outputs": [
        {
          "output_type": "stream",
          "name": "stdout",
          "text": [
            "Accuracy: 0.8461644973691498\n"
          ]
        }
      ]
    },
    {
      "cell_type": "markdown",
      "metadata": {
        "id": "uLry9u8kCAQM"
      },
      "source": [
        "# 1-D Convolutional Neural Networks (2 points - optional extra credit)\n",
        "\n",
        "The final task for this assignment is to implement a convolutional neural network for text classification similar to the CNN-rand baseline described by [Kim (2014)](https://www.aclweb.org/anthology/D14-1181.pdf).  We haven't covered CNNs in lecture yet, so this part is optional.  You should use the same data format as the NBOW model above, starting out with an [Embedding](https://pytorch.org/docs/stable/generated/torch.nn.Embedding.html) layer, followed by a [1-D convolution](https://pytorch.org/docs/stable/generated/torch.nn.Conv1d.html), a [max-pooling layer](https://pytorch.org/docs/stable/generated/torch.nn.MaxPool1d.html#torch.nn.MaxPool1d) and a [Dropout layer](https://pytorch.org/docs/stable/generated/torch.nn.Dropout.html).  You should be able to use the same `Train()` function you wrote above. Accuracy > 83% is acceptable."
      ]
    },
    {
      "cell_type": "code",
      "metadata": {
        "id": "-iY3QTL6Npdy"
      },
      "source": [
        "import torch.nn.functional as F\n",
        "\n",
        "class CNN(nn.Module):\n",
        "    def __init__(self, VOCAB_SIZE, DIM_EMB=300, NUM_CLASSES=2):\n",
        "        super(CNN, self).__init__()\n",
        "        self.NUM_CLASSES=NUM_CLASSES\n",
        "        #TODO: Initialize parameters.\n",
        "\n",
        "    def forward(self, X):\n",
        "        #TODO: Implement forward computation.\n",
        "        return torch.randn(self.NUM_CLASSES)\n",
        "\n",
        "cnn = CNN(train.vocab.GetVocabSize()).cuda()\n",
        "#Train(cnn, train.XwordList, (train.Y + 1.0) / 2.0, 5, dev)"
      ],
      "execution_count": 39,
      "outputs": []
    },
    {
      "cell_type": "markdown",
      "metadata": {
        "id": "6NB1kC0fTCWt"
      },
      "source": [
        "# Evaluate on the test set\n",
        "\n",
        "Once you are happy with your performance on the dev set, run the cell below to evaluate your performance on the test set.  Make sure to download the predictions of your model in `test_pred_nbow.txt`."
      ]
    },
    {
      "cell_type": "code",
      "metadata": {
        "colab": {
          "base_uri": "https://localhost:8080/"
        },
        "id": "lyrQ1Z76TCW9",
        "outputId": "1e3a63fb-c935-4eaf-8d1d-60ce231223cf"
      },
      "source": [
        "EvalNet(test, cnn)\n",
        "SavePredictions(test, 'test_pred_cnn.txt', cnn)"
      ],
      "execution_count": 40,
      "outputs": [
        {
          "output_type": "stream",
          "name": "stdout",
          "text": [
            "Accuracy: 0.49127665466629744\n"
          ]
        }
      ]
    },
    {
      "cell_type": "markdown",
      "metadata": {
        "id": "IcKYByOTDwKN"
      },
      "source": [
        "## Gradescope\n",
        "\n",
        "Gradescope allows you to add multiple files to your submission. Please submit this notebook along with the test set prediction:\n",
        "* test_pred_perceptron.txt\n",
        "* test_pred_nbow.txt\n",
        "* test_pred_cnn.txt (optional)\n",
        "* TextClassification_release.ipynb\n",
        "\n",
        "To download this notebook, go to `File > Download.ipynb`. You can download the predictions from Colab by clicking the folder icon on the left and finding them under Files. \n",
        "\n",
        "Please make sure that you name the files as specified above. You will be able to see the test set accuracy for your predictions. However, the final score will be assigned later based on accuracy and implementation. \n",
        "\n",
        "When submitting the .ipynb notebook, please make sure that all the cells run when executed in order starting from a fresh session. If the code doesn't take too long to run, you can re-run everything with `Runtime -> Restart and run all`\n",
        "\n",
        "You can submit multiple times before the deadline and choose the submission which you want to be graded by going to `Submission History` on gradescope.\n",
        "\n"
      ]
    },
    {
      "cell_type": "code",
      "metadata": {
        "id": "ll5P0dB-ny94"
      },
      "source": [],
      "execution_count": null,
      "outputs": []
    }
  ]
}